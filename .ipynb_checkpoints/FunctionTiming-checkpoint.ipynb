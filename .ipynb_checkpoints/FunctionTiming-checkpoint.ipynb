{
 "cells": [
  {
   "cell_type": "code",
   "execution_count": 2,
   "metadata": {
    "collapsed": true
   },
   "outputs": [],
   "source": [
    "import numpy as np\n",
    "from scipy.special import jv\n",
    "import copy\n",
    "from hamiltonian import hamiltonian_c, setup_scaled_H\n",
    "from numba import jit, autojit"
   ]
  },
  {
   "cell_type": "code",
   "execution_count": 529,
   "metadata": {
    "collapsed": false
   },
   "outputs": [],
   "source": [
    "def find_nmax(tot,m):\n",
    "    first = np.mod(tot - abs(m),2)\n",
    "    return (tot-abs(m)-first)/2+1\n",
    "\n",
    "\n",
    "def dbesj(x, alpha, n):\n",
    "    \"\"\"sequence of bessel functions where n is the number of elements of a\n",
    "    bessel function of J_(alpha + k -1)(x) where k = 1...n\n",
    "    \"\"\"\n",
    "    bessel_j = np.zeros(n+1)\n",
    "    i = 0\n",
    "    for k in range(1,n+1):\n",
    "        bessel_j[i] = jv(alpha + k -1, x)\n",
    "        i = i + 1\n",
    "    y = len([num for num in bessel_j if abs(num) < 1e-20])\n",
    "    return bessel_j, y\n",
    "\n",
    "\n",
    "def chebyshev_propagator(time_step, psi, n_tot, e, d):\n",
    "    \"\"\"propogate function with Chebyshev Propgation\"\"\"\n",
    "    epsilon = 1e-15\n",
    "    #estimate upper bound with asymptotic form\n",
    "    chebyshev_order = int(time_step) + 5\n",
    "    Y = 0.5 * np.e* time_step\n",
    "    X = (Y/chebyshev_order)**chebyshev_order/np.sqrt(2*np.pi*chebyshev_order)\n",
    "    while X > epsilon:\n",
    "        chebyshev_order = chebyshev_order + 10\n",
    "        X = (Y/chebyshev_order)**chebyshev_order / np.sqrt(2*np.pi*chebyshev_order)\n",
    "    #now compute the Bessel function\n",
    "    bessel_j, nz = dbesj(time_step,0,chebyshev_order+1)\n",
    "    #get the order of the polynomial, find index of first element less than epsilon\n",
    "    order = next(i[0] for i in enumerate(bessel_j) if abs(i[1]) < epsilon)+1\n",
    "    \n",
    "    #print('Number of Chebyshev polynomials', order)\n",
    "    \n",
    "    psi_minus1 = psi #make sure to copy over\n",
    "    psi_0 = hamiltonian_c(n_tot,psi_minus1,e,d)\n",
    "    phase = np.complex(0,-1)\n",
    "    cx = 2 * bessel_j[1] * phase\n",
    "    psi = np.multiply(psi,np.complex(bessel_j[0],0))\n",
    "    psi = np.add(np.multiply(cx,psi_0),psi)\n",
    "    for i in range(2,order):\n",
    "        phase = phase * np.complex(0,-1)\n",
    "        cx = 2 * bessel_j[i] * phase\n",
    "        psi_plus1 = hamiltonian_c(n_tot,psi_0,e,d)\n",
    "        psi_plus1 = np.multiply(psi_plus1, np.complex(2,0))\n",
    "        psi_plus1 = np.subtract(psi_plus1, psi_minus1)\n",
    "        psi = np.add(psi, np.multiply(cx, psi_plus1))\n",
    "        psi_minus1 = psi_0\n",
    "        psi_0 = psi_plus1\n",
    "        \n",
    "    return psi\n",
    "\n",
    "\n",
    "def new_chebyshev_propagator(time_step, psi, n_tot, e, d):\n",
    "    \"\"\"propogate function with Chebyshev Propgation\"\"\"\n",
    "    epsilon = 1e-15\n",
    "    #estimate upper bound with asymptotic form\n",
    "    chebyshev_order = int(time_step) + 5\n",
    "    Y = 0.5 * np.e* time_step\n",
    "    X = (Y/chebyshev_order)**chebyshev_order/np.sqrt(2*np.pi*chebyshev_order)\n",
    "    while X > epsilon:\n",
    "        chebyshev_order = chebyshev_order + 10\n",
    "        X = (Y/chebyshev_order)**chebyshev_order / np.sqrt(2*np.pi*chebyshev_order)\n",
    "    \n",
    "    #now compute the Bessel function\n",
    "    bessel_j, nz = dbesj(time_step,0,chebyshev_order+1)\n",
    "    #get the order of the polynomial, find index of first element less than epsilon\n",
    "    order = next(i[0] for i in enumerate(bessel_j) if abs(i[1]) < epsilon)+1\n",
    "    #print('Number of Chebyshev polynomials', order)\n",
    "    \n",
    "    psi_minus1 = psi #make sure to copy over\n",
    "    psi_0 = hamiltonian_c(n_tot,psi_minus1,e,d)\n",
    "    phase = np.complex(0,-1)\n",
    "    cx = 2 * bessel_j[1] * phase\n",
    "    psi = np.multiply(psi,np.complex(bessel_j[0],0))\n",
    "    psi = np.add(np.multiply(cx,psi_0),psi)\n",
    "    for i in range(2,order):\n",
    "        phase = phase * np.complex(0,-1)\n",
    "        cx = 2 * bessel_j[i] * phase\n",
    "        psi_plus1 = hamiltonian_c(n_tot,psi_0,e,d)\n",
    "        psi_plus1 = np.multiply(psi_plus1, np.complex(2,0))\n",
    "        psi_plus1 = np.subtract(psi_plus1, psi_minus1)\n",
    "        psi = np.add(psi, np.multiply(cx, psi_plus1))\n",
    "        psi_minus1 = psi_0\n",
    "        psi_0 = psi_plus1\n",
    "        \n",
    "    return psi\n",
    "        \n",
    "def evolve_chebyshev(psi,order,bessel_j,n_tot,e,d):\n",
    "    psi_minus1 = psi #make sure to copy over\n",
    "    psi_0 = hamiltonian_c(n_tot,psi_minus1,e,d)\n",
    "    phase = np.complex(0,-1)\n",
    "    cx = 2 * bessel_j[1] * phase\n",
    "    psi = np.multiply(psi,np.complex(bessel_j[0],0))\n",
    "    psi = np.add(np.multiply(cx,psi_0),psi)\n",
    "    for i in range(2,order):\n",
    "        phase = phase * np.complex(0,-1)\n",
    "        cx = 2 * bessel_j[i] * phase\n",
    "        psi_plus1 = hamiltonian_c(n_tot,psi_0,e,d)\n",
    "        psi_plus1 = np.multiply(psi_plus1, np.complex(2,0))\n",
    "        psi_plus1 = np.subtract(psi_plus1, psi_minus1)\n",
    "        psi = np.add(psi, np.multiply(cx, psi_plus1))\n",
    "        psi_minus1 = psi_0\n",
    "        psi_0 = psi_plus1\n",
    "\n"
   ]
  },
  {
   "cell_type": "code",
   "execution_count": 530,
   "metadata": {
    "collapsed": false
   },
   "outputs": [],
   "source": [
    "b_field = 0.0           #BField\n",
    "n_tot = 40000            #TotalAtomNumber\n",
    "m = -4                #Magnetization\n",
    "mag_range = 7         #MagRange\n",
    "atom_range = 40       #AtomRange\n",
    "spinor_phase = 0.0      #SpinorPhase\n",
    "n_0 = 39996              #N_0 numbers tarting in m=0\n",
    "c = 24             #C_init in Hz\n",
    "q = -2.5\n",
    "dt = .04/30"
   ]
  },
  {
   "cell_type": "code",
   "execution_count": 531,
   "metadata": {
    "collapsed": false
   },
   "outputs": [],
   "source": [
    "n_max = find_nmax(n_tot,m)\n",
    "in_w = np.zeros(n_max, dtype = complex)\n",
    "for i in range(len(in_w)):\n",
    "    in_w[i] = np.complex(np.random.rand(),np.random.rand()) \n",
    "e_min,e_max,d,e, first_n0 =setup_scaled_H(q,c, n_tot, m,n_max)\n",
    "scaled_dt = 2*np.pi * (e_max - e_min)*dt/2"
   ]
  },
  {
   "cell_type": "code",
   "execution_count": 532,
   "metadata": {
    "collapsed": false
   },
   "outputs": [
    {
     "name": "stdout",
     "output_type": "stream",
     "text": [
      "1 loops, best of 3: 525 ms per loop\n"
     ]
    }
   ],
   "source": [
    "%timeit chebyshev_propagator(scaled_dt,in_w,n_max,e,d)"
   ]
  },
  {
   "cell_type": "code",
   "execution_count": 533,
   "metadata": {
    "collapsed": false
   },
   "outputs": [
    {
     "name": "stdout",
     "output_type": "stream",
     "text": [
      "1 loops, best of 3: 526 ms per loop\n"
     ]
    }
   ],
   "source": [
    "%timeit new_chebyshev_propagator(scaled_dt,in_w,n_max,e,d)"
   ]
  },
  {
   "cell_type": "code",
   "execution_count": 534,
   "metadata": {
    "collapsed": false
   },
   "outputs": [
    {
     "name": "stdout",
     "output_type": "stream",
     "text": [
      "True\n",
      "[-0.09403826+0.33485541j -0.03285816+1.14817144j  0.54516576-0.14361426j\n",
      "  0.49993251-0.04880458j  0.20190316-0.95347837j -0.95074907-0.48159131j\n",
      " -0.59167724-0.44131891j -0.87306357+0.38331067j -0.07647712+0.47715837j\n",
      "  0.57962637-0.43807453j]\n",
      "[-0.09403826+0.33485541j -0.03285816+1.14817144j  0.54516576-0.14361426j\n",
      "  0.49993251-0.04880458j  0.20190316-0.95347837j -0.95074907-0.48159131j\n",
      " -0.59167724-0.44131891j -0.87306357+0.38331067j -0.07647712+0.47715837j\n",
      "  0.57962637-0.43807453j]\n"
     ]
    }
   ],
   "source": [
    "a1 = chebyshev_propagator(scaled_dt,in_w,n_max,e,d)\n",
    "a2 = new_chebyshev_propagator(scaled_dt,in_w,n_max,e,d)\n",
    "\n",
    "print(all(a1==a2))\n",
    "print(a1[:10])\n",
    "print(a2[:10])"
   ]
  },
  {
   "cell_type": "code",
   "execution_count": 511,
   "metadata": {
    "collapsed": false
   },
   "outputs": [],
   "source": [
    "@autojit\n",
    "def func2(x,y):\n",
    "    ans =  np.subtract(x,y)\n",
    "   \n",
    "    return ans\n",
    "    \n",
    "@autojit\n",
    "def func3(x,y,z):\n",
    "    l = len(x)\n",
    "    for i in range(l):\n",
    "        z[i] = x[i] - y[i]\n",
    "  \n",
    "    return z\n",
    "\n",
    "nn = 10\n",
    "\n",
    "in_w2 = np.zeros(nn, dtype = complex)\n",
    "zz = np.zeros(nn, dtype = complex)\n",
    "for i in range(nn):\n",
    "    temp = np.complex(np.random.rand(),np.random.rand())\n",
    "\n",
    "    in_w2[i] = temp\n",
    "ph = np.complex(2,2)"
   ]
  },
  {
   "cell_type": "code",
   "execution_count": 512,
   "metadata": {
    "collapsed": false
   },
   "outputs": [
    {
     "name": "stdout",
     "output_type": "stream",
     "text": [
      "The slowest run took 73519.11 times longer than the fastest. This could mean that an intermediate result is being cached \n",
      "1000000 loops, best of 3: 235 ns per loop\n"
     ]
    }
   ],
   "source": [
    "%timeit func2(in_w2,in_w2)"
   ]
  },
  {
   "cell_type": "code",
   "execution_count": 513,
   "metadata": {
    "collapsed": false
   },
   "outputs": [
    {
     "name": "stdout",
     "output_type": "stream",
     "text": [
      "The slowest run took 123310.56 times longer than the fastest. This could mean that an intermediate result is being cached \n",
      "1000000 loops, best of 3: 264 ns per loop\n"
     ]
    }
   ],
   "source": [
    "%timeit func3(in_w2,in_w2,zz)"
   ]
  },
  {
   "cell_type": "code",
   "execution_count": 514,
   "metadata": {
    "collapsed": false
   },
   "outputs": [],
   "source": [
    "ans2 = func2(in_w2,in_w2)\n",
    "ans3 = func3(in_w2, in_w2, zz)"
   ]
  },
  {
   "cell_type": "code",
   "execution_count": 515,
   "metadata": {
    "collapsed": false
   },
   "outputs": [
    {
     "name": "stdout",
     "output_type": "stream",
     "text": [
      "True\n"
     ]
    }
   ],
   "source": [
    "print(all(ans2==ans3))"
   ]
  },
  {
   "cell_type": "code",
   "execution_count": 494,
   "metadata": {
    "collapsed": false
   },
   "outputs": [
    {
     "data": {
      "text/plain": [
       "array([ 0.+0.j,  0.+0.j,  0.+0.j,  0.+0.j,  0.+0.j,  0.+0.j,  0.+0.j,\n",
       "        0.+0.j,  0.+0.j,  0.+0.j])"
      ]
     },
     "execution_count": 494,
     "metadata": {},
     "output_type": "execute_result"
    }
   ],
   "source": [
    "ans2"
   ]
  },
  {
   "cell_type": "code",
   "execution_count": 482,
   "metadata": {
    "collapsed": false
   },
   "outputs": [
    {
     "data": {
      "text/plain": [
       "array([ 0.+0.j,  0.+0.j,  0.+0.j,  0.+0.j,  0.+0.j,  0.+0.j,  0.+0.j,\n",
       "        0.+0.j,  0.+0.j,  0.+0.j])"
      ]
     },
     "execution_count": 482,
     "metadata": {},
     "output_type": "execute_result"
    }
   ],
   "source": [
    "ans3"
   ]
  },
  {
   "cell_type": "code",
   "execution_count": 475,
   "metadata": {
    "collapsed": false
   },
   "outputs": [
    {
     "data": {
      "text/plain": [
       "array([ 0.+0.j,  0.+0.j,  0.+0.j,  0.+0.j,  0.+0.j,  0.+0.j,  0.+0.j,\n",
       "        0.+0.j,  0.+0.j,  0.+0.j])"
      ]
     },
     "execution_count": 475,
     "metadata": {},
     "output_type": "execute_result"
    }
   ],
   "source": [
    "zz"
   ]
  },
  {
   "cell_type": "code",
   "execution_count": null,
   "metadata": {
    "collapsed": true
   },
   "outputs": [],
   "source": []
  }
 ],
 "metadata": {
  "kernelspec": {
   "display_name": "Python 3",
   "language": "python",
   "name": "python3"
  },
  "language_info": {
   "codemirror_mode": {
    "name": "ipython",
    "version": 3
   },
   "file_extension": ".py",
   "mimetype": "text/x-python",
   "name": "python",
   "nbconvert_exporter": "python",
   "pygments_lexer": "ipython3",
   "version": "3.4.1"
  }
 },
 "nbformat": 4,
 "nbformat_minor": 0
}
