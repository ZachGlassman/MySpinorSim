{
 "cells": [
  {
   "cell_type": "code",
   "execution_count": 53,
   "metadata": {
    "collapsed": true
   },
   "outputs": [],
   "source": [
    "import numpy as np\n",
    "from numba import jit,autojit\n",
    "import math"
   ]
  },
  {
   "cell_type": "code",
   "execution_count": 85,
   "metadata": {
    "collapsed": false
   },
   "outputs": [],
   "source": [
    "#@autojit\n",
    "def alpha_help(a,n):\n",
    "    if a.real == 0 and a.imag == 0:\n",
    "        if n == 0:\n",
    "            ln = np.complex(0,0)\n",
    "        else:\n",
    "            ln = np.complex(-1e200,0)\n",
    "            \n",
    "    elif n >= 7:\n",
    "        ln = n *np.log(a)- (n*np.log(n)-n + np.log(2*np.pi*n)/2)/2\n",
    "    else:\n",
    "        ln = n * np.log(a) - np.log(math.factorial(int(n)))/2\n",
    "    return ln\n",
    "\n",
    "def create_state(n_max, atom_n, m, n_zero,alpha_minus,alpha_plus,alpha_zero,norm_factor):\n",
    "    state = np.zeros(n_max, dtype = complex)\n",
    "    for j in range(int(n_max)):\n",
    "                n_zero_min = np.mod(atom_n - abs(m),2)\n",
    "                n_zero = n_zero_min + 2*j\n",
    "                n_minus = (atom_n - n_zero - m)/2\n",
    "                n_plus = m + n_minus\n",
    "                if n_minus >= 0 and n_plus >=0 and n_zero >=0:\n",
    "                    ln_minus = alpha_help(alpha_minus,n_minus)\n",
    "                    ln_plus = alpha_help(alpha_plus, n_plus)\n",
    "                    ln_zero = alpha_help(alpha_zero,n_zero)\n",
    "                    \n",
    "                    sum_ln = ln_minus + ln_plus + ln_zero\n",
    "                    \n",
    "                    ln_coef = sum_ln - norm_factor\n",
    "                    state[j] = np.exp(ln_coef)\n",
    "                else:\n",
    "                    state[j] = np.complex(0,0)\n",
    "    return state\n",
    "\n",
    "def create_state2(n_max, atom_n, m, n_zero,alpha_minus,alpha_plus,alpha_zero,norm_factor):\n",
    "    state = np.zeros(n_max, dtype = complex)\n",
    "    for j in range(int(n_max)):\n",
    "                n_zero_min = np.mod(atom_n - abs(m),2)\n",
    "                n_zero = n_zero_min + 2*j\n",
    "                n_minus = (atom_n - n_zero - m)/2\n",
    "                n_plus = m + n_minus\n",
    "                if n_minus >= 0 and n_plus >=0 and n_zero >=0:\n",
    "                    ln_minus = alpha_help(alpha_minus,n_minus)\n",
    "                    ln_plus = alpha_help(alpha_plus, n_plus)\n",
    "                    ln_zero = alpha_help(alpha_zero,n_zero)\n",
    "                    \n",
    "                    sum_ln = ln_minus + ln_plus + ln_zero\n",
    "                    \n",
    "                    ln_coef = sum_ln - norm_factor\n",
    "                    state[j] = np.exp(ln_coef)\n",
    "                else:\n",
    "                    state[j] = np.complex(0,0)\n",
    "    return state"
   ]
  },
  {
   "cell_type": "code",
   "execution_count": 82,
   "metadata": {
    "collapsed": false
   },
   "outputs": [],
   "source": [
    "n_max = 10000\n",
    "in_w = np.zeros(n_max, dtype = complex)\n",
    "for i in range(len(in_w)):\n",
    "    in_w[i] = np.complex(np.random.rand(),np.random.rand()) \n",
    "b_field = 0.0           #BField\n",
    "n_tot = 400            #TotalAtomNumber\n",
    "m = -4                #Magnetization\n",
    "mag_range = 7         #MagRange\n",
    "atom_range = 40       #AtomRange\n",
    "spinor_phase = 0.0      #SpinorPhase\n",
    "n_0 = 396              #N_0 numbers tarting in m=0\n",
    "c_init = 24             #C_init in Hz"
   ]
  },
  {
   "cell_type": "code",
   "execution_count": 86,
   "metadata": {
    "collapsed": true
   },
   "outputs": [],
   "source": [
    "if n_0 < 1e-20:\n",
    "    alpha_zero =  np.complex(0,0)\n",
    "else:\n",
    "    alpha_zero = np.sqrt(n_0)*np.exp(np.complex(0,spinor_phase/2))\n",
    "    \n",
    "if (n_tot - n_0 + mag) < 1e-20:\n",
    "    alpha_plus = np.complex(0,0)\n",
    "else:\n",
    "    alpha_plus = np.complex(np.sqrt(mag+(n_tot-n_0-mag)/2),0)\n",
    "\n",
    "if (n_tot - n_0 - mag) < 1e-20:\n",
    "    alpha_minus = np.complex(0,0)\n",
    "else:\n",
    "    alpha_minus = np.complex(np.sqrt((n_tot-n_0-mag)/2),0)\n",
    "    \n",
    "#calculate normalization factor\n",
    "norm_factor = (abs(alpha_minus)**2 + abs(alpha_zero)**2 + abs(alpha_plus)**2)/2"
   ]
  },
  {
   "cell_type": "code",
   "execution_count": 89,
   "metadata": {
    "collapsed": false
   },
   "outputs": [
    {
     "name": "stdout",
     "output_type": "stream",
     "text": [
      "10 loops, best of 3: 25.4 ms per loop\n"
     ]
    }
   ],
   "source": [
    "%timeit create_state(n_max, n_tot, m, n_0,alpha_minus,alpha_plus,alpha_zero,norm_factor)"
   ]
  },
  {
   "cell_type": "code",
   "execution_count": 90,
   "metadata": {
    "collapsed": false
   },
   "outputs": [
    {
     "name": "stdout",
     "output_type": "stream",
     "text": [
      "10 loops, best of 3: 25.6 ms per loop\n"
     ]
    }
   ],
   "source": [
    "%timeit create_state2(n_max, n_tot, m, n_0,alpha_minus,alpha_plus,alpha_zero,norm_factor)"
   ]
  },
  {
   "cell_type": "code",
   "execution_count": null,
   "metadata": {
    "collapsed": true
   },
   "outputs": [],
   "source": []
  }
 ],
 "metadata": {
  "kernelspec": {
   "display_name": "Python 3",
   "language": "python",
   "name": "python3"
  },
  "language_info": {
   "codemirror_mode": {
    "name": "ipython",
    "version": 3
   },
   "file_extension": ".py",
   "mimetype": "text/x-python",
   "name": "python",
   "nbconvert_exporter": "python",
   "pygments_lexer": "ipython3",
   "version": "3.4.1"
  }
 },
 "nbformat": 4,
 "nbformat_minor": 0
}
