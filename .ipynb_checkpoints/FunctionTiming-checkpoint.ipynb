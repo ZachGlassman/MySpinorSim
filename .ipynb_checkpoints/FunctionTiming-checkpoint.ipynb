{
 "cells": [
  {
   "cell_type": "code",
   "execution_count": 2,
   "metadata": {
    "collapsed": true
   },
   "outputs": [],
   "source": [
    "import numpy as np\n",
    "from scipy.special import jv\n",
    "from numba import jit,autojit"
   ]
  },
  {
   "cell_type": "code",
   "execution_count": 3,
   "metadata": {
    "collapsed": false
   },
   "outputs": [],
   "source": [
    "def func(n_max,d,e,in_w):\n",
    "    out_w = np.multiply(d,in_w)\n",
    "    j = 2\n",
    "    for i in range(int(n_max-2)):\n",
    "        out_w[i] = out_w[i] - e[i] * in_w[j]\n",
    "    i =1\n",
    "    for j in range(1,int(n_max)-1):\n",
    "        out_w[j] = out_w[j] + e[i] * in_w[j]\n",
    "    return out_w"
   ]
  },
  {
   "cell_type": "code",
   "execution_count": 17,
   "metadata": {
    "collapsed": false
   },
   "outputs": [
    {
     "ename": "SyntaxError",
     "evalue": "invalid syntax (<ipython-input-17-65a5e7d4728f>, line 6)",
     "output_type": "error",
     "traceback": [
      "\u001b[1;36m  File \u001b[1;32m\"<ipython-input-17-65a5e7d4728f>\"\u001b[1;36m, line \u001b[1;32m6\u001b[0m\n\u001b[1;33m    i = np.complex(np.random.rand(),np.random.rand())\u001b[0m\n\u001b[1;37m    ^\u001b[0m\n\u001b[1;31mSyntaxError\u001b[0m\u001b[1;31m:\u001b[0m invalid syntax\n"
     ]
    }
   ],
   "source": [
    "n_max = 100\n",
    "d = np.random.rand(n_max)\n",
    "e = np.random.rand(n_max-1)\n",
    "in_w = np.zeros(n_max, dtype = complex)\n",
    "for i in range(len(in_w)):\n",
    "    in_w[i\\ = np.complex(np.random.rand(),np.random.rand()) "
   ]
  },
  {
   "cell_type": "code",
   "execution_count": 5,
   "metadata": {
    "collapsed": false
   },
   "outputs": [
    {
     "data": {
      "text/plain": [
       "array([ 0.62608446,  0.32213617,  0.9201239 ,  0.8256204 ,  0.7929416 ,\n",
       "        0.6566362 ,  0.03562803,  0.77976465,  0.42974808,  0.90948846,\n",
       "        0.22563006,  0.47992674,  0.18479255,  0.01197993,  0.49773222,\n",
       "        0.78494808,  0.14415645,  0.92845166,  0.37443177,  0.79499006,\n",
       "        0.98243033,  0.21696561,  0.41994192,  0.31576439,  0.35709014,\n",
       "        0.05613352,  0.44653853,  0.02213465,  0.45760623,  0.64358395,\n",
       "        0.48787245,  0.80800198,  0.0946309 ,  0.53926741,  0.87141089,\n",
       "        0.05826859,  0.28898842,  0.97813248,  0.41978105,  0.4722079 ,\n",
       "        0.32859371,  0.20819668,  0.55637718,  0.21518581,  0.47042199,\n",
       "        0.8144728 ,  0.4579335 ,  0.93578647,  0.76556468,  0.33077306,\n",
       "        0.18238629,  0.874289  ,  0.24919392,  0.84755781,  0.18209123,\n",
       "        0.03838232,  0.84955604,  0.82731341,  0.64569257,  0.80213688,\n",
       "        0.895375  ,  0.16911414,  0.94006343,  0.32470568,  0.30944689,\n",
       "        0.20654853,  0.97554748,  0.67416093,  0.9957038 ,  0.2085553 ,\n",
       "        0.04279384,  0.89378272,  0.12065261,  0.10452165,  0.10088574,\n",
       "        0.21055442,  0.02283596,  0.37306071,  0.23398738,  0.00769778,\n",
       "        0.52253782,  0.99731764,  0.62579772,  0.39290819,  0.65054371,\n",
       "        0.18427194,  0.0960756 ,  0.39442829,  0.94474342,  0.85117855,\n",
       "        0.27244586,  0.56329161,  0.97032072,  0.87965933,  0.03667644,\n",
       "        0.83620602,  0.60551374,  0.96911553,  0.84819343,  0.87788053])"
      ]
     },
     "execution_count": 5,
     "metadata": {},
     "output_type": "execute_result"
    }
   ],
   "source": [
    "d"
   ]
  },
  {
   "cell_type": "code",
   "execution_count": null,
   "metadata": {
    "collapsed": true
   },
   "outputs": [],
   "source": []
  }
 ],
 "metadata": {
  "kernelspec": {
   "display_name": "Python 3",
   "language": "python",
   "name": "python3"
  },
  "language_info": {
   "codemirror_mode": {
    "name": "ipython",
    "version": 3
   },
   "file_extension": ".py",
   "mimetype": "text/x-python",
   "name": "python",
   "nbconvert_exporter": "python",
   "pygments_lexer": "ipython3",
   "version": "3.4.3"
  }
 },
 "nbformat": 4,
 "nbformat_minor": 0
}
