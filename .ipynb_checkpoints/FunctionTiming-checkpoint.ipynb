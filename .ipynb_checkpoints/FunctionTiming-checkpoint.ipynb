{
 "cells": [
  {
   "cell_type": "code",
   "execution_count": 14,
   "metadata": {
    "collapsed": true
   },
   "outputs": [],
   "source": [
    "import numpy as np\n",
    "from scipy.special import jv"
   ]
  },
  {
   "cell_type": "code",
   "execution_count": 17,
   "metadata": {
    "collapsed": false
   },
   "outputs": [
    {
     "ename": "SyntaxError",
     "evalue": "invalid syntax (<ipython-input-17-d8969998e63c>, line 7)",
     "output_type": "error",
     "traceback": [
      "\u001b[1;36m  File \u001b[1;32m\"<ipython-input-17-d8969998e63c>\"\u001b[1;36m, line \u001b[1;32m7\u001b[0m\n\u001b[1;33m    [bessel_j[k-1] = jv(alpha_k-1,x) for k in range(1,n+1)]\u001b[0m\n\u001b[1;37m                   ^\u001b[0m\n\u001b[1;31mSyntaxError\u001b[0m\u001b[1;31m:\u001b[0m invalid syntax\n"
     ]
    }
   ],
   "source": [
    "def dbesj(x, alpha, n):\n",
    "    \"\"\"sequence of bessel functions where n is the number of elements of a \n",
    "    bessel function of J_(alpha + k -1)/x where k = 1...n\n",
    "    \"\"\"\n",
    "    bessel_j = np.zeros(n+1)\n",
    "    i = 0\n",
    "    for k in range(1,n+1):\n",
    "       bessel_j[i] = jv(alpha + k -1, x)\n",
    "       i = i + 1\n",
    "    y = sum([num for num in bessel_j if num== 0])\n",
    "    return bessel_j, y"
   ]
  },
  {
   "cell_type": "code",
   "execution_count": 15,
   "metadata": {
    "collapsed": true
   },
   "outputs": [],
   "source": [
    "x = 500\n",
    "alpha = 0"
   ]
  },
  {
   "cell_type": "code",
   "execution_count": 16,
   "metadata": {
    "collapsed": false
   },
   "outputs": [
    {
     "name": "stdout",
     "output_type": "stream",
     "text": [
      "1000 loops, best of 3: 532 µs per loop\n"
     ]
    }
   ],
   "source": [
    "%timeit dbesj(x,alpha,100)"
   ]
  },
  {
   "cell_type": "code",
   "execution_count": null,
   "metadata": {
    "collapsed": true
   },
   "outputs": [],
   "source": []
  }
 ],
 "metadata": {
  "kernelspec": {
   "display_name": "Python 3",
   "language": "python",
   "name": "python3"
  },
  "language_info": {
   "codemirror_mode": {
    "name": "ipython",
    "version": 3
   },
   "file_extension": ".py",
   "mimetype": "text/x-python",
   "name": "python",
   "nbconvert_exporter": "python",
   "pygments_lexer": "ipython3",
   "version": "3.4.1"
  }
 },
 "nbformat": 4,
 "nbformat_minor": 0
}
