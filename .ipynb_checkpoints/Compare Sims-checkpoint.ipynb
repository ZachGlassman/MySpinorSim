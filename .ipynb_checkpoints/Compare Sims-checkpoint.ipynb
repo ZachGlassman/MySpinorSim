{
 "cells": [
  {
   "cell_type": "code",
   "execution_count": 484,
   "metadata": {
    "collapsed": false
   },
   "outputs": [
    {
     "name": "stdout",
     "output_type": "stream",
     "text": [
      "The autoreload extension is already loaded. To reload it, use:\n",
      "  %reload_ext autoreload\n"
     ]
    }
   ],
   "source": [
    "import numpy as np\n",
    "import matplotlib.pyplot as plt\n",
    "%matplotlib inline\n",
    "%load_ext autoreload\n",
    "%autoreload"
   ]
  },
  {
   "cell_type": "code",
   "execution_count": 485,
   "metadata": {
    "collapsed": true
   },
   "outputs": [],
   "source": [
    "from MeanField.MeanFieldSimulation import single_simulation as ss_new\n",
    "from MeanField.MeanFieldOld import single_simulation as ss_old"
   ]
  },
  {
   "cell_type": "code",
   "execution_count": 486,
   "metadata": {
    "collapsed": true
   },
   "outputs": [],
   "source": [
    "N=10000\n",
    "tf = .1\n",
    "dt = .1e-3\n",
    "pulses = [[.04,.001,'MW',-426*np.pi]]\n",
    "pulses1 = [[.04,.001,'MW','-1',-426*np.pi]]\n",
    "nop = []"
   ]
  },
  {
   "cell_type": "code",
   "execution_count": 487,
   "metadata": {
    "collapsed": false
   },
   "outputs": [
    {
     "name": "stdout",
     "output_type": "stream",
     "text": [
      "[##################################################]100% Evolve\n",
      "Calculation Finished in time: 36.42\n"
     ]
    }
   ],
   "source": [
    "data1,qq1 = ss_old(N,1000,24*np.pi*4,tf,dt,.1,pulses,plot = False,qu1=0)"
   ]
  },
  {
   "cell_type": "code",
   "execution_count": 488,
   "metadata": {
    "collapsed": false
   },
   "outputs": [
    {
     "name": "stdout",
     "output_type": "stream",
     "text": [
      "[##################################################]100% Evolve\n",
      "Calculation Finished in time: 6.09\n"
     ]
    }
   ],
   "source": [
    "data = ss_new(N,1000,24*np.pi*4,tf,.1,pulses1,qu1=0)"
   ]
  },
  {
   "cell_type": "code",
   "execution_count": 489,
   "metadata": {
    "collapsed": false
   },
   "outputs": [
    {
     "data": {
      "text/plain": [
       "[<matplotlib.lines.Line2D at 0x116148d0>]"
      ]
     },
     "execution_count": 489,
     "metadata": {},
     "output_type": "execute_result"
    },
    {
     "data": {
      "image/png": "[encoded data removed]",
      "text/plain": [
       "<matplotlib.figure.Figure at 0x7b5ff60>"
      ]
     },
     "metadata": {},
     "output_type": "display_data"
    },
    {
     "data": {
      "image/png": "[encoded data removed]",
      "text/plain": [
       "<matplotlib.figure.Figure at 0x115ea630>"
      ]
     },
     "metadata": {},
     "output_type": "display_data"
    }
   ],
   "source": [
    "plt.plot(data1[0],data1[1],label='old')\n",
    "plt.plot(data[0],data[1],label = 'new')\n",
    "plt.legend()\n",
    "plt.figure()\n",
    "plt.plot(data1[0],data1[3],label='old')\n",
    "plt.plot(data[0],data[3],label = 'new')\n",
    "plt.legend()\n"
   ]
  },
  {
   "cell_type": "code",
   "execution_count": 79,
   "metadata": {
    "collapsed": true
   },
   "outputs": [],
   "source": [
    "tfinal = .1\n",
    "pulses = [[.04,.001,'MW','0',-426*np.pi],[.05,.001,'MW','1',-426*np.pi]]"
   ]
  },
  {
   "cell_type": "code",
   "execution_count": 93,
   "metadata": {
    "collapsed": true
   },
   "outputs": [],
   "source": [
    "p_start = [i[0] for i in pulses]\n",
    "p_end = [i[1]+i[0] for i in pulses]\n",
    "p_type = [i[2] for i in pulses]\n",
    "p_args = [i[3:] for i in pulses]\n",
    "#now build up step arrays\n",
    "ts = sorted([0] + p_start + p_end)\n",
    "te = sorted(p_end + p_start+ [tfinal])"
   ]
  },
  {
   "cell_type": "code",
   "execution_count": 94,
   "metadata": {
    "collapsed": false
   },
   "outputs": [
    {
     "name": "stdout",
     "output_type": "stream",
     "text": [
      "[0, 0.04, 0.041, 0.05, 0.051000000000000004] [0.04, 0.041, 0.05, 0.051000000000000004, 0.1]\n"
     ]
    }
   ],
   "source": [
    "print(ts,te)"
   ]
  },
  {
   "cell_type": "code",
   "execution_count": 95,
   "metadata": {
    "collapsed": false
   },
   "outputs": [],
   "source": [
    "temp = sorted(ts + te)"
   ]
  },
  {
   "cell_type": "code",
   "execution_count": 92,
   "metadata": {
    "collapsed": false
   },
   "outputs": [
    {
     "data": {
      "text/plain": [
       "[0, 0.04, 0.041, 0.05, 0.051000000000000004, 0.1]"
      ]
     },
     "execution_count": 92,
     "metadata": {},
     "output_type": "execute_result"
    }
   ],
   "source": [
    "temp"
   ]
  },
  {
   "cell_type": "code",
   "execution_count": null,
   "metadata": {
    "collapsed": true
   },
   "outputs": [],
   "source": []
  }
 ],
 "metadata": {
  "kernelspec": {
   "display_name": "Python 3",
   "language": "python",
   "name": "python3"
  },
  "language_info": {
   "codemirror_mode": {
    "name": "ipython",
    "version": 3
   },
   "file_extension": ".py",
   "mimetype": "text/x-python",
   "name": "python",
   "nbconvert_exporter": "python",
   "pygments_lexer": "ipython3",
   "version": "3.4.3"
  }
 },
 "nbformat": 4,
 "nbformat_minor": 0
}
