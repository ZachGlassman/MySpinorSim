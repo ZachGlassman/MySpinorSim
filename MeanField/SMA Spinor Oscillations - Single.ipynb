{
 "cells": [
  {
   "cell_type": "markdown",
   "metadata": {
    "slideshow": {
     "slide_type": "-"
    }
   },
   "source": [
    "# Equations\n",
    "Here we are solving a set of coupled differential equations gives (from Chapman supplement and Arne notebook)\n",
    "\n",
    "$$\\begin{align}\n",
    "    i \\dot{\\zeta}_1&= (p_1 B + q_1 B^2 + q\\mu_1(t))\\zeta_1+c\\left[(\\zeta_1^*\\zeta_1+\\zeta_0^*\\zeta_0-\\zeta_{-1}^*\\zeta_{-1})\\zeta_1+\\zeta_0\\zeta_0\\zeta_{-1}^*)\\right]\\\\\n",
    "    i\\dot{\\zeta}_0&=(p_0 B + q_0 B^2 + q\\mu_0(t))\\zeta_0+c\\left[(\\zeta_1^*\\zeta_1 + \\zeta_{-1}^*\\zeta_{-1})\\zeta_0 + 2\\zeta_1\\zeta_{-1}\\zeta_0^*\\right]\\\\\n",
    "    i \\dot{\\zeta}_{-1}&= (p_{-1} B + q_{-1} B^2 + q\\mu_{-1}(t))\\zeta_{-1}+c\\left[(\\zeta_{-1}^*\\zeta_{-1}+\\zeta_0^*\\zeta_0-\\zeta_{1}^*\\zeta_{1})\\zeta_{-1}+\\zeta_0\\zeta_0\\zeta_{1}^*)\\right]\\\\\n",
    "\\end{align}\n",
    "$$\n",
    "\n",
    "# Expectation Values\n",
    "First we note that \n",
    "$$ S_x = \\frac{1}{\\sqrt{2}}\\begin{pmatrix}\n",
    "0&1&0\\\\\n",
    "1&0&1\\\\\n",
    "0&1&0\\\\\n",
    "\\end{pmatrix}\n",
    "$$\n",
    "So to calculate its expectation value with a given wavefunction, we have\n",
    "$$\\psi^*S_x \\psi =  (\\psi_1^*,\\psi_0^*,\\psi_{-1}^*)\\frac{1}{\\sqrt{2}}\\begin{pmatrix}\n",
    "0&1&0\\\\\n",
    "1&0&1\\\\\n",
    "0&1&0\\\\\n",
    "\\end{pmatrix}\n",
    "\\begin{pmatrix}\n",
    "\\psi_1\\\\\n",
    "\\psi_0\\\\\n",
    "\\psi_{-1}\n",
    "\\end{pmatrix} = \\frac{(\\psi_1^*+\\psi_{-1}^*)\\psi_0 + \\psi_0^*(\\psi_{1}+\\psi_{-1})}{\\sqrt{2}}$$\n"
   ]
  },
  {
   "cell_type": "code",
   "execution_count": 1,
   "metadata": {
    "collapsed": true
   },
   "outputs": [],
   "source": [
    "import numpy as np\n",
    "import matplotlib.pyplot as plt\n",
    "from scipy.integrate import ode\n",
    "from numpy.lib import scimath\n",
    "%matplotlib inline"
   ]
  },
  {
   "cell_type": "code",
   "execution_count": 2,
   "metadata": {
    "collapsed": true
   },
   "outputs": [],
   "source": [
    "#first define the system dy/dt = f(y,t)\n",
    "def msqr(x):\n",
    "    return np.conj(x) * x\n",
    "\n",
    "def f(t,y,*args):\n",
    "    \"\"\"system of ode we want to solve\"\"\"\n",
    "    z1i = y[0]\n",
    "    z0i = y[1]\n",
    "    zmi = y[2]\n",
    "    #now define equations\n",
    "    f0 = ((p1*B+q1*B**2+qu1)*z1i + c*((msqr(z1i) + msqr(z0i) - msqr(zmi))*z1i + z0i*z0i*np.conj(zmi)))*np.complex(0,-1)\n",
    "    f1 = ((p0*B+q0*B**2+qu0)*z0i + c*((msqr(z1i) + msqr(zmi))*z0i + 2*z1i*zmi*np.conj(z0i)))*np.complex(0,-1)\n",
    "    f2 = ((pm1*B+qm1*B**2+qum1)*zmi + c*((msqr(zmi) + msqr(z0i) - msqr(z1i))*zmi + z0i*z0i*np.conj(z1i)))*np.complex(0,-1)\n",
    "    return [f0,f1,f2]   "
   ]
  },
  {
   "cell_type": "code",
   "execution_count": 3,
   "metadata": {
    "collapsed": false
   },
   "outputs": [],
   "source": [
    "class Operator(object):\n",
    "    \"\"\"class of operator for 3x3 matrices in this problem\"\"\"\n",
    "    def __init__(self, mat,rep):\n",
    "        self.rep = rep\n",
    "        self.mat = mat\n",
    "        \n",
    "    def apply(self,ele):\n",
    "        return np.dot(np.conj(ele), np.dot(self.mat,ele.T)).real\n",
    "\n",
    "S_x = Operator(np.array([[0,1,0],[1,0,1],[0,1,0]])*1/np.sqrt(2),r'$S_x$')\n",
    "N_yz = Operator(1j/np.sqrt(2)* np.array([[0,-1,0],[1,0,1],[0,-1,0]]),r'$N_{yz}#')\n",
    "rho_0 = Operator(np.array([[0,0,0],[0,1,0],[0,0,0]]),r'$\\rho_0$')"
   ]
  },
  {
   "cell_type": "code",
   "execution_count": 10,
   "metadata": {
    "collapsed": false
   },
   "outputs": [],
   "source": [
    "#define problem parameters\n",
    "dt = .1e-4\n",
    "tfinal = 2\n",
    "#allot arrays\n",
    "t = np.linspace(0,tfinal,int(tfinal/dt))\n",
    "\n",
    "def validate(par,t):\n",
    "    \"\"\"function to validate arrays\"\"\"\n",
    "    lt = len(t)\n",
    "    if isinstance(par,float) or isinstance(par,int) or isinstance(par,np.complex):\n",
    "        return np.asarray([par for i in t])\n",
    "    elif len(par)==lt:\n",
    "        return par\n",
    "    else:\n",
    "        print('check array dimensions')\n",
    "        \n",
    "#define parameters\n",
    "B =  260/700\n",
    "p1 = 0\n",
    "p0 = 0\n",
    "pm1 = 0\n",
    "qu1 =0\n",
    "qu0 = 0\n",
    "qum1= 0\n",
    "q1 = 0\n",
    "q0 = -5\n",
    "qm1= 0\n",
    "c = 30\n",
    "\n",
    "B_arr = validate(B,t)\n",
    "p1_arr = validate(p1,t)\n",
    "p0_arr = validate(p0,t)\n",
    "pm1_arr = validate(pm1,t)\n",
    "qu1_arr = validate(qu1,t)\n",
    "qu0_arr = validate(qu0,t)\n",
    "qum1_arr = validate(qum1,t)\n",
    "q1_arr = validate(q1,t)\n",
    "q0_arr = validate(q0,t)\n",
    "qm1_arr = validate(qm1,t)\n",
    "c_arr = validate(c,t)"
   ]
  },
  {
   "cell_type": "code",
   "execution_count": 11,
   "metadata": {
    "collapsed": false
   },
   "outputs": [],
   "source": [
    "#solve the sucker and plot\n",
    "def solve_system(y0):\n",
    "    r = ode(f).set_integrator('zvode')\n",
    "    b = ode(f).set_integrator('zvode')\n",
    "    r.set_initial_value(y0,0)\n",
    "    b.set_initial_value(y0,0)\n",
    "    ans = np.zeros((len(t),3),dtype = complex)\n",
    "    step  = 0\n",
    "    while r.successful() and r.t < tfinal-dt:\n",
    "        #update the parameters\n",
    "        B = B_arr[step]\n",
    "        p1 = p1_arr[step]\n",
    "        p0 = p0_arr[step]\n",
    "        pm1 = pm1_arr[step]\n",
    "        qu1 = qu1_arr[step]\n",
    "        qu0 = qu0_arr[step]\n",
    "        qum1 = qum1_arr[step]\n",
    "        q1 = q1_arr[step]\n",
    "        q0 = q0_arr[step]\n",
    "        qm1 = qm1_arr[step]\n",
    "        c = c_arr[step]\n",
    "        ans[step] = np.asarray(r.integrate(r.t + dt))\n",
    "        step += 1\n",
    "    \n",
    "    sol = []\n",
    "    while b.successful() and b.t < tfinal:\n",
    "        b.integrate(tfinal,step = True)\n",
    "        sol.append([b.t,(np.conj(b.y[1])*b.y[1]).real])\n",
    "    return [ans, np.array(sol)]\n",
    "\n",
    "def get_exp_values(soll,step_size):\n",
    "    sol = soll[0]\n",
    "    ans = soll[1]\n",
    "    \"\"\"function to compute expectation values\"\"\"\n",
    "    r_0 = np.asarray([rho_0.apply(i) for i in sol[::step_size]])\n",
    "    sx_calc = np.asarray([S_x.apply(i) for i in sol[::step_size]])\n",
    "    nyz_calc = np.asarray([N_yz.apply(i) for i in sol[::step_size]])\n",
    "    return np.asarray([r_0, sx_calc, nyz_calc]),ans"
   ]
  },
  {
   "cell_type": "code",
   "execution_count": 12,
   "metadata": {
    "collapsed": false
   },
   "outputs": [],
   "source": [
    "step_size = 1\n",
    "#do calculation\n",
    "N = 10000\n",
    "m = 0\n",
    "theta = 0\n",
    "rho = .99\n",
    "state = [scimath.sqrt((1-rho+m)/2)*np.exp(theta/2*1j),scimath.sqrt(rho),scimath.sqrt((1-rho-m)/2) * np.exp(theta/2*1j)]\n",
    "ans, ans1 = get_exp_values(solve_system(state),step_size)"
   ]
  },
  {
   "cell_type": "code",
   "execution_count": 13,
   "metadata": {
    "collapsed": false
   },
   "outputs": [
    {
     "data": {
      "text/plain": [
       "[<matplotlib.lines.Line2D at 0x7bd9278>]"
      ]
     },
     "execution_count": 13,
     "metadata": {},
     "output_type": "execute_result"
    },
    {
     "data": {
      "image/png": "[encoded data removed]",
      "text/plain": [
       "<matplotlib.figure.Figure at 0x7917ac8>"
      ]
     },
     "metadata": {},
     "output_type": "display_data"
    }
   ],
   "source": [
    "plt.plot(t[::step_size],ans[0],'b.')\n",
    "plt.plot(ans1[:,0],ans1[:,1],'g.-')"
   ]
  },
  {
   "cell_type": "code",
   "execution_count": 180,
   "metadata": {
    "collapsed": false
   },
   "outputs": [],
   "source": [
    "from lmfit import Model\n",
    "def sinfunc(x,A,f,off,phi):\n",
    "    return A * np.sin(2*np.pi*f*x+phi)+off\n",
    "sinmod = Model(sinfunc)"
   ]
  },
  {
   "cell_type": "code",
   "execution_count": 181,
   "metadata": {
    "collapsed": false
   },
   "outputs": [
    {
     "name": "stdout",
     "output_type": "stream",
     "text": [
      "[[Model]]\n",
      "    Model(sinfunc)\n",
      "[[Fit Statistics]]\n",
      "    # function evals   = 546\n",
      "    # data points      = 501\n",
      "    # variables        = 4\n",
      "    chi-square         = 1550323284.771\n",
      "    reduced chi-square = 3119362.746\n",
      "[[Variables]]\n",
      "    A:     3.1077e+05 +/- 9.76e+08 (314193.89%) (init= 1500)\n",
      "    f:     0.19086134 +/- 305.2705 (159943.64%) (init= 3)\n",
      "    off:  -2.7143e+05 +/- 9.76e+08 (359699.37%) (init= 39500)\n",
      "    phi:   1.52314285 +/- 76.15844 (5000.09%) (init= 0)\n",
      "[[Correlations]] (unreported correlations are <  0.100)\n",
      "    C(A, off)                    = -1.000 \n",
      "    C(f, phi)                    = -1.000 \n",
      "    C(f, off)                    =  1.000 \n",
      "    C(A, f)                      = -1.000 \n",
      "    C(off, phi)                  = -1.000 \n",
      "    C(A, phi)                    =  1.000 \n",
      "\n"
     ]
    },
    {
     "data": {
      "image/png": "[encoded data removed]",
      "text/plain": [
       "<matplotlib.figure.Figure at 0xf657908>"
      ]
     },
     "metadata": {},
     "output_type": "display_data"
    }
   ],
   "source": [
    "pars = sinmod.make_params(A =1.5e3,f = 3, off = 39.5e3,phi=0)\n",
    "pars['phi'].min = 0\n",
    "pars['phi'].max = 2*np.pi\n",
    "pars['A'].min = 0\n",
    "fit = sinmod.fit(x = t[::step_size],data = ans[0]*N,params = pars)\n",
    "fit.plot(fitfmt='-o');\n",
    "print(fit.fit_report())\n",
    "#help(fit)"
   ]
  },
  {
   "cell_type": "code",
   "execution_count": 182,
   "metadata": {
    "collapsed": false
   },
   "outputs": [
    {
     "data": {
      "image/png": "[encoded data removed]",
      "text/plain": [
       "<matplotlib.figure.Figure at 0xf8454a8>"
      ]
     },
     "metadata": {},
     "output_type": "display_data"
    }
   ],
   "source": [
    "fig, ax = plt.subplots(3,1)\n",
    "for i in range(3):\n",
    "    m = ans[i]\n",
    "    s = ans[i]\n",
    "    ax[i].plot(t[::step_size],m)\n",
    "    #ax[i].fill_between(t[::step_size,],m-s,m+s,facecolor='green',alpha=0.3)\n",
    "plt.tight_layout()"
   ]
  },
  {
   "cell_type": "markdown",
   "metadata": {
    "collapsed": true
   },
   "source": [
    "# Blackman pulse shape \n",
    "This is a pulse shape which is sort of like a square pulse, will make implementation much simplier in code."
   ]
  },
  {
   "cell_type": "code",
   "execution_count": 171,
   "metadata": {
    "collapsed": false
   },
   "outputs": [
    {
     "data": {
      "text/plain": [
       "[<matplotlib.lines.Line2D at 0xf7ce438>]"
      ]
     },
     "execution_count": 171,
     "metadata": {},
     "output_type": "execute_result"
    },
    {
     "data": {
      "image/png": "[encoded data removed]",
      "text/plain": [
       "<matplotlib.figure.Figure at 0xf78ccf8>"
      ]
     },
     "metadata": {},
     "output_type": "display_data"
    }
   ],
   "source": [
    "def black_left(t,ts,dur,fv):\n",
    "    \"\"\"calc blackman pulse won't set proper elements to zero here\"\"\"\n",
    "    ans = fv*(0.42 +0.5*np.cos(np.pi*(t-ts-dur)/dur)+0.08*np.cos(2*np.pi*(1-ts-dur)))\n",
    "    ans[t<ts]=0\n",
    "    ans[t>(ts+dur)]=0\n",
    "    return ans\n",
    "def black_right(t,ts,dur,iv):\n",
    "    \"\"\"calc blackman pulse\n",
    "    first we will calculate whole pulse and then set\n",
    "    proper elements to zero\"\"\"\n",
    "    ans = iv*(0.42 +0.5*np.cos(np.pi*(t-ts)/dur)+0.08*np.cos(2*np.pi*(1-ts)))\n",
    "    ans[t<ts]=0\n",
    "    ans[t>(ts+dur)]=0\n",
    "    return ans\n",
    "\n",
    "def const_pulse(t,ts,dur,val):\n",
    "    ans = np.asarray([val for i in t])\n",
    "    ans[t<ts]=0\n",
    "    ans[t>(ts+dur)]=0\n",
    "    return ans\n",
    "    \n",
    "def micro_pulse(t,ts,dur,ew,qm):\n",
    "    ans = black_left(t,ts,ew,qm)+black_right(t,ts+ew+dur,ew,qm)+const_pulse(t,ts+ew,dur,qm)\n",
    "    return ans\n",
    "\n",
    "t = np.linspace(0,3e-3,1000)\n",
    "ans = micro_pulse(t,0,2e-3,25e-6,800)\n",
    "plt.plot(t,ans)\n"
   ]
  },
  {
   "cell_type": "code",
   "execution_count": 172,
   "metadata": {
    "collapsed": false
   },
   "outputs": [
    {
     "name": "stdout",
     "output_type": "stream",
     "text": [
      "10000 loops, best of 3: 187 µs per loop\n"
     ]
    }
   ],
   "source": [
    "%timeit micro_pulse(t,0,2e-3,25e-6,800)"
   ]
  },
  {
   "cell_type": "code",
   "execution_count": null,
   "metadata": {
    "collapsed": true
   },
   "outputs": [],
   "source": []
  }
 ],
 "metadata": {
  "kernelspec": {
   "display_name": "Python 3",
   "language": "python",
   "name": "python3"
  },
  "language_info": {
   "codemirror_mode": {
    "name": "ipython",
    "version": 3
   },
   "file_extension": ".py",
   "mimetype": "text/x-python",
   "name": "python",
   "nbconvert_exporter": "python",
   "pygments_lexer": "ipython3",
   "version": "3.5.1"
  }
 },
 "nbformat": 4,
 "nbformat_minor": 0
}
