{
 "cells": [
  {
   "cell_type": "code",
   "execution_count": 1,
   "metadata": {
    "collapsed": true
   },
   "outputs": [],
   "source": [
    "import numpy as np\n",
    "import matplotlib.pyplot as plt\n",
    "from scipy.integrate import complex_ode\n",
    "from numpy.lib import scimath\n",
    "%matplotlib inline"
   ]
  },
  {
   "cell_type": "markdown",
   "metadata": {},
   "source": [
    "# Equations\n",
    "Here we are solving a set of coupled differential equations gives (from Chapman supplement and Arne notebook)\n",
    "\n",
    "$$\\begin{align}\n",
    "    i \\dot{\\zeta}_1&= (p_1 B + q_1 B^2 + q\\mu_1(t))\\zeta_1+c\\left[(\\zeta_1^*\\zeta_1+\\zeta_0^*\\zeta_0-\\zeta_{-1}^*\\zeta_{-1})\\zeta_1+\\zeta_0\\zeta_0\\zeta_{-1}^*)\\right]\\\\\n",
    "    i\\dot{\\zeta}_0&=(p_0 B + q_0 B^2 + q\\mu_0(t))\\zeta_0+c\\left[(\\zeta_1^*\\zeta_1 + \\zeta_{-1}^*\\zeta_{-1})\\zeta_0 + 2\\zeta_1\\zeta_{-1}\\zeta_0^*\\right]\\\\\n",
    "    i \\dot{\\zeta}_{-1}&= (p_{-1} B + q_{-1} B^2 + q\\mu_{-1}(t))\\zeta_{-1}+c\\left[(\\zeta_{-1}^*\\zeta_{-1}+\\zeta_0^*\\zeta_0-\\zeta_{1}^*\\zeta_{1})\\zeta_{-1}+\\zeta_0\\zeta_0\\zeta_{1}^*)\\right]\\\\\n",
    "\\end{align}\n",
    "$$\n",
    "\n",
    "# Expectation Values\n",
    "First we note that \n",
    "$$ S_x = \\frac{1}{\\sqrt{2}}\\begin{pmatrix}\n",
    "0&1&0\\\\\n",
    "1&0&1\\\\\n",
    "0&1&0\\\\\n",
    "\\end{pmatrix}\n",
    "$$\n",
    "So to calculate its expectation value with a given wavefunction, we have\n",
    "$$\\psi^*S_x \\psi =  (\\psi_1^*,\\psi_0^*,\\psi_{-1}^*)\\frac{1}{\\sqrt{2}}\\begin{pmatrix}\n",
    "0&1&0\\\\\n",
    "1&0&1\\\\\n",
    "0&1&0\\\\\n",
    "\\end{pmatrix}\n",
    "\\begin{pmatrix}\n",
    "\\psi_1\\\\\n",
    "\\psi_0\\\\\n",
    "\\psi_{-1}\n",
    "\\end{pmatrix} = \\frac{(\\psi_1^*+\\psi_{-1}^*)\\psi_0 + \\psi_0^*(\\psi_{1}+\\psi_{-1})}{\\sqrt{2}}$$\n",
    "\n",
    "# Inital State (Hamley thesis and Chapman supplement)\n",
    "We can represent the initial state as a normal distribution in $S_x,S_y, N_{yz}, N_{xz}$, we can then derive starting conditions from these values and evolve the state."
   ]
  },
  {
   "cell_type": "code",
   "execution_count": 2,
   "metadata": {
    "collapsed": true
   },
   "outputs": [],
   "source": [
    "#first define the system dy/dt = f(y,t)\n",
    "def msqr(x):\n",
    "    return np.conj(x) * x\n",
    "\n",
    "def f(t,y,*args):\n",
    "    \"\"\"system of ode we want to solve\"\"\"\n",
    "    z1i = y[0]\n",
    "    z0i = y[1]\n",
    "    zmi = y[2]\n",
    "    #now define equations\n",
    "    f0 = ((p1*B+q1*B**2+qu1)*z1i + c*((msqr(z1i) + msqr(z0i) - msqr(zmi))*z1i + z0i*z0i*np.conj(zmi)))*np.complex(0,-1)\n",
    "    f1 = ((p0*B+q0*B**2+qu0)*z0i + c*((msqr(z1i) + msqr(zmi))*z0i + 2*z1i*zmi*np.conj(z0i)))*np.complex(0,-1)\n",
    "    f2 = ((pm1*B+qm1*B**2+qum1)*zmi + c*((msqr(zmi) + msqr(z0i) - msqr(z1i))*zmi + z0i*z0i*np.conj(z1i)))*np.complex(0,-1)\n",
    "    return [f0,f1,f2]    \n"
   ]
  },
  {
   "cell_type": "code",
   "execution_count": 3,
   "metadata": {
    "collapsed": false
   },
   "outputs": [],
   "source": [
    "#define necessary operators in matrix form\n",
    "pop_0 = np.array([[0,0,0],[0,1,0],[0,0,0]])\n",
    "sx = np.array([[0,1,0],[1,0,1],[0,1,0]])*1/np.sqrt(2)\n",
    "nyz =1j/np.sqrt(2)* np.array([[0,-1,0],[1,0,1],[0,-1,0]])\n",
    "def apply_operator(op,ele):\n",
    "    return np.dot(np.conj(ele),np.dot(op,ele.T))"
   ]
  },
  {
   "cell_type": "code",
   "execution_count": 4,
   "metadata": {
    "collapsed": false
   },
   "outputs": [],
   "source": [
    "def generate_states(N):\n",
    "    \"\"\"generate quasi probability distribution from Chapman paper\"\"\"\n",
    "    sx = np.random.normal(loc = 0, scale = 1/np.sqrt(N), size = int(np.sqrt(N)))\n",
    "    sy = np.random.normal(loc = 0, scale = 1/np.sqrt(N), size = int(np.sqrt(N)))\n",
    "    nyz = np.random.normal(loc = 0, scale = 1/np.sqrt(N), size = int(np.sqrt(N)))\n",
    "    nxz = np.random.normal(loc = 0, scale = 1/np.sqrt(N), size = int(np.sqrt(N)))\n",
    "    txipi = -(sy + nyz)/(sx + nxz)\n",
    "    tximi = (sy-nyz)/(sx-nyz)\n",
    "    def pos(x):\n",
    "        if x < 0:\n",
    "            return x + np.pi\n",
    "        else:\n",
    "            return x\n",
    "    txip = np.asarray([pos(i) for i in txipi])\n",
    "    txim = np.asarray([pos(i) for i in tximi])\n",
    "    \n",
    "   \n",
    "    a = (sx+nxz)**2/np.cos(np.arctan(txip))\n",
    "    b = (sx-nxz)**2/np.cos(np.arctan(txim))\n",
    "   \n",
    "\n",
    "    rho_0 = 1/2 + scimath.sqrt(1/4-1/8*(a+b))\n",
    "    m = 1/(8 * rho_0)*(a-b)\n",
    "    states = np.zeros((int(np.sqrt(N)),3),dtype = complex)\n",
    "\n",
    "    states[:,0] = scimath.sqrt((1-rho_0+m)/2) * np.exp(np.arctan(txip)*1j)\n",
    "    states[:,1] = scimath.sqrt(rho_0)\n",
    "    states[:,2] = scimath.sqrt((1-rho_0-m)/2) * np.exp(np.arctan(txim)*1j)\n",
    "    \n",
    "    return states"
   ]
  },
  {
   "cell_type": "code",
   "execution_count": 25,
   "metadata": {
    "collapsed": false
   },
   "outputs": [],
   "source": [
    "#define problem parameters\n",
    "dt = 1e-4\n",
    "tfinal = .1\n",
    "#allot arrays\n",
    "t = np.linspace(0,tfinal,int(tfinal/dt))\n",
    "\n",
    "def validate(par,t):\n",
    "    \"\"\"function to validate arrays\"\"\"\n",
    "    lt = len(t)\n",
    "    if isinstance(par,float) or isinstance(par,int) or isinstance(par,np.complex):\n",
    "        return np.asarray([par for i in t])\n",
    "    elif len(par)==lt:\n",
    "        return par\n",
    "    else:\n",
    "        print('check array dimensions')\n",
    "        \n",
    "\n",
    "#define parameters\n",
    "B =  21\n",
    "p1 = 0\n",
    "p0 = 0\n",
    "pm1 = 0\n",
    "qu1 =0\n",
    "qu0 = 0\n",
    "qum1= 0\n",
    "q1 = 0\n",
    "q0 = -2 *np.pi* 1109 + 2*np.pi* 832\n",
    "qm1=0\n",
    "c = 2*np.pi*38\n",
    "\n",
    "B_arr = validate(B,t)\n",
    "p1_arr = validate(p1,t)\n",
    "p0_arr = validate(p0,t)\n",
    "pm1_arr = validate(pm1,t)\n",
    "qu1_arr = validate(qu1,t)\n",
    "qu0_arr = validate(qu0,t)\n",
    "qum1_arr = validate(qum1,t)\n",
    "q1_arr = validate(q1,t)\n",
    "q0_arr = validate(q0,t)\n",
    "qm1_arr = validate(qm1,t)\n",
    "c_arr = validate(c,t)\n",
    "\n",
    "states = generate_states(40000)"
   ]
  },
  {
   "cell_type": "code",
   "execution_count": 26,
   "metadata": {
    "collapsed": false
   },
   "outputs": [],
   "source": [
    "#solve the sucker and plot\n",
    "def solve_system(y0):\n",
    "    r = complex_ode(f)\n",
    "    r.set_initial_value(y0,0)\n",
    "    ans = np.zeros((len(t),3),dtype = complex)\n",
    "    step  = 0\n",
    "    while r.successful() and r.t < tfinal:\n",
    "        #update the parameters\n",
    "        B = B_arr[step]\n",
    "        p1 = p1_arr[step]\n",
    "        p0 = p0_arr[step]\n",
    "        pm1 = pm1_arr[step]\n",
    "        qu1 = qu1_arr[step]\n",
    "        qu0 = qu0_arr[step]\n",
    "        qum1 = qum1_arr[step]\n",
    "        q1 = q1_arr[step]\n",
    "        q0 = q0_arr[step]\n",
    "        qm1 = qm1_arr[step]\n",
    "        c = c_arr[step]\n",
    "        ans[step] = np.asarray(r.integrate(r.t + dt))\n",
    "        step += 1\n",
    "    return ans\n",
    "\n",
    "def get_exp_values(sol,step_size):\n",
    "    \"\"\"function to compute expectation values\"\"\"\n",
    "    rho_0 = np.asarray([apply_operator(pop_0,i).real for i in sol])[::step_size]\n",
    "    sx_calc = np.asarray([apply_operator(sx,i).real for i in sol])[::step_size]\n",
    "    nyz_calc = np.asarray([apply_operator(nyz,i).real for i in sol])[::step_size]\n",
    "    return np.asarray([rho_0, sx_calc, nyz_calc])"
   ]
  },
  {
   "cell_type": "code",
   "execution_count": 27,
   "metadata": {
    "collapsed": false
   },
   "outputs": [
    {
     "name": "stderr",
     "output_type": "stream",
     "text": [
      "C:\\Miniconda3\\lib\\site-packages\\scipy\\integrate\\_ode.py:852: UserWarning: vode: Excess work done on this call. (Perhaps wrong MF.)\n",
      "  'Unexpected istate=%s' % istate))\n"
     ]
    }
   ],
   "source": [
    "#alot array for computation\n",
    "step_size = 50\n",
    "ans = np.zeros((len(states),3,len(t[::step_size])))\n",
    "#do calculation\n",
    "for i,state in enumerate(states):\n",
    "    ans[i] = get_exp_values(solve_system(state),step_size)"
   ]
  },
  {
   "cell_type": "code",
   "execution_count": 28,
   "metadata": {
    "collapsed": false
   },
   "outputs": [
    {
     "data": {
      "image/png": "[encoded data removed]",
      "text/plain": [
       "<matplotlib.figure.Figure at 0x814cc88>"
      ]
     },
     "metadata": {},
     "output_type": "display_data"
    }
   ],
   "source": [
    "fig, ax = plt.subplots(3,1)\n",
    "for i in range(3):\n",
    "    m = np.mean(ans[:,i],axis = 0)\n",
    "    s = np.std(ans[:,i],axis = 0)\n",
    "    ax[i].plot(t[::step_size],m)\n",
    "    ax[i].fill_between(t[::step_size,],m-s,m+s,facecolor='yellow',alpha=0.5)\n",
    "plt.tight_layout()"
   ]
  },
  {
   "cell_type": "code",
   "execution_count": null,
   "metadata": {
    "collapsed": true
   },
   "outputs": [],
   "source": []
  }
 ],
 "metadata": {
  "kernelspec": {
   "display_name": "Python 3",
   "language": "python",
   "name": "python3"
  },
  "language_info": {
   "codemirror_mode": {
    "name": "ipython",
    "version": 3
   },
   "file_extension": ".py",
   "mimetype": "text/x-python",
   "name": "python",
   "nbconvert_exporter": "python",
   "pygments_lexer": "ipython3",
   "version": "3.4.3"
  }
 },
 "nbformat": 4,
 "nbformat_minor": 0
}
