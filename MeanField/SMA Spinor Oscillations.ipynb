{
 "cells": [
  {
   "cell_type": "markdown",
   "metadata": {},
   "source": [
    "# Equations\n",
    "Here we are solving a set of coupled differential equations gives (from Chapman supplement and Arne notebook)\n",
    "\n",
    "$$\\begin{align}\n",
    "    i \\dot{\\zeta}_1&= (p_1 B + q_1 B^2 + q\\mu_1(t))\\zeta_1+c\\left[(\\zeta_1^*\\zeta_1+\\zeta_0^*\\zeta_0-\\zeta_{-1}^*\\zeta_{-1})\\zeta_1+\\zeta_0\\zeta_0\\zeta_{-1}^*)\\right]\\\\\n",
    "    i\\dot{\\zeta}_0&=(p_0 B + q_0 B^2 + q\\mu_0(t))\\zeta_0+c\\left[(\\zeta_1^*\\zeta_1 + \\zeta_{-1}^*\\zeta_{-1})\\zeta_0 + 2\\zeta_1\\zeta_{-1}\\zeta_0^*\\right]\\\\\n",
    "    i \\dot{\\zeta}_{-1}&= (p_{-1} B + q_{-1} B^2 + q\\mu_{-1}(t))\\zeta_{-1}+c\\left[(\\zeta_{-1}^*\\zeta_{-1}+\\zeta_0^*\\zeta_0-\\zeta_{1}^*\\zeta_{1})\\zeta_{-1}+\\zeta_0\\zeta_0\\zeta_{1}^*)\\right]\\\\\n",
    "\\end{align}\n",
    "$$\n",
    "\n",
    "# Expectation Values\n",
    "First we note that \n",
    "$$ S_x = \\frac{1}{\\sqrt{2}}\\begin{pmatrix}\n",
    "0&1&0\\\\\n",
    "1&0&1\\\\\n",
    "0&1&0\\\\\n",
    "\\end{pmatrix}\n",
    "$$\n",
    "So to calculate its expectation value with a given wavefunction, we have\n",
    "$$\\psi^*S_x \\psi =  (\\psi_1^*,\\psi_0^*,\\psi_{-1}^*)\\frac{1}{\\sqrt{2}}\\begin{pmatrix}\n",
    "0&1&0\\\\\n",
    "1&0&1\\\\\n",
    "0&1&0\\\\\n",
    "\\end{pmatrix}\n",
    "\\begin{pmatrix}\n",
    "\\psi_1\\\\\n",
    "\\psi_0\\\\\n",
    "\\psi_{-1}\n",
    "\\end{pmatrix} = \\frac{(\\psi_1^*+\\psi_{-1}^*)\\psi_0 + \\psi_0^*(\\psi_{1}+\\psi_{-1})}{\\sqrt{2}}$$\n",
    "\n",
    "# Inital State (Hamley thesis and Chapman supplement)\n",
    "We can represent the initial state as a normal distribution in $S_x,S_y, N_{yz}, N_{xz}$, we can then derive starting conditions from these values and evolve the state."
   ]
  },
  {
   "cell_type": "code",
   "execution_count": 259,
   "metadata": {
    "collapsed": true
   },
   "outputs": [],
   "source": [
    "import numpy as np\n",
    "import matplotlib.pyplot as plt\n",
    "from scipy.integrate import ode\n",
    "from numpy.lib import scimath\n",
    "import seaborn\n",
    "import time\n",
    "from tqdm import trange\n",
    "%matplotlib inline"
   ]
  },
  {
   "cell_type": "code",
   "execution_count": 515,
   "metadata": {
    "collapsed": false
   },
   "outputs": [],
   "source": [
    "#first define the system dy/dt = f(y,t)\n",
    "def msqr(x):\n",
    "    return x*np.conj(x) \n",
    "\n",
    "def f(t,y,*args):\n",
    "    \"\"\"system of ode we want to solve\"\"\"\n",
    "    z1i = y[0]\n",
    "    z0i = y[1]\n",
    "    zmi = y[2]\n",
    "    #now define equations\n",
    "    f0 = (q*z1i + c*((msqr(z1i) + msqr(z0i) - msqr(zmi))*z1i + z0i**2*np.conj(zmi)))*np.complex(0,-1)\n",
    "    f1 = (c*((msqr(z1i) + msqr(zmi))*z0i) + 2*c*z1i*zmi*np.conj(z0i))*np.complex(0,-1)\n",
    "    f2 = (q*zmi + c*((msqr(zmi) + msqr(z0i) - msqr(z1i))*zmi + z0i**2*np.conj(z1i)))*np.complex(0,-1)\n",
    "    return np.asarray([f0,f1,f2])   \n",
    "\n",
    "class Operator(object):\n",
    "    \"\"\"class of operator for 3x3 matrices in this problem\"\"\"\n",
    "    def __init__(self, mat,rep):\n",
    "        self.rep = rep\n",
    "        self.mat = mat\n",
    "\n",
    "    def apply(self,ele):\n",
    "        return np.dot(ele, np.dot(self.mat,np.conj(ele).T)).real\n",
    "        #return np.dot(np.conj(ele), np.dot(self.mat,ele.T)).real\n",
    "    \n",
    "def find_phase(ele):\n",
    "    \"\"\"find the phase theta_1+theta_-1-2theta_0\"\"\"\n",
    "    ans =  np.angle(ele)\n",
    "    return ans[0] + ans[2] - 2 * ans[1]\n",
    "\n",
    "def func_int(yn,t):\n",
    "    return f(t,yn)\n",
    "\n",
    "def ynplus1(func, yn,t,dt,**kwargs):\n",
    "    \"\"\"evolve Runge kutta with function func which takes two input arguments\n",
    "    yn and t and possibly extra arguments\n",
    "    :param yn: value at the previous iteration\n",
    "    :param t: the time at current iteration\n",
    "    :param dt: time step\n",
    "    \"\"\"\n",
    "    k1 = func(yn,t,**kwargs)\n",
    "    k2 =  func(yn+dt/2*k1,t+dt/2,**kwargs)\n",
    "    k3 = func(yn+dt/2*k2,t+dt/2,**kwargs)\n",
    "    k4 = func(yn+dt*k3,t+dt,**kwargs)\n",
    "    a = k1+ 2 * k2 + 2 * k3 + k4\n",
    "    return yn + dt*a/6"
   ]
  },
  {
   "cell_type": "code",
   "execution_count": 516,
   "metadata": {
    "collapsed": false
   },
   "outputs": [],
   "source": [
    "S_x = Operator(np.array([[0,1,0],[1,0,1],[0,1,0]])*1/np.sqrt(2),r'$S_x$')\n",
    "N_yz = Operator(1j/np.sqrt(2)* np.array([[0,-1,0],[1,0,1],[0,-1,0]]),r'$N_{yz}#')\n",
    "rho_0 = Operator(np.array([[0,0,0],[0,1,0],[0,0,0]]),r'$\\rho_0$')"
   ]
  },
  {
   "cell_type": "code",
   "execution_count": 576,
   "metadata": {
    "collapsed": false
   },
   "outputs": [],
   "source": [
    "def generate_states_new(N,s):\n",
    "    \"\"\"generate quasi probability distribution from Chapman paper\"\"\"\n",
    "\n",
    "    sx =np.random.normal(loc = 0, scale = 1/np.sqrt(N), size = s)\n",
    "    sy = np.random.normal(loc = 0, scale = 1/np.sqrt(N), size = s)\n",
    "    nyz = np.random.normal(loc = 0, scale = 1/np.sqrt(N), size = s)\n",
    "    nxz =np.random.normal(loc = 0, scale = 1/np.sqrt(N), size = s)\n",
    "\n",
    "    #txip = np.arctan(-(sy + nyz)/(sx+ nxz))\n",
    "    #txim = np.arctan((sy-nyz)/(sx-nxz))\n",
    "    txip = np.zeros(len(sx))\n",
    "    txim = np.zeros(len(sy))\n",
    "    aa = sy+nyz\n",
    "    bb = sy-nyz\n",
    "    for i in range(len(aa)):\n",
    "        if aa[i] > 0:\n",
    "            txip[i] = np.arctan(-(aa[i])/(sx[i]+nxz[i]))\n",
    "        else:\n",
    "            txip[i] = np.arctan(-aa[i]/(sx[i]+nxz[i]))+np.pi\n",
    "        if bb[i] > 0:\n",
    "            txim[i] = np.arctan(bb[i]/(sx[i]-nxz[i]))\n",
    "        else:\n",
    "            txim[i] = np.arctan(bb[i]/(sx[i]-nxz[i]))+np.pi\n",
    "    \n",
    "    a = (sx+nxz)**2/(np.cos(txip))**2\n",
    "    b = (sx-nxz)**2/(np.cos(txim))**2\n",
    "\n",
    "    rho_0 = 1/2 + scimath.sqrt(1/4-(a+b)/8)\n",
    "    m = 1/rho_0*(a-b)/8\n",
    "\n",
    "    states = np.zeros((len(m),3),dtype = complex)\n",
    "\n",
    "    states[:,0] = scimath.sqrt((1-rho_0+m)/2) * np.exp(txip*1j)\n",
    "    states[:,1] = scimath.sqrt(rho_0)\n",
    "    states[:,2] = scimath.sqrt((1-rho_0-m)/2) * np.exp(txim*1j)\n",
    "    \n",
    "    return states\n",
    "\n",
    "def generate_states_new1(N,s):\n",
    "    \"\"\"generate quasi probability distribution from Chapman paper\"\"\"\n",
    "\n",
    "    sx =np.random.normal(loc = 0, scale = 1/np.sqrt(N), size = s)\n",
    "    sy = np.random.normal(loc = 0, scale = 1/np.sqrt(N), size = s)\n",
    "    nyz = np.random.normal(loc = 0, scale = 1/np.sqrt(N), size = s)\n",
    "    nxz =np.random.normal(loc = 0, scale = 1/np.sqrt(N), size = s)\n",
    "\n",
    "    txip = np.where(sy+nyz>0,np.arctan(-(sy + nyz)/(sx+ nxz)),np.arctan(-(sy + nyz)/(sx+ nxz))+np.pi)\n",
    "    txim = np.where(sy-nyz>0,np.arctan((sy-nyz)/(sx-nxz)),np.arctan((sy-nyz)/(sx-nxz))+np.pi)\n",
    "   \n",
    "    a = (sx+nxz)**2/(np.cos(txip))**2\n",
    "    b = (sx-nxz)**2/(np.cos(txim))**2\n",
    "\n",
    "    rho_0 = 1/2 + scimath.sqrt(1/4-(a+b)/8)\n",
    "    m = 1/rho_0*(a-b)/8\n",
    "\n",
    "    states = np.zeros((len(m),3),dtype = complex)\n",
    "\n",
    "    states[:,0] = scimath.sqrt((1-rho_0+m)/2) * np.exp(txip*1j)\n",
    "    states[:,1] = scimath.sqrt(rho_0)\n",
    "    states[:,2] = scimath.sqrt((1-rho_0-m)/2) * np.exp(txim*1j)\n",
    "    \n",
    "    return states\n",
    "\n",
    "def generate_states(N,s):\n",
    "    \"\"\"generate quasi probability distribution from Chapman paper\"\"\"\n",
    "      \n",
    "    sx =np.random.normal(loc = 0, scale = 1/np.sqrt(N), size = s)\n",
    "    sy = np.random.normal(loc = 0, scale = 1/np.sqrt(N), size = s)\n",
    "    nyz = np.random.normal(loc = 0, scale = 1/np.sqrt(N), size = s)\n",
    "    nxz =np.random.normal(loc = 0, scale = 1/np.sqrt(N), size = s)\n",
    "\n",
    "    txip = np.arctan(-(sy + nyz)/(sx+ nxz))\n",
    "    txim = np.arctan((sy-nyz)/(sx-nxz))\n",
    "    \n",
    "    a = (sx+nxz)**2/(np.cos(txip))**2\n",
    "    b = (sx-nxz)**2/(np.cos(txim))**2\n",
    "\n",
    "    rho_0 = 1/2 + scimath.sqrt(1/4-(a+b)/8)\n",
    "    m = 1/rho_0*(a-b)/8\n",
    "\n",
    "    states = np.zeros((len(m),3),dtype = complex)\n",
    "\n",
    "    states[:,0] = scimath.sqrt((1-rho_0+m)/2) * np.exp(txip*1j)\n",
    "    states[:,1] = scimath.sqrt(rho_0)\n",
    "    states[:,2] = scimath.sqrt((1-rho_0-m)/2) * np.exp(txim*1j)\n",
    "    \n",
    "    return states\n",
    "\n",
    "#solve the sucker and plot\n",
    "def solve_system_fixed(y0):\n",
    "    dt = 0.0005\n",
    "    t = []\n",
    "    sol = []\n",
    "    num_steps = int(tfinal/dt)\n",
    "    for i in range(num_steps):\n",
    "        sol.append(y0)\n",
    "        t.append(i*dt)\n",
    "        y0 = ynplus1(func_int,y0,i*dt,dt)\n",
    "    t = np.asarray(t)\n",
    "    sol = np.asarray(sol)\n",
    "    return t, sol\n",
    "\n",
    "def solve_system(y0):\n",
    "    r = ode(f).set_integrator('zvode')\n",
    "    r.set_initial_value(y0,0)\n",
    "    sol = []\n",
    "    t= []\n",
    "    while r.successful() and r.t < tfinal:\n",
    "        r.integrate(tfinal, step = True)\n",
    "        sol.append(r.y)\n",
    "        t.append(r.t)\n",
    "    t = np.asarray([t])\n",
    "    sol = np.asarray(sol)\n",
    "    return np.concatenate((t.T,sol), axis = 1)\n",
    "\n",
    "def get_exp_values(ans,step_size):\n",
    "    \"\"\"function to compute expectation values\"\"\"\n",
    "    sol = ans[:,1:]\n",
    "    #r_0 = np.asarray([rho_0.apply(i) for i in sol[::step_size]]).real\n",
    "    r_0 = np.asarray([np.conj(i[1]) * i[1] for i in sol[::step_size]]).real\n",
    "    sx_calc = np.asarray([S_x.apply(i) for i in sol[::step_size]]).real\n",
    "    nyz_calc = np.asarray([N_yz.apply(i) for i in sol[::step_size]]).real\n",
    "    phase = np.asarray([find_phase(i) for i in sol[::step_size]]).real\n",
    "    return np.asarray([ans[:,0][::step_size].real,r_0, sx_calc, nyz_calc, phase]), len(ans[:,0][::step_size])\n",
    "\n",
    "def solve_TWA():\n",
    "    #alot array for computation\n",
    "    step_size = 1\n",
    "    ans = []\n",
    "    t_max = 0\n",
    "    t_index = 0\n",
    "    #do calculation\n",
    "    for i,state in enumerate(states):\n",
    "        vals, t_num = get_exp_values(solve_system(state),step_size)\n",
    "        ans.append(vals)\n",
    "        if t_num > t_max:\n",
    "            t_max = t_num\n",
    "            t_index = i\n",
    "    ans_1 = ans\n",
    "    t_interp = ans_1[t_index][0]\n",
    "    #alot array for interpolation\n",
    "    ans = np.zeros((len(states),4,len(t_interp)))\n",
    "    for i, vals in enumerate(ans_1):\n",
    "        for j, row in enumerate(vals[1:]):\n",
    "            ans[i,j] = np.interp(t_interp,vals[0],row)\n",
    "\n",
    "    #output routine\n",
    "    m = np.mean(ans[:,0],axis = 0)\n",
    "    s = np.std(ans[:,0],axis = 0)\n",
    "    return t_interp,m,s\n",
    "\n",
    "def solve_TWA_fixed():\n",
    "    #alot array for computation\n",
    "    step_size = 1\n",
    "    ans = []\n",
    "    sols = []\n",
    "    #do calculation\n",
    "    for i in trange(len(states)):\n",
    "        state = states[i]\n",
    "        t, sol = solve_system_fixed(state)\n",
    "        sols.append(sol)\n",
    "        #get expectation values\n",
    "        rho = np.asarray([i[1]*np.conj(i[1]) for i in sol]).real\n",
    "        ans.append(rho)\n",
    "   \n",
    "    ans = np.asarray(ans)\n",
    "    m = np.mean(ans,axis=0)\n",
    "    std = np.std(ans,axis =0)\n",
    "    return t, m,std, sols\n"
   ]
  },
  {
   "cell_type": "code",
   "execution_count": 581,
   "metadata": {
    "collapsed": false
   },
   "outputs": [
    {
     "name": "stdout",
     "output_type": "stream",
     "text": [
      "52.79401969909668\n",
      "53.07203555107117\n"
     ]
    }
   ],
   "source": [
    "#define problem parameters\n",
    "#dt = 2.1e-5\n",
    "tfinal = .2\n",
    "q = -5*2*np.pi\n",
    "c = 2*np.pi*30\n",
    "N = 10000\n",
    "states = generate_states_new(N,5000)\n",
    "ts = time.time()\n",
    "t,m,s = solve_TWA()\n",
    "tm = time.time()\n",
    "states = generate_states_new1(N,5000)\n",
    "t1,m1,s1 = solve_TWA()\n",
    "#t1,m1,s1,sol = solve_TWA_fixed()\n",
    "te = time.time()\n",
    "print(tm-ts)\n",
    "print(te-tm)"
   ]
  },
  {
   "cell_type": "code",
   "execution_count": 582,
   "metadata": {
    "collapsed": false
   },
   "outputs": [
    {
     "data": {
      "text/plain": [
       "(0, 0.2)"
      ]
     },
     "execution_count": 582,
     "metadata": {},
     "output_type": "execute_result"
    },
    {
     "data": {
      "image/png": "[encoded data removed]",
      "text/plain": [
       "<matplotlib.figure.Figure at 0x1ee1ad68>"
      ]
     },
     "metadata": {},
     "output_type": "display_data"
    }
   ],
   "source": [
    "#sol1 = np.asarray(sol)\n",
    "#plt.plot(t1,np.mean(msqr(sol1).real, axis = 0)[:,1],label='magfirst')\n",
    "plt.plot(t1,m1,label='old')\n",
    "plt.plot(t,m,label='new')\n",
    "plt.plot(don_data[:,0],don_data[:,1],'--',label='don')\n",
    "plt.legend()\n",
    "plt.xlim([0,.2])"
   ]
  },
  {
   "cell_type": "code",
   "execution_count": 579,
   "metadata": {
    "collapsed": false
   },
   "outputs": [
    {
     "data": {
      "image/png": "[encoded data removed]",
      "text/plain": [
       "<matplotlib.figure.Figure at 0x1e9bf9e8>"
      ]
     },
     "metadata": {},
     "output_type": "display_data"
    }
   ],
   "source": [
    "plt.plot(t1,m1,label='fixed')\n",
    "plt.plot(t,m,label='vary')\n",
    "plt.plot(t1,s1,'--')\n",
    "plt.plot(t,s,'--')\n",
    "don_data=np.loadtxt('C:\\\\Users\\\\Administrator\\\\Documents\\\\dpf_m5q10k_Mean_result.txt',skiprows=1)\n",
    "plt.plot(don_data[:,0],don_data[:,1],label='don')\n",
    "plt.plot(don_data[:,0],don_data[:,2],'--')\n",
    "plt.legend()\n",
    "plt.savefig('testing.pdf')"
   ]
  },
  {
   "cell_type": "code",
   "execution_count": 345,
   "metadata": {
    "collapsed": false
   },
   "outputs": [
    {
     "name": "stdout",
     "output_type": "stream",
     "text": [
      "-31.41592653589793\n"
     ]
    }
   ],
   "source": [
    "#out_data = np.vstack((t,m,s))\n",
    "#np.savetxt('data.txt',out_data)\n",
    "print(q)"
   ]
  },
  {
   "cell_type": "code",
   "execution_count": 584,
   "metadata": {
    "collapsed": false
   },
   "outputs": [
    {
     "name": "stdout",
     "output_type": "stream",
     "text": [
      "The slowest run took 4.60 times longer than the fastest. This could mean that an intermediate result is being cached \n",
      "100 loops, best of 3: 3.13 ms per loop\n",
      "10 loops, best of 3: 26.8 ms per loop\n"
     ]
    }
   ],
   "source": [
    "%timeit st = generate_states_new1(10000,8000)\n",
    "%timeit st1 = generate_states_new(10000,8000)"
   ]
  },
  {
   "cell_type": "code",
   "execution_count": 585,
   "metadata": {
    "collapsed": false
   },
   "outputs": [
    {
     "name": "stdout",
     "output_type": "stream",
     "text": [
      "9999.00137681 9998.99665462\n",
      "0.70599192292\n",
      "0.498424595228\n"
     ]
    },
    {
     "data": {
      "image/png": "[encoded data removed]",
      "text/plain": [
       "<matplotlib.figure.Figure at 0x1e033cf8>"
      ]
     },
     "metadata": {},
     "output_type": "display_data"
    }
   ],
   "source": [
    "rho_0  = st[:,1].real**2*10000\n",
    "rho_01  = st1[:,1].real**2*10000\n",
    "plt.hist(rho_0,bins=100,normed=True);\n",
    "plt.hist(rho_01,bins=100,normed=True);\n",
    "print(rho_0.mean(),rho_01.mean())\n",
    "print(rho_0.std())\n",
    "print(rho_0.var())\n",
    "don_data=np.loadtxt('C:\\\\Users\\\\Administrator\\\\Documents\\\\data_hist.txt')\n",
    "plt.hist(don_data,bins=100,normed=True);"
   ]
  },
  {
   "cell_type": "code",
   "execution_count": 145,
   "metadata": {
    "collapsed": false
   },
   "outputs": [
    {
     "data": {
      "text/plain": [
       "9998.9998515677908"
      ]
     },
     "execution_count": 145,
     "metadata": {},
     "output_type": "execute_result"
    }
   ],
   "source": [
    "np.mean(st[:,1].real**2*10000)"
   ]
  },
  {
   "cell_type": "code",
   "execution_count": 146,
   "metadata": {
    "collapsed": false
   },
   "outputs": [
    {
     "data": {
      "text/plain": [
       "0.70796655345061588"
      ]
     },
     "execution_count": 146,
     "metadata": {},
     "output_type": "execute_result"
    }
   ],
   "source": [
    "np.std(st[:,1].real**2*10000)"
   ]
  },
  {
   "cell_type": "code",
   "execution_count": 147,
   "metadata": {
    "collapsed": false
   },
   "outputs": [
    {
     "data": {
      "text/plain": [
       "0.70710678118654746"
      ]
     },
     "execution_count": 147,
     "metadata": {},
     "output_type": "execute_result"
    }
   ],
   "source": [
    "1/np.sqrt(2)"
   ]
  },
  {
   "cell_type": "code",
   "execution_count": 182,
   "metadata": {
    "collapsed": false
   },
   "outputs": [
    {
     "data": {
      "text/plain": [
       "[<matplotlib.lines.Line2D at 0x19a1d5f8>]"
      ]
     },
     "execution_count": 182,
     "metadata": {},
     "output_type": "execute_result"
    },
    {
     "data": {
      "image/png": "[encoded data removed]",
      "text/plain": [
       "<matplotlib.figure.Figure at 0x191c02e8>"
      ]
     },
     "metadata": {},
     "output_type": "display_data"
    }
   ],
   "source": [
    "tfinal = .1\n",
    "q = -9.86084\n",
    "c = 2*np.pi*30\n",
    "N = 10000\n",
    "data =  solve_system_adapt([.5,1/np.sqrt(2),.5])\n",
    "plt.plot(data[:,0].real,(np.conj(data[:,2])*data[:,2]).real)"
   ]
  },
  {
   "cell_type": "code",
   "execution_count": null,
   "metadata": {
    "collapsed": true
   },
   "outputs": [],
   "source": []
  }
 ],
 "metadata": {
  "kernelspec": {
   "display_name": "Python 3",
   "language": "python",
   "name": "python3"
  },
  "language_info": {
   "codemirror_mode": {
    "name": "ipython",
    "version": 3
   },
   "file_extension": ".py",
   "mimetype": "text/x-python",
   "name": "python",
   "nbconvert_exporter": "python",
   "pygments_lexer": "ipython3",
   "version": "3.5.1"
  }
 },
 "nbformat": 4,
 "nbformat_minor": 0
}
