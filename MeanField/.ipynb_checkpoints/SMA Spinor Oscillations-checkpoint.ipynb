{
 "cells": [
  {
   "cell_type": "markdown",
   "metadata": {},
   "source": [
    "# Equations\n",
    "Here we are solving a set of coupled differential equations gives (from Chapman supplement and Arne notebook)\n",
    "\n",
    "$$\\begin{align}\n",
    "    i \\dot{\\zeta}_1&= (p_1 B + q_1 B^2 + q\\mu_1(t))\\zeta_1+c\\left[(\\zeta_1^*\\zeta_1+\\zeta_0^*\\zeta_0-\\zeta_{-1}^*\\zeta_{-1})\\zeta_1+\\zeta_0\\zeta_0\\zeta_{-1}^*)\\right]\\\\\n",
    "    i\\dot{\\zeta}_0&=(p_0 B + q_0 B^2 + q\\mu_0(t))\\zeta_0+c\\left[(\\zeta_1^*\\zeta_1 + \\zeta_{-1}^*\\zeta_{-1})\\zeta_0 + 2\\zeta_1\\zeta_{-1}\\zeta_0^*\\right]\\\\\n",
    "    i \\dot{\\zeta}_{-1}&= (p_{-1} B + q_{-1} B^2 + q\\mu_{-1}(t))\\zeta_{-1}+c\\left[(\\zeta_{-1}^*\\zeta_{-1}+\\zeta_0^*\\zeta_0-\\zeta_{1}^*\\zeta_{1})\\zeta_{-1}+\\zeta_0\\zeta_0\\zeta_{1}^*)\\right]\\\\\n",
    "\\end{align}\n",
    "$$\n",
    "\n",
    "# Expectation Values\n",
    "First we note that \n",
    "$$ S_x = \\frac{1}{\\sqrt{2}}\\begin{pmatrix}\n",
    "0&1&0\\\\\n",
    "1&0&1\\\\\n",
    "0&1&0\\\\\n",
    "\\end{pmatrix}\n",
    "$$\n",
    "So to calculate its expectation value with a given wavefunction, we have\n",
    "$$\\psi^*S_x \\psi =  (\\psi_1^*,\\psi_0^*,\\psi_{-1}^*)\\frac{1}{\\sqrt{2}}\\begin{pmatrix}\n",
    "0&1&0\\\\\n",
    "1&0&1\\\\\n",
    "0&1&0\\\\\n",
    "\\end{pmatrix}\n",
    "\\begin{pmatrix}\n",
    "\\psi_1\\\\\n",
    "\\psi_0\\\\\n",
    "\\psi_{-1}\n",
    "\\end{pmatrix} = \\frac{(\\psi_1^*+\\psi_{-1}^*)\\psi_0 + \\psi_0^*(\\psi_{1}+\\psi_{-1})}{\\sqrt{2}}$$\n",
    "\n",
    "# Inital State (Hamley thesis and Chapman supplement)\n",
    "We can represent the initial state as a normal distribution in $S_x,S_y, N_{yz}, N_{xz}$, we can then derive starting conditions from these values and evolve the state."
   ]
  },
  {
   "cell_type": "code",
   "execution_count": 28,
   "metadata": {
    "collapsed": true
   },
   "outputs": [],
   "source": [
    "import numpy as np\n",
    "import matplotlib.pyplot as plt\n",
    "from scipy.integrate import ode\n",
    "from numpy.lib import scimath\n",
    "import seaborn\n",
    "import time\n",
    "from tqdm import trange\n",
    "%matplotlib inline"
   ]
  },
  {
   "cell_type": "code",
   "execution_count": 29,
   "metadata": {
    "collapsed": false
   },
   "outputs": [],
   "source": [
    "#first define the system dy/dt = f(y,t)\n",
    "def msqr(x):\n",
    "    return x*np.conj(x) \n",
    "\n",
    "def f(t,y,*args):\n",
    "    \"\"\"system of ode we want to solve\"\"\"\n",
    "    z1i = y[0]\n",
    "    z0i = y[1]\n",
    "    zmi = y[2]\n",
    "    #now define equations\n",
    "    f0 = (q*z1i + c*((msqr(z1i) + msqr(z0i) - msqr(zmi))*z1i + z0i**2*np.conj(zmi)))*np.complex(0,-1)\n",
    "    f1 = (c*((msqr(z1i) + msqr(zmi))*z0i) + 2*c*z1i*zmi*np.conj(z0i))*np.complex(0,-1)\n",
    "    f2 = (q*zmi + c*((msqr(zmi) + msqr(z0i) - msqr(z1i))*zmi + z0i**2*np.conj(z1i)))*np.complex(0,-1)\n",
    "    return np.asarray([f0,f1,f2])   \n",
    "\n",
    "class Operator(object):\n",
    "    \"\"\"class of operator for 3x3 matrices in this problem\"\"\"\n",
    "    def __init__(self, mat,rep):\n",
    "        self.rep = rep\n",
    "        self.mat = mat\n",
    "\n",
    "    def apply(self,ele):\n",
    "        return np.dot(ele, np.dot(self.mat,np.conj(ele).T)).real\n",
    "        #return np.dot(np.conj(ele), np.dot(self.mat,ele.T)).real\n",
    "    \n",
    "def find_phase(ele):\n",
    "    \"\"\"find the phase theta_1+theta_-1-2theta_0\"\"\"\n",
    "    ans =  np.angle(ele)\n",
    "    return ans[0] + ans[2] - 2 * ans[1]\n",
    "\n",
    "def func_int(yn,t):\n",
    "    return f(t,yn)\n",
    "\n",
    "def ynplus1(func, yn,t,dt,**kwargs):\n",
    "    \"\"\"evolve Runge kutta with function func which takes two input arguments\n",
    "    yn and t and possibly extra arguments\n",
    "    :param yn: value at the previous iteration\n",
    "    :param t: the time at current iteration\n",
    "    :param dt: time step\n",
    "    \"\"\"\n",
    "    k1 = func(yn,t,**kwargs)\n",
    "    k2 =  func(yn+dt/2*k1,t+dt/2,**kwargs)\n",
    "    k3 = func(yn+dt/2*k2,t+dt/2,**kwargs)\n",
    "    k4 = func(yn+dt*k3,t+dt,**kwargs)\n",
    "    a = k1+ 2 * k2 + 2 * k3 + k4\n",
    "    return yn + dt*a/6"
   ]
  },
  {
   "cell_type": "code",
   "execution_count": 30,
   "metadata": {
    "collapsed": false
   },
   "outputs": [],
   "source": [
    "S_x = Operator(np.array([[0,1,0],[1,0,1],[0,1,0]])*1/np.sqrt(2),r'$S_x$')\n",
    "N_yz = Operator(1j/np.sqrt(2)* np.array([[0,-1,0],[1,0,1],[0,-1,0]]),r'$N_{yz}#')\n",
    "rho_0 = Operator(np.array([[0,0,0],[0,1,0],[0,0,0]]),r'$\\rho_0$')"
   ]
  },
  {
   "cell_type": "code",
   "execution_count": 57,
   "metadata": {
    "collapsed": false
   },
   "outputs": [],
   "source": [
    "def generate_states(N1,N0,Nm1,theta,s):\n",
    "    \"\"\"generate quasi probability distribution\"\"\"\n",
    "    N = N1 + N0 + Nm1\n",
    "    r0 = N0/N\n",
    "    r1 = N1/N\n",
    "    rm1 = Nm1/N\n",
    "    a = np.sqrt(2*r0*r1)\n",
    "    b = np.sqrt(2*r0*rm1)\n",
    "    sx_mean = np.cos(theta/2)*(a+b)\n",
    "    sy_mean = np.sin(theta/2)*(b-a)\n",
    "    nyz_mean = -np.sin(theta/2)*(a+b)\n",
    "    nxz_mean = np.cos(theta/2)*(a-b)\n",
    "    var_one = N*np.sqrt(r0**2-2*r0*np.sqrt(r1)*np.sqrt(rm1)*np.cos(theta)-r0*r1-r0*rm1+r1**(3/2)*np.sqrt(rm1)*np.cos(theta)+np.sqrt(r1)*rm1**(3/2)*np.cos(theta)+0.25*r1**2+0.5*r1*rm1*np.cos(2*theta) + r1*rm1 + 0.25*rm1**2)\n",
    "    var_two = N*np.sqrt(r0**2+2*r0*np.sqrt(r1)*np.sqrt(rm1)*np.cos(theta)-r0*r1-r0*rm1-r1**(3/2)*np.sqrt(rm1)*np.cos(theta)-np.sqrt(r1)*rm1**(3/2)*np.cos(theta)+0.25*r1**2+0.5*r1*rm1*np.cos(2*theta) + r1*rm1 + 0.25*rm1**2)\n",
    "    print(var_one,var_two)\n",
    "    print(sx_mean,sy_mean,nyz_mean,nxz_mean)\n",
    "    sx = np.random.normal(loc = sx_mean, scale = 1/np.sqrt(var_one), size = s)\n",
    "    sy = np.random.normal(loc = sy_mean, scale = 1/np.sqrt(var_two), size = s)\n",
    "    nyz = np.random.normal(loc = nyz_mean, scale = 1/np.sqrt(var_one), size = s)\n",
    "    nxz = np.random.normal(loc = nxz_mean, scale = 1/np.sqrt(var_two), size = s)\n",
    "\n",
    "    \n",
    "    txip = np.where((sx+nxz)>0,np.arctan(-(sy + nyz)/(sx+ nxz)),np.arctan(-(sy + nyz)/(sx+ nxz))+np.pi)\n",
    "    txim = np.where((sx-nxz)>0,np.arctan((sy-nyz)/(sx-nxz)),np.arctan((sy-nyz)/(sx-nxz))+np.pi)\n",
    "    a = (sx+nxz)**2/(np.cos(txip))**2\n",
    "    b = (sx-nxz)**2/(np.cos(txim))**2\n",
    "\n",
    "    rho_0 = 1/2 + scimath.sqrt(1/4-(a+b)/8)\n",
    "    m = 1/rho_0*(a-b)/8\n",
    "    \n",
    "    states = np.zeros((len(m),3),dtype = complex)\n",
    "\n",
    "    states[:,0] = scimath.sqrt((1-rho_0+m)/2) * np.exp(txip*1j)\n",
    "    states[:,1] = scimath.sqrt(rho_0)\n",
    "    states[:,2] = scimath.sqrt((1-rho_0-m)/2) * np.exp(txim*1j)\n",
    "\n",
    "    return states\n",
    "#solve the sucker and plot\n",
    "def solve_system_fixed(y0):\n",
    "    dt = 0.0005\n",
    "    t = []\n",
    "    sol = []\n",
    "    num_steps = int(tfinal/dt)\n",
    "    for i in range(num_steps):\n",
    "        sol.append(y0)\n",
    "        t.append(i*dt)\n",
    "        y0 = ynplus1(func_int,y0,i*dt,dt)\n",
    "    t = np.asarray(t)\n",
    "    sol = np.asarray(sol)\n",
    "    return t, sol\n",
    "\n",
    "def solve_system(y0):\n",
    "    r = ode(f).set_integrator('zvode')\n",
    "    r.set_initial_value(y0,0)\n",
    "    sol = []\n",
    "    t= []\n",
    "    while r.successful() and r.t < tfinal:\n",
    "        r.integrate(tfinal, step = True)\n",
    "        sol.append(r.y)\n",
    "        t.append(r.t)\n",
    "    t = np.asarray([t])\n",
    "    sol = np.asarray(sol)\n",
    "    return np.concatenate((t.T,sol), axis = 1)\n",
    "\n",
    "def get_exp_values(ans,step_size):\n",
    "    \"\"\"function to compute expectation values\"\"\"\n",
    "    sol = ans[:,1:]\n",
    "    #r_0 = np.asarray([rho_0.apply(i) for i in sol[::step_size]]).real\n",
    "    r_0 = np.asarray([np.conj(i[1]) * i[1] for i in sol[::step_size]]).real\n",
    "    sx_calc = np.asarray([S_x.apply(i) for i in sol[::step_size]]).real\n",
    "    nyz_calc = np.asarray([N_yz.apply(i) for i in sol[::step_size]]).real\n",
    "    phase = np.asarray([find_phase(i) for i in sol[::step_size]]).real\n",
    "    return np.asarray([ans[:,0][::step_size].real,r_0, sx_calc, nyz_calc, phase]), len(ans[:,0][::step_size])\n",
    "\n",
    "def solve_TWA():\n",
    "    #alot array for computation\n",
    "    step_size = 1\n",
    "    ans = []\n",
    "    t_max = 0\n",
    "    t_index = 0\n",
    "    #do calculation\n",
    "    for i,state in enumerate(states):\n",
    "        vals, t_num = get_exp_values(solve_system(state),step_size)\n",
    "        ans.append(vals)\n",
    "        if t_num > t_max:\n",
    "            t_max = t_num\n",
    "            t_index = i\n",
    "    ans_1 = ans\n",
    "    t_interp = ans_1[t_index][0]\n",
    "    #alot array for interpolation\n",
    "    ans = np.zeros((len(states),4,len(t_interp)))\n",
    "    for i, vals in enumerate(ans_1):\n",
    "        for j, row in enumerate(vals[1:]):\n",
    "            ans[i,j] = np.interp(t_interp,vals[0],row)\n",
    "\n",
    "    #output routine\n",
    "    m = np.mean(ans[:,0],axis = 0)\n",
    "    s = np.std(ans[:,0],axis = 0)\n",
    "    return t_interp,m,s\n",
    "\n",
    "def solve_TWA_fixed():\n",
    "    #alot array for computation\n",
    "    step_size = 1\n",
    "    ans = []\n",
    "    sols = []\n",
    "    #do calculation\n",
    "    for i in trange(len(states)):\n",
    "        state = states[i]\n",
    "        t, sol = solve_system_fixed(state)\n",
    "        sols.append(sol)\n",
    "        #get expectation values\n",
    "        rho = np.asarray([i[1]*np.conj(i[1]) for i in sol]).real\n",
    "        ans.append(rho)\n",
    "   \n",
    "    ans = np.asarray(ans)\n",
    "    m = np.mean(ans,axis=0)\n",
    "    std = np.std(ans,axis =0)\n",
    "    return t, m,std, sols\n"
   ]
  },
  {
   "cell_type": "code",
   "execution_count": 59,
   "metadata": {
    "collapsed": false
   },
   "outputs": [
    {
     "name": "stdout",
     "output_type": "stream",
     "text": [
      "2000.0 6000.0\n",
      "0.979795897113 0.0 -0.0 0.0\n",
      "0.0\n",
      "0.0\n"
     ]
    },
    {
     "data": {
      "image/png": "[encoded data removed]",
      "text/plain": [
       "<matplotlib.figure.Figure at 0xf5da358>"
      ]
     },
     "metadata": {},
     "output_type": "display_data"
    }
   ],
   "source": [
    "#define problem parameters\n",
    "#dt = 2.1e-5\n",
    "tfinal = .2\n",
    "q = -5*2*np.pi\n",
    "c = 2*np.pi*30\n",
    "N = 10000\n",
    "states = generate_states(2000,6000,2000,0,5000)\n",
    "#print(np.mean(np.abs(states[:,1])**2))\n",
    "ts = time.time()\n",
    "#t,m,s = solve_TWA()\n",
    "tm = time.time()\n",
    "#states = generate_states(100,4800,100,0,500)\n",
    "#t1,m1,s1,sol = solve_TWA_fixed()\n",
    "te = time.time()\n",
    "print(tm-ts)\n",
    "print(te-tm)\n",
    "plt.hist(np.abs(states)**2,bins=50);"
   ]
  },
  {
   "cell_type": "code",
   "execution_count": 53,
   "metadata": {
    "collapsed": false
   },
   "outputs": [
    {
     "data": {
      "text/plain": [
       "<matplotlib.legend.Legend at 0xf444a90>"
      ]
     },
     "execution_count": 53,
     "metadata": {},
     "output_type": "execute_result"
    },
    {
     "data": {
      "image/png": "[encoded data removed]",
      "text/plain": [
       "<matplotlib.figure.Figure at 0xf444ac8>"
      ]
     },
     "metadata": {},
     "output_type": "display_data"
    }
   ],
   "source": [
    "#sol1 = np.asarray(sol)\n",
    "#plt.plot(t1,np.mean(msqr(sol1).real, axis = 0)[:,1],label='magfirst')\n",
    "#plt.plot(t1,m1,label='old')\n",
    "plt.plot(t,m,label='new')\n",
    "plt.legend()\n"
   ]
  },
  {
   "cell_type": "code",
   "execution_count": null,
   "metadata": {
    "collapsed": true
   },
   "outputs": [],
   "source": []
  }
 ],
 "metadata": {
  "kernelspec": {
   "display_name": "Python 3",
   "language": "python",
   "name": "python3"
  },
  "language_info": {
   "codemirror_mode": {
    "name": "ipython",
    "version": 3
   },
   "file_extension": ".py",
   "mimetype": "text/x-python",
   "name": "python",
   "nbconvert_exporter": "python",
   "pygments_lexer": "ipython3",
   "version": "3.5.1"
  }
 },
 "nbformat": 4,
 "nbformat_minor": 0
}
