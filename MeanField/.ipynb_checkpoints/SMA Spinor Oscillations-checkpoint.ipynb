{
 "cells": [
  {
   "cell_type": "markdown",
   "metadata": {},
   "source": [
    "# Equations\n",
    "Here we are solving a set of coupled differential equations gives (from Chapman supplement and Arne notebook)\n",
    "\n",
    "$$\\begin{align}\n",
    "    i \\dot{\\zeta}_1&= (p_1 B + q_1 B^2 + q\\mu_1(t))\\zeta_1+c\\left[(\\zeta_1^*\\zeta_1+\\zeta_0^*\\zeta_0-\\zeta_{-1}^*\\zeta_{-1})\\zeta_1+\\zeta_0\\zeta_0\\zeta_{-1}^*)\\right]\\\\\n",
    "    i\\dot{\\zeta}_0&=(p_0 B + q_0 B^2 + q\\mu_0(t))\\zeta_0+c\\left[(\\zeta_1^*\\zeta_1 + \\zeta_{-1}^*\\zeta_{-1})\\zeta_0 + 2\\zeta_1\\zeta_{-1}\\zeta_0^*\\right]\\\\\n",
    "    i \\dot{\\zeta}_{-1}&= (p_{-1} B + q_{-1} B^2 + q\\mu_{-1}(t))\\zeta_{-1}+c\\left[(\\zeta_{-1}^*\\zeta_{-1}+\\zeta_0^*\\zeta_0-\\zeta_{1}^*\\zeta_{1})\\zeta_{-1}+\\zeta_0\\zeta_0\\zeta_{1}^*)\\right]\\\\\n",
    "\\end{align}\n",
    "$$\n",
    "\n",
    "# Expectation Values\n",
    "First we note that \n",
    "$$ S_x = \\frac{1}{\\sqrt{2}}\\begin{pmatrix}\n",
    "0&1&0\\\\\n",
    "1&0&1\\\\\n",
    "0&1&0\\\\\n",
    "\\end{pmatrix}\n",
    "$$\n",
    "So to calculate its expectation value with a given wavefunction, we have\n",
    "$$\\psi^*S_x \\psi =  (\\psi_1^*,\\psi_0^*,\\psi_{-1}^*)\\frac{1}{\\sqrt{2}}\\begin{pmatrix}\n",
    "0&1&0\\\\\n",
    "1&0&1\\\\\n",
    "0&1&0\\\\\n",
    "\\end{pmatrix}\n",
    "\\begin{pmatrix}\n",
    "\\psi_1\\\\\n",
    "\\psi_0\\\\\n",
    "\\psi_{-1}\n",
    "\\end{pmatrix} = \\frac{(\\psi_1^*+\\psi_{-1}^*)\\psi_0 + \\psi_0^*(\\psi_{1}+\\psi_{-1})}{\\sqrt{2}}$$\n",
    "\n",
    "# Inital State (Hamley thesis and Chapman supplement)\n",
    "We can represent the initial state as a normal distribution in $S_x,S_y, N_{yz}, N_{xz}$, we can then derive starting conditions from these values and evolve the state."
   ]
  },
  {
   "cell_type": "code",
   "execution_count": 259,
   "metadata": {
    "collapsed": true
   },
   "outputs": [],
   "source": [
    "import numpy as np\n",
    "import matplotlib.pyplot as plt\n",
    "from scipy.integrate import ode\n",
    "from numpy.lib import scimath\n",
    "import seaborn\n",
    "import time\n",
    "from tqdm import trange\n",
    "%matplotlib inline"
   ]
  },
  {
   "cell_type": "code",
   "execution_count": 359,
   "metadata": {
    "collapsed": false
   },
   "outputs": [],
   "source": [
    "#first define the system dy/dt = f(y,t)\n",
    "def msqr(x):\n",
    "    return np.conj(x) * x\n",
    "\n",
    "def f(t,y,*args):\n",
    "    \"\"\"system of ode we want to solve\"\"\"\n",
    "    z1i = y[0]\n",
    "    z0i = y[1]\n",
    "    zmi = y[2]\n",
    "    #now define equations\n",
    "    f0 = (q*z1i + c*((msqr(z1i) + msqr(z0i) - msqr(zmi))*z1i + z0i**2*np.conj(zmi)))*np.complex(0,-1)\n",
    "    f1 = (c*((msqr(z1i) + msqr(zmi))*z0i) + 2*c*z1i*zmi*np.conj(z0i))*np.complex(0,-1)\n",
    "    f2 = (q*zmi + c*((msqr(zmi) + msqr(z0i) - msqr(z1i))*zmi + z0i**2*np.conj(z1i)))*np.complex(0,-1)\n",
    "    return np.asarray([f0,f1,f2])   \n",
    "\n",
    "class Operator(object):\n",
    "    \"\"\"class of operator for 3x3 matrices in this problem\"\"\"\n",
    "    def __init__(self, mat,rep):\n",
    "        self.rep = rep\n",
    "        self.mat = mat\n",
    "\n",
    "    def apply(self,ele):\n",
    "        return np.dot(ele, np.dot(self.mat,np.conj(ele).T)).real\n",
    "        #return np.dot(np.conj(ele), np.dot(self.mat,ele.T)).real\n",
    "    \n",
    "def find_phase(ele):\n",
    "    \"\"\"find the phase theta_1+theta_-1-2theta_0\"\"\"\n",
    "    ans =  np.angle(ele)\n",
    "    return ans[0] + ans[2] - 2 * ans[1]\n",
    "\n",
    "def func_int(yn,t):\n",
    "    return f(t,yn)\n",
    "\n",
    "def ynplus1(func, yn,t,dt,**kwargs):\n",
    "    \"\"\"evolve Runge kutta with function func which takes two input arguments\n",
    "    yn and t and possibly extra arguments\n",
    "    :param yn: value at the previous iteration\n",
    "    :param t: the time at current iteration\n",
    "    :param dt: time step\n",
    "    \"\"\"\n",
    "    k1 = func(yn,t,**kwargs)\n",
    "    k2 =  func(yn+dt/2*k1,t+dt/2,**kwargs)\n",
    "    k3 = func(yn+dt/2*k2,t+dt/2,**kwargs)\n",
    "    k4 = func(yn+dt*k3,t+dt,**kwargs)\n",
    "    a = k1+ 2 * k2 + 2 * k3 + k4\n",
    "    return yn + dt*a/6"
   ]
  },
  {
   "cell_type": "code",
   "execution_count": 360,
   "metadata": {
    "collapsed": false
   },
   "outputs": [],
   "source": [
    "S_x = Operator(np.array([[0,1,0],[1,0,1],[0,1,0]])*1/np.sqrt(2),r'$S_x$')\n",
    "N_yz = Operator(1j/np.sqrt(2)* np.array([[0,-1,0],[1,0,1],[0,-1,0]]),r'$N_{yz}#')\n",
    "rho_0 = Operator(np.array([[0,0,0],[0,1,0],[0,0,0]]),r'$\\rho_0$')"
   ]
  },
  {
   "cell_type": "code",
   "execution_count": 361,
   "metadata": {
    "collapsed": false
   },
   "outputs": [],
   "source": [
    "def generate_states(N,s):\n",
    "    \"\"\"generate quasi probability distribution from Chapman paper\"\"\"\n",
    "    sx = np.random.normal(loc = 0, scale = 1/np.sqrt(N), size = s)\n",
    "    sy = np.random.normal(loc = 0, scale = 1/np.sqrt(N), size = s)\n",
    "    nyz = np.random.normal(loc = 0, scale = 1/np.sqrt(N), size = s)\n",
    "    nxz = np.random.normal(loc = 0, scale = 1/np.sqrt(N), size = s)\n",
    "\n",
    "    txip = np.arctan(-(sy + nyz)/(sx+ nxz))\n",
    "    txim = np.arctan((sy-nyz)/(sx-nxz))\n",
    "    a = (sx+nxz)**2/(np.cos(txip))**2\n",
    "    b = (sx-nxz)**2/(np.cos(txim))**2\n",
    "\n",
    "    rho_0 = 1/2 + scimath.sqrt(1/4-(a+b)/8)\n",
    "    m = 1/rho_0*(a-b)/8\n",
    "\n",
    "    states = np.zeros((len(m),3),dtype = complex)\n",
    "\n",
    "    states[:,0] = scimath.sqrt((1-rho_0+m)/2) * np.exp(txip*1j)\n",
    "    states[:,1] = scimath.sqrt(rho_0)\n",
    "    states[:,2] = scimath.sqrt((1-rho_0-m)/2) * np.exp(txim*1j)\n",
    "    \n",
    "    return states\n",
    "\n",
    "#solve the sucker and plot\n",
    "def solve_system_fixed(y0):\n",
    "    dt = 0.0005\n",
    "    t = []\n",
    "    sol = []\n",
    "    num_steps = int(tfinal/dt)\n",
    "    for i in range(num_steps):\n",
    "        sol.append(y0)\n",
    "        t.append(i*dt)\n",
    "        y0 = ynplus1(func_int,y0,i*dt,dt)\n",
    "    t = np.asarray(t)\n",
    "    sol = np.asarray(sol)\n",
    "    return t, sol\n",
    "\n",
    "def solve_system(y0):\n",
    "    r = ode(f).set_integrator('zvode')\n",
    "    r.set_initial_value(y0,0)\n",
    "    sol = []\n",
    "    t= []\n",
    "    while r.successful() and r.t < tfinal:\n",
    "        r.integrate(tfinal, step = True)\n",
    "        sol.append(r.y)\n",
    "        t.append(r.t)\n",
    "    t = np.asarray([t])\n",
    "    sol = np.asarray(sol)\n",
    "    return np.concatenate((t.T,sol), axis = 1)\n",
    "\n",
    "def get_exp_values(ans,step_size):\n",
    "    \"\"\"function to compute expectation values\"\"\"\n",
    "    sol = ans[:,1:]\n",
    "    #r_0 = np.asarray([rho_0.apply(i) for i in sol[::step_size]]).real\n",
    "    r_0 = np.asarray([np.conj(i[1]) * i[1] for i in sol[::step_size]]).real\n",
    "    sx_calc = np.asarray([S_x.apply(i) for i in sol[::step_size]]).real\n",
    "    nyz_calc = np.asarray([N_yz.apply(i) for i in sol[::step_size]]).real\n",
    "    phase = np.asarray([find_phase(i) for i in sol[::step_size]]).real\n",
    "    return np.asarray([ans[:,0][::step_size].real,r_0, sx_calc, nyz_calc, phase]), len(ans[:,0][::step_size])\n",
    "\n",
    "def solve_TWA():\n",
    "    #alot array for computation\n",
    "    step_size = 1\n",
    "    ans = []\n",
    "    t_max = 0\n",
    "    t_index = 0\n",
    "    #do calculation\n",
    "    for i,state in enumerate(states):\n",
    "        vals, t_num = get_exp_values(solve_system(state),step_size)\n",
    "        ans.append(vals)\n",
    "        if t_num > t_max:\n",
    "            t_max = t_num\n",
    "            t_index = i\n",
    "    ans_1 = ans\n",
    "    t_interp = ans_1[t_index][0]\n",
    "    #alot array for interpolation\n",
    "    ans = np.zeros((len(states),4,len(t_interp)))\n",
    "    for i, vals in enumerate(ans_1):\n",
    "        for j, row in enumerate(vals[1:]):\n",
    "            ans[i,j] = np.interp(t_interp,vals[0],row)\n",
    "\n",
    "    #output routine\n",
    "    m = np.mean(ans[:,0],axis = 0)\n",
    "    s = np.std(ans[:,0],axis = 0)\n",
    "    return t_interp,m,s\n",
    "\n",
    "def solve_TWA_fixed():\n",
    "    #alot array for computation\n",
    "    step_size = 1\n",
    "    ans = []\n",
    "    #do calculation\n",
    "    for i in trange(len(states)):\n",
    "        state = states[i]\n",
    "        t, sol = solve_system_fixed(state)\n",
    "        #get expectation values\n",
    "        rho = np.asarray([i[1]*np.conj(i[1]) for i in sol]).real\n",
    "        ans.append(rho)\n",
    "  \n",
    "   \n",
    "    ans = np.asarray(ans)\n",
    "    m = np.mean(ans,axis=0)\n",
    "    std = np.std(ans,axis =0)\n",
    "    return t, m,std\n"
   ]
  },
  {
   "cell_type": "code",
   "execution_count": 394,
   "metadata": {
    "collapsed": false
   },
   "outputs": [
    {
     "name": "stderr",
     "output_type": "stream",
     "text": []
    },
    {
     "name": "stdout",
     "output_type": "stream",
     "text": [
      "2.0781188011169434\n",
      "7.598434686660767\n"
     ]
    }
   ],
   "source": [
    "#define problem parameters\n",
    "#dt = 2.1e-5\n",
    "tfinal = .2\n",
    "q = -29#-5*2*np.pi\n",
    "c = 2*np.pi*30\n",
    "N = 10000\n",
    "states = generate_states(N,200)\n",
    "ts = time.time()\n",
    "t,m,s = solve_TWA()\n",
    "tm = time.time()\n",
    "t1,m1,s1 = solve_TWA_fixed()\n",
    "te = time.time()\n",
    "print(tm-ts)\n",
    "print(te-tm)"
   ]
  },
  {
   "cell_type": "code",
   "execution_count": 393,
   "metadata": {
    "collapsed": false
   },
   "outputs": [
    {
     "data": {
      "text/plain": [
       "<matplotlib.legend.Legend at 0x1d8d6128>"
      ]
     },
     "execution_count": 393,
     "metadata": {},
     "output_type": "execute_result"
    },
    {
     "data": {
      "image/png": "[encoded data removed]",
      "text/plain": [
       "<matplotlib.figure.Figure at 0x1d8ca5f8>"
      ]
     },
     "metadata": {},
     "output_type": "display_data"
    }
   ],
   "source": [
    "for q in np.linspace(-5*2*np.pi,-5*2*np.pi+5,2):\n",
    "    t,m,s = solve_TWA()\n",
    "    plt.plot(t,m,label=str(q))\n",
    "    #plt.plot(t,s,'--')\n",
    "plt.plot(don_data[:,0],don_data[:,1],'--',label='don')\n",
    "#plt.plot(don_data[:,0],don_data[:,2],'--')\n",
    "plt.legend()"
   ]
  },
  {
   "cell_type": "code",
   "execution_count": 395,
   "metadata": {
    "collapsed": false
   },
   "outputs": [
    {
     "data": {
      "image/png": "[encoded data removed]",
      "text/plain": [
       "<matplotlib.figure.Figure at 0x1da9f860>"
      ]
     },
     "metadata": {},
     "output_type": "display_data"
    }
   ],
   "source": [
    "plt.plot(t1,m1,label='fixed')\n",
    "plt.plot(t,m,label='vary')\n",
    "plt.plot(t1,s1,'--')\n",
    "plt.plot(t,s,'--')\n",
    "don_data=np.loadtxt('C:\\\\Users\\\\Administrator\\\\Documents\\\\dpf_m5q10k_Mean_result.txt',skiprows=1)\n",
    "plt.plot(don_data[:,0],don_data[:,1],label='don')\n",
    "plt.plot(don_data[:,0],don_data[:,2],'--')\n",
    "plt.legend()\n",
    "plt.savefig('testing.pdf')"
   ]
  },
  {
   "cell_type": "code",
   "execution_count": 345,
   "metadata": {
    "collapsed": false
   },
   "outputs": [
    {
     "name": "stdout",
     "output_type": "stream",
     "text": [
      "-31.41592653589793\n"
     ]
    }
   ],
   "source": [
    "#out_data = np.vstack((t,m,s))\n",
    "#np.savetxt('data.txt',out_data)\n",
    "print(q)"
   ]
  },
  {
   "cell_type": "code",
   "execution_count": 208,
   "metadata": {
    "collapsed": false
   },
   "outputs": [],
   "source": [
    "st = generate_states(10000,800000)"
   ]
  },
  {
   "cell_type": "code",
   "execution_count": 212,
   "metadata": {
    "collapsed": false
   },
   "outputs": [
    {
     "name": "stdout",
     "output_type": "stream",
     "text": [
      "9999.00032699\n",
      "0.706906872244\n",
      "0.499717326026\n"
     ]
    },
    {
     "data": {
      "image/png": "[encoded data removed]",
      "text/plain": [
       "<matplotlib.figure.Figure at 0x19613780>"
      ]
     },
     "metadata": {},
     "output_type": "display_data"
    }
   ],
   "source": [
    "rho_0  = st[:,1].real**2*10000\n",
    "plt.hist(rho_0,bins=50,normed=True);\n",
    "print(rho_0.mean())\n",
    "print(rho_0.std())\n",
    "print(rho_0.var())\n",
    "don_data=np.loadtxt('C:\\\\Users\\\\Administrator\\\\Documents\\\\data_hist.txt')\n",
    "plt.hist(don_data,bins=50,normed=True);"
   ]
  },
  {
   "cell_type": "code",
   "execution_count": 145,
   "metadata": {
    "collapsed": false
   },
   "outputs": [
    {
     "data": {
      "text/plain": [
       "9998.9998515677908"
      ]
     },
     "execution_count": 145,
     "metadata": {},
     "output_type": "execute_result"
    }
   ],
   "source": [
    "np.mean(st[:,1].real**2*10000)"
   ]
  },
  {
   "cell_type": "code",
   "execution_count": 146,
   "metadata": {
    "collapsed": false
   },
   "outputs": [
    {
     "data": {
      "text/plain": [
       "0.70796655345061588"
      ]
     },
     "execution_count": 146,
     "metadata": {},
     "output_type": "execute_result"
    }
   ],
   "source": [
    "np.std(st[:,1].real**2*10000)"
   ]
  },
  {
   "cell_type": "code",
   "execution_count": 147,
   "metadata": {
    "collapsed": false
   },
   "outputs": [
    {
     "data": {
      "text/plain": [
       "0.70710678118654746"
      ]
     },
     "execution_count": 147,
     "metadata": {},
     "output_type": "execute_result"
    }
   ],
   "source": [
    "1/np.sqrt(2)"
   ]
  },
  {
   "cell_type": "code",
   "execution_count": 182,
   "metadata": {
    "collapsed": false
   },
   "outputs": [
    {
     "data": {
      "text/plain": [
       "[<matplotlib.lines.Line2D at 0x19a1d5f8>]"
      ]
     },
     "execution_count": 182,
     "metadata": {},
     "output_type": "execute_result"
    },
    {
     "data": {
      "image/png": "[encoded data removed]",
      "text/plain": [
       "<matplotlib.figure.Figure at 0x191c02e8>"
      ]
     },
     "metadata": {},
     "output_type": "display_data"
    }
   ],
   "source": [
    "tfinal = .1\n",
    "q = -9.86084\n",
    "c = 2*np.pi*30\n",
    "N = 10000\n",
    "data =  solve_system_adapt([.5,1/np.sqrt(2),.5])\n",
    "plt.plot(data[:,0].real,(np.conj(data[:,2])*data[:,2]).real)"
   ]
  },
  {
   "cell_type": "code",
   "execution_count": 338,
   "metadata": {
    "collapsed": false
   },
   "outputs": [],
   "source": [
    "don_data=np.loadtxt('C:\\\\Users\\\\Administrator\\\\Documents\\\\testing_table')"
   ]
  },
  {
   "cell_type": "code",
   "execution_count": 340,
   "metadata": {
    "collapsed": false
   },
   "outputs": [
    {
     "data": {
      "image/png": "[encoded data removed]",
      "text/plain": [
       "<matplotlib.figure.Figure at 0x19ad7438>"
      ]
     },
     "metadata": {},
     "output_type": "display_data"
    }
   ],
   "source": [
    "plt.hist(don_data,bins=50,normed=True);\n",
    "plt.hist((np.conj(st[:,0])*st[:,0]).real*10000,bins=50,normed=True);"
   ]
  },
  {
   "cell_type": "code",
   "execution_count": 298,
   "metadata": {
    "collapsed": false
   },
   "outputs": [
    {
     "data": {
      "text/plain": [
       "210"
      ]
     },
     "execution_count": 298,
     "metadata": {},
     "output_type": "execute_result"
    }
   ],
   "source": [
    "len(t)"
   ]
  },
  {
   "cell_type": "code",
   "execution_count": 299,
   "metadata": {
    "collapsed": false
   },
   "outputs": [
    {
     "data": {
      "text/plain": [
       "400"
      ]
     },
     "execution_count": 299,
     "metadata": {},
     "output_type": "execute_result"
    }
   ],
   "source": [
    "len(m1)"
   ]
  },
  {
   "cell_type": "code",
   "execution_count": null,
   "metadata": {
    "collapsed": true
   },
   "outputs": [],
   "source": []
  }
 ],
 "metadata": {
  "kernelspec": {
   "display_name": "Python 3",
   "language": "python",
   "name": "python3"
  },
  "language_info": {
   "codemirror_mode": {
    "name": "ipython",
    "version": 3
   },
   "file_extension": ".py",
   "mimetype": "text/x-python",
   "name": "python",
   "nbconvert_exporter": "python",
   "pygments_lexer": "ipython3",
   "version": "3.5.1"
  }
 },
 "nbformat": 4,
 "nbformat_minor": 0
}
