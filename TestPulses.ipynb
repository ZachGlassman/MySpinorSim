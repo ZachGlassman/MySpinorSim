{
 "cells": [
  {
   "cell_type": "markdown",
   "metadata": {},
   "source": [
    "Here want to test the RF pulses in the mean field code by making sure things like $\\pi$ pulses work"
   ]
  },
  {
   "cell_type": "code",
   "execution_count": 39,
   "metadata": {
    "collapsed": false
   },
   "outputs": [
    {
     "name": "stdout",
     "output_type": "stream",
     "text": [
      "The autoreload extension is already loaded. To reload it, use:\n",
      "  %reload_ext autoreload\n"
     ]
    }
   ],
   "source": [
    "import matplotlib.pyplot as plt\n",
    "%matplotlib inline\n",
    "import numpy as np\n",
    "%load_ext autoreload\n",
    "%autoreload"
   ]
  },
  {
   "cell_type": "code",
   "execution_count": 40,
   "metadata": {
    "collapsed": true
   },
   "outputs": [],
   "source": [
    "#import function to do single simulation\n",
    "from MeanField.MeanFieldSimulation import single_simulation"
   ]
  },
  {
   "cell_type": "code",
   "execution_count": 65,
   "metadata": {
    "collapsed": true
   },
   "outputs": [],
   "source": [
    "N=40000\n",
    "tf = 31.1e-3\n",
    "dt = .11e-5\n",
    "nsamples = 2000\n",
    "B=0.5*np.sqrt(2*np.pi)\n",
    "pulses1 = [\n",
    "    [],\n",
    "    [[15e-3,1e-3,'MW',-426*np.pi]],\n",
    "           ]"
   ]
  },
  {
   "cell_type": "code",
   "execution_count": null,
   "metadata": {
    "collapsed": false
   },
   "outputs": [
    {
     "name": "stdout",
     "output_type": "stream",
     "text": [
      "[####                                              ] 8% Evolve"
     ]
    }
   ],
   "source": [
    "fig , ax = plt.subplots(3,1)\n",
    "for i in pulses1:\n",
    "    data, qq = single_simulation(N,nsamples,38*np.pi*2,tf,dt,B,i,plot = False,qu1=0)\n",
    "    ax[0].plot(data[0][:-1],data[1][:-1])\n",
    "    ax[1].plot(data[0][:-1],qq[::2][:-1])\n",
    "    ax[2].plot(data[0][:-1],data[3][:-1])\n",
    "plt.tight_layout()"
   ]
  },
  {
   "cell_type": "code",
   "execution_count": null,
   "metadata": {
    "collapsed": true
   },
   "outputs": [],
   "source": []
  }
 ],
 "metadata": {
  "kernelspec": {
   "display_name": "Python 3",
   "language": "python",
   "name": "python3"
  },
  "language_info": {
   "codemirror_mode": {
    "name": "ipython",
    "version": 3
   },
   "file_extension": ".py",
   "mimetype": "text/x-python",
   "name": "python",
   "nbconvert_exporter": "python",
   "pygments_lexer": "ipython3",
   "version": "3.4.3"
  }
 },
 "nbformat": 4,
 "nbformat_minor": 0
}
