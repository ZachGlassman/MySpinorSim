{
 "cells": [
  {
   "cell_type": "code",
   "execution_count": 36,
   "metadata": {
    "collapsed": true
   },
   "outputs": [],
   "source": [
    "from ipyparallel import Client"
   ]
  },
  {
   "cell_type": "code",
   "execution_count": 37,
   "metadata": {
    "collapsed": true
   },
   "outputs": [],
   "source": [
    "rc = Client()\n",
    "lview = rc.load_balanced_view()"
   ]
  },
  {
   "cell_type": "code",
   "execution_count": 38,
   "metadata": {
    "collapsed": false
   },
   "outputs": [
    {
     "data": {
      "text/plain": [
       "[0, 1, 2, 3, 4, 5, 6, 7]"
      ]
     },
     "execution_count": 38,
     "metadata": {},
     "output_type": "execute_result"
    }
   ],
   "source": [
    "rc.ids"
   ]
  },
  {
   "cell_type": "code",
   "execution_count": 39,
   "metadata": {
    "collapsed": false
   },
   "outputs": [
    {
     "name": "stdout",
     "output_type": "stream",
     "text": [
      "importing single_simulation from MeanField.MeanFieldSimulation on engine(s)\n"
     ]
    }
   ],
   "source": [
    "import numpy as np\n",
    "with rc[:].sync_imports():\n",
    "    from MeanField.MeanFieldSimulation import single_simulation"
   ]
  },
  {
   "cell_type": "code",
   "execution_count": 41,
   "metadata": {
    "collapsed": false
   },
   "outputs": [
    {
     "name": "stdout",
     "output_type": "stream",
     "text": [
      "1 loops, best of 3: 3.52 s per loop\n"
     ]
    }
   ],
   "source": [
    "%timeit res = list(lview.map(lambda N:single_simulation(N,20,24*3.14*4,.08,.1e-4,[],plot = False,qu1=-5*3.14),range(39999,40005)))"
   ]
  },
  {
   "cell_type": "code",
   "execution_count": 34,
   "metadata": {
    "collapsed": false
   },
   "outputs": [
    {
     "name": "stdout",
     "output_type": "stream",
     "text": [
      "[##################################################]100% Evolve\n",
      "Calculation Finished in time: 2.02\n",
      "[##################################################]100% Evolve\n",
      "Calculation Finished in time: 2.00\n",
      "[##################################################]100% Evolve\n",
      "Calculation Finished in time: 2.02\n",
      "[##################################################]100% Evolve\n",
      "Calculation Finished in time: 2.02\n",
      "[##################################################]100% Evolve\n",
      "Calculation Finished in time: 2.02\n",
      "[##################################################]100% Evolve\n",
      "Calculation Finished in time: 2.02\n",
      "[##################################################]100% Evolve\n",
      "Calculation Finished in time: 2.02\n",
      "[##################################################]100% Evolve\n",
      "Calculation Finished in time: 2.00\n",
      "[##################################################]100% Evolve\n",
      "Calculation Finished in time: 2.02\n",
      "[##################################################]100% Evolve\n",
      "Calculation Finished in time: 2.01\n",
      "[##################################################]100% Evolve\n",
      "Calculation Finished in time: 2.01\n",
      "[##################################################]100% Evolve\n",
      "Calculation Finished in time: 2.02\n",
      "[##################################################]100% Evolve\n",
      "Calculation Finished in time: 2.02\n",
      "[##################################################]100% Evolve\n",
      "Calculation Finished in time: 2.03\n",
      "[##################################################]100% Evolve\n",
      "Calculation Finished in time: 2.02\n",
      "[##################################################]100% Evolve\n",
      "Calculation Finished in time: 2.02\n",
      "[##################################################]100% Evolve\n",
      "Calculation Finished in time: 2.02\n",
      "[##################################################]100% Evolve\n",
      "Calculation Finished in time: 2.00\n",
      "[##################################################]100% Evolve\n",
      "Calculation Finished in time: 2.03\n",
      "[##################################################]100% Evolve\n",
      "Calculation Finished in time: 2.01\n",
      "[##################################################]100% Evolve\n",
      "Calculation Finished in time: 2.03\n",
      "[##################################################]100% Evolve\n",
      "Calculation Finished in time: 2.03\n",
      "[##################################################]100% Evolve\n",
      "Calculation Finished in time: 2.02\n",
      "[##################################################]100% Evolve\n",
      "Calculation Finished in time: 2.03\n",
      "1 loops, best of 3: 12.2 s per loop\n"
     ]
    }
   ],
   "source": [
    "%timeit a = list(map(lambda N:single_simulation(N,20,24*3.14*4,.08,.1e-4,[],plot = False,qu1=-5*3.14),range(39999,40005)))"
   ]
  },
  {
   "cell_type": "code",
   "execution_count": null,
   "metadata": {
    "collapsed": true
   },
   "outputs": [],
   "source": []
  }
 ],
 "metadata": {
  "kernelspec": {
   "display_name": "Python 3",
   "language": "python",
   "name": "python3"
  },
  "language_info": {
   "codemirror_mode": {
    "name": "ipython",
    "version": 3
   },
   "file_extension": ".py",
   "mimetype": "text/x-python",
   "name": "python",
   "nbconvert_exporter": "python",
   "pygments_lexer": "ipython3",
   "version": "3.4.3"
  }
 },
 "nbformat": 4,
 "nbformat_minor": 0
}
