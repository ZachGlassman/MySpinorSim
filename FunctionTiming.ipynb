{
 "cells": [
  {
   "cell_type": "code",
   "execution_count": 1,
   "metadata": {
    "collapsed": true
   },
   "outputs": [],
   "source": [
    "import numpy as np\n",
    "from numba import jit,autojit"
   ]
  },
  {
   "cell_type": "code",
   "execution_count": 34,
   "metadata": {
    "collapsed": false
   },
   "outputs": [],
   "source": [
    "#@autojit\n",
    "def func(z):\n",
    "    return sum([abs(i)**2 for i in z])\n",
    "\n",
    "@autojit\n",
    "def func2(z):\n",
    "    k = 0\n",
    "    for i in z:\n",
    "        k = k + abs(i)**2\n",
    "    return k"
   ]
  },
  {
   "cell_type": "code",
   "execution_count": 41,
   "metadata": {
    "collapsed": false
   },
   "outputs": [],
   "source": [
    "n_max = 10000\n",
    "in_w = np.zeros(n_max, dtype = complex)\n",
    "for i in range(len(in_w)):\n",
    "    in_w[i] = np.complex(np.random.rand(),np.random.rand()) \n",
    "    \n",
    "q = 24\n",
    "c = 20\n",
    "total_atom_number = 4000\n",
    "mag = 10"
   ]
  },
  {
   "cell_type": "code",
   "execution_count": 44,
   "metadata": {
    "collapsed": false
   },
   "outputs": [
    {
     "name": "stdout",
     "output_type": "stream",
     "text": [
      "100 loops, best of 3: 3.65 ms per loop\n"
     ]
    }
   ],
   "source": [
    "%timeit func(in_w)"
   ]
  },
  {
   "cell_type": "code",
   "execution_count": 45,
   "metadata": {
    "collapsed": false
   },
   "outputs": [
    {
     "name": "stdout",
     "output_type": "stream",
     "text": [
      "10000 loops, best of 3: 52.6 µs per loop\n"
     ]
    }
   ],
   "source": [
    "%timeit func2(in_w)"
   ]
  },
  {
   "cell_type": "code",
   "execution_count": null,
   "metadata": {
    "collapsed": true
   },
   "outputs": [],
   "source": []
  }
 ],
 "metadata": {
  "kernelspec": {
   "display_name": "Python 3",
   "language": "python",
   "name": "python3"
  },
  "language_info": {
   "codemirror_mode": {
    "name": "ipython",
    "version": 3
   },
   "file_extension": ".py",
   "mimetype": "text/x-python",
   "name": "python",
   "nbconvert_exporter": "python",
   "pygments_lexer": "ipython3",
   "version": "3.4.1"
  }
 },
 "nbformat": 4,
 "nbformat_minor": 0
}
