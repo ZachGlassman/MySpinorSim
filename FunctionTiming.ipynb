{
 "cells": [
  {
   "cell_type": "code",
   "execution_count": 2,
   "metadata": {
    "collapsed": true
   },
   "outputs": [],
   "source": [
    "import numpy as np\n",
    "from scipy.special import jv\n",
    "from numba import jit,autojit"
   ]
  },
  {
   "cell_type": "code",
   "execution_count": 25,
   "metadata": {
    "collapsed": false
   },
   "outputs": [],
   "source": [
    "@autojit\n",
    "def func(n_max,d,e,in_w):\n",
    "    out_w = np.multiply(d,in_w)\n",
    "    j = 2\n",
    "    for i in range(int(n_max-2)):\n",
    "        out_w[i] = out_w[i] - e[i] * in_w[j]\n",
    "    i =1\n",
    "    for j in range(1,int(n_max)-1):\n",
    "        out_w[j] = out_w[j] + e[i] * in_w[j]\n",
    "    return out_w"
   ]
  },
  {
   "cell_type": "code",
   "execution_count": 26,
   "metadata": {
    "collapsed": false
   },
   "outputs": [],
   "source": [
    "n_max = 100\n",
    "d = np.random.rand(n_max)*1e55\n",
    "e = np.random.rand(n_max-1)\n",
    "in_w = np.zeros(n_max, dtype = complex)\n",
    "for i in range(len(in_w)):\n",
    "    in_w[i] = np.complex(np.random.rand(),np.random.rand()) "
   ]
  },
  {
   "cell_type": "code",
   "execution_count": 27,
   "metadata": {
    "collapsed": false
   },
   "outputs": [
    {
     "name": "stdout",
     "output_type": "stream",
     "text": [
      "The slowest run took 26725.73 times longer than the fastest. This could mean that an intermediate result is being cached \n",
      "1 loops, best of 3: 18.4 µs per loop\n"
     ]
    }
   ],
   "source": [
    "%timeit func(n_max,d,e,in_w)"
   ]
  },
  {
   "cell_type": "code",
   "execution_count": null,
   "metadata": {
    "collapsed": true
   },
   "outputs": [],
   "source": []
  }
 ],
 "metadata": {
  "kernelspec": {
   "display_name": "Python 3",
   "language": "python",
   "name": "python3"
  },
  "language_info": {
   "codemirror_mode": {
    "name": "ipython",
    "version": 3
   },
   "file_extension": ".py",
   "mimetype": "text/x-python",
   "name": "python",
   "nbconvert_exporter": "python",
   "pygments_lexer": "ipython3",
   "version": "3.4.3"
  }
 },
 "nbformat": 4,
 "nbformat_minor": 0
}
