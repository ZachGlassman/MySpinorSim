{
 "cells": [
  {
   "cell_type": "code",
   "execution_count": 2,
   "metadata": {
    "collapsed": true
   },
   "outputs": [],
   "source": [
    "import numpy as np\n",
    "from scipy.special import jv\n",
    "import copy\n",
    "from hamiltonian import hamiltonian_c, setup_scaled_H\n",
    "from numba import jit, autojit\n",
    "import math"
   ]
  },
  {
   "cell_type": "code",
   "execution_count": 3,
   "metadata": {
    "collapsed": false
   },
   "outputs": [],
   "source": [
    "b_field = 0.0           #BField\n",
    "n_tot = 40000            #TotalAtomNumber\n",
    "m = -4                #Magnetization\n",
    "mag_range = 7         #MagRange\n",
    "atom_range = 40       #AtomRange\n",
    "spinor_phase = 0.0      #SpinorPhase\n",
    "n_0 = 39996              #N_0 numbers tarting in m=0\n",
    "c = 24             #C_init in Hz\n",
    "q = -2.5\n",
    "dt = .04/30\n",
    "alpha = np.sqrt(n_0)*np.exp(np.complex(0,0))"
   ]
  },
  {
   "cell_type": "code",
   "execution_count": 76,
   "metadata": {
    "collapsed": false
   },
   "outputs": [],
   "source": [
    "def calc_n0_vals(psi,num_atoms,k):\n",
    "    n0 = np.sum((num_atoms-2*k) * abs(psi)**2 )  \n",
    "    n0sqr = np.sum((num_atoms-2*k)**2 * abs(psi)**2)  \n",
    "    n0var = n0sqr - np.power(n0,2)\n",
    "    return n0, n0sqr,n0var\n",
    "\n",
    "\n",
    "@autojit\n",
    "def calc_n0_vals_fast(psi,num_atoms):\n",
    "\n",
    "    n0 = 0\n",
    "    n0sqr = 0\n",
    "    for k in range(len(psi)):\n",
    "        n0 += (num_atoms-2*k) * abs(psi[k])**2 \n",
    "        n0sqr += (num_atoms-2*k)**2 * abs(psi[k])**2\n",
    "    n0var = n0sqr - n0**2\n",
    "    return n0, n0sqr,n0var"
   ]
  },
  {
   "cell_type": "code",
   "execution_count": 77,
   "metadata": {
    "collapsed": false
   },
   "outputs": [],
   "source": [
    "num_atoms = 40000\n",
    "psi = np.zeros(int(num_atoms/2)+1,dtype = complex)\n",
    "for i in range(len(psi)):\n",
    "    x = np.random.rand()\n",
    "    y = np.random.rand()\n",
    "    psi[i] = np.complex(x,y)\n",
    "k = np.asarray([i for i in range(len(psi))])"
   ]
  },
  {
   "cell_type": "code",
   "execution_count": 78,
   "metadata": {
    "collapsed": false
   },
   "outputs": [
    {
     "name": "stdout",
     "output_type": "stream",
     "text": [
      "1000 loops, best of 3: 836 µs per loop\n"
     ]
    }
   ],
   "source": [
    "%timeit calc_n0_vals(psi,num_atoms,k)"
   ]
  },
  {
   "cell_type": "code",
   "execution_count": 79,
   "metadata": {
    "collapsed": false
   },
   "outputs": [
    {
     "name": "stdout",
     "output_type": "stream",
     "text": [
      "The slowest run took 4883.09 times longer than the fastest. This could mean that an intermediate result is being cached \n",
      "1 loops, best of 3: 209 µs per loop\n"
     ]
    }
   ],
   "source": [
    "%timeit calc_n0_vals_fast(psi,num_atoms)"
   ]
  },
  {
   "cell_type": "code",
   "execution_count": 80,
   "metadata": {
    "collapsed": false
   },
   "outputs": [
    {
     "data": {
      "text/plain": [
       "False"
      ]
     },
     "execution_count": 80,
     "metadata": {},
     "output_type": "execute_result"
    }
   ],
   "source": [
    "calc_n0_vals(psi,num_atoms,k)==calc_n0_vals_fast(psi,num_atoms)"
   ]
  },
  {
   "cell_type": "code",
   "execution_count": 81,
   "metadata": {
    "collapsed": false
   },
   "outputs": [
    {
     "data": {
      "text/plain": [
       "(268615186.276457, 7178663334809.932, -7.214693963500088e+16)"
      ]
     },
     "execution_count": 81,
     "metadata": {},
     "output_type": "execute_result"
    }
   ],
   "source": [
    "calc_n0_vals_fast(psi,num_atoms)"
   ]
  },
  {
   "cell_type": "code",
   "execution_count": 82,
   "metadata": {
    "collapsed": false
   },
   "outputs": [
    {
     "data": {
      "text/plain": [
       "(268615186.27645773, 7178663334809.9395, -72146939635001264.0)"
      ]
     },
     "execution_count": 82,
     "metadata": {},
     "output_type": "execute_result"
    }
   ],
   "source": [
    "calc_n0_vals(psi,num_atoms,k)"
   ]
  },
  {
   "cell_type": "code",
   "execution_count": null,
   "metadata": {
    "collapsed": true
   },
   "outputs": [],
   "source": []
  }
 ],
 "metadata": {
  "kernelspec": {
   "display_name": "Python 3",
   "language": "python",
   "name": "python3"
  },
  "language_info": {
   "codemirror_mode": {
    "name": "ipython",
    "version": 3
   },
   "file_extension": ".py",
   "mimetype": "text/x-python",
   "name": "python",
   "nbconvert_exporter": "python",
   "pygments_lexer": "ipython3",
   "version": "3.4.1"
  }
 },
 "nbformat": 4,
 "nbformat_minor": 0
}
