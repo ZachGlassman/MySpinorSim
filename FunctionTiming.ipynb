{
 "cells": [
  {
   "cell_type": "code",
   "execution_count": 4,
   "metadata": {
    "collapsed": true
   },
   "outputs": [],
   "source": [
    "import numpy as np\n",
    "from scipy.special import jv\n",
    "import copy\n",
    "from hamiltonian import hamiltonian_c, setup_scaled_H\n",
    "from numba import jit, autojit\n",
    "import math"
   ]
  },
  {
   "cell_type": "code",
   "execution_count": 5,
   "metadata": {
    "collapsed": false
   },
   "outputs": [],
   "source": [
    "def alpha_help(a,n):\n",
    "    \"\"\"helper function, here a is alpha_ and n is n_\"\"\"\n",
    "    if a.real == 0 and a.imag == 0:\n",
    "        if n == 0:\n",
    "            ln = np.complex(0,0)\n",
    "        else:\n",
    "            ln = np.complex(-1e200,0)\n",
    "            \n",
    "    elif n >= 7:\n",
    "        ln = n *np.log(a)- (n*np.log(n)-n + np.log(2*np.pi*n)/2)/2\n",
    "    else:\n",
    "        ln = n * np.log(a) - np.log(math.factorial(int(n)))/2\n",
    "    return ln"
   ]
  },
  {
   "cell_type": "code",
   "execution_count": 6,
   "metadata": {
    "collapsed": false
   },
   "outputs": [],
   "source": [
    "b_field = 0.0           #BField\n",
    "n_tot = 40000            #TotalAtomNumber\n",
    "m = -4                #Magnetization\n",
    "mag_range = 7         #MagRange\n",
    "atom_range = 40       #AtomRange\n",
    "spinor_phase = 0.0      #SpinorPhase\n",
    "n_0 = 39996              #N_0 numbers tarting in m=0\n",
    "c = 24             #C_init in Hz\n",
    "q = -2.5\n",
    "dt = .04/30\n",
    "alpha = np.sqrt(n_0)*np.exp(np.complex(0,0))"
   ]
  },
  {
   "cell_type": "code",
   "execution_count": 23,
   "metadata": {
    "collapsed": true
   },
   "outputs": [],
   "source": [
    "def myfact(n):\n",
    "    \"\"\"my own factorial\"\"\"\n",
    "    factdict = {0:1,\n",
    "               1:1,\n",
    "               2:2,\n",
    "               3:6,\n",
    "               4:24,\n",
    "               5:120,\n",
    "               6:720,\n",
    "               7:5040}\n",
    "    return factdict[n]\n",
    "\n",
    "def fast_alpha_help(a,n):\n",
    "    \"\"\"helper function, here a is alpha_ and n is n_\"\"\"\n",
    "    if abs(a) == 0:\n",
    "        if n == 0:\n",
    "            ln = np.complex(0,0)\n",
    "        else:\n",
    "            ln = np.complex(-1e200,0)\n",
    "            \n",
    "    elif n >= 7:\n",
    "        ln = n *np.log(a)- (n*np.log(n)-n + np.log(2*np.pi*n)/2)/2\n",
    "    else:\n",
    "        ln = n * np.log(a) - np.log(myfact(n))/2\n",
    "    return ln"
   ]
  },
  {
   "cell_type": "code",
   "execution_count": 21,
   "metadata": {
    "collapsed": false
   },
   "outputs": [
    {
     "name": "stdout",
     "output_type": "stream",
     "text": [
      "The slowest run took 6.18 times longer than the fastest. This could mean that an intermediate result is being cached \n",
      "100000 loops, best of 3: 9.79 µs per loop\n"
     ]
    }
   ],
   "source": [
    "%timeit alpha_help(alpha, n_0)"
   ]
  },
  {
   "cell_type": "code",
   "execution_count": 22,
   "metadata": {
    "collapsed": false
   },
   "outputs": [
    {
     "name": "stdout",
     "output_type": "stream",
     "text": [
      "The slowest run took 62771.01 times longer than the fastest. This could mean that an intermediate result is being cached \n",
      "1 loops, best of 3: 12.4 µs per loop\n"
     ]
    }
   ],
   "source": [
    "%timeit fast_alpha_help(alpha, n_0)"
   ]
  },
  {
   "cell_type": "code",
   "execution_count": 19,
   "metadata": {
    "collapsed": false
   },
   "outputs": [
    {
     "data": {
      "text/plain": [
       "True"
      ]
     },
     "execution_count": 19,
     "metadata": {},
     "output_type": "execute_result"
    }
   ],
   "source": [
    "alpha_help(alpha, n_0 ) == fast_alpha_help(alpha, n_0)"
   ]
  },
  {
   "cell_type": "code",
   "execution_count": 60,
   "metadata": {
    "collapsed": false
   },
   "outputs": [
    {
     "data": {
      "text/plain": [
       "4.7874917427820458"
      ]
     },
     "execution_count": 60,
     "metadata": {},
     "output_type": "execute_result"
    }
   ],
   "source": [
    " np.log(math.factorial(5))"
   ]
  },
  {
   "cell_type": "code",
   "execution_count": null,
   "metadata": {
    "collapsed": true
   },
   "outputs": [],
   "source": []
  }
 ],
 "metadata": {
  "kernelspec": {
   "display_name": "Python 3",
   "language": "python",
   "name": "python3"
  },
  "language_info": {
   "codemirror_mode": {
    "name": "ipython",
    "version": 3
   },
   "file_extension": ".py",
   "mimetype": "text/x-python",
   "name": "python",
   "nbconvert_exporter": "python",
   "pygments_lexer": "ipython3",
   "version": "3.4.3"
  }
 },
 "nbformat": 4,
 "nbformat_minor": 0
}
