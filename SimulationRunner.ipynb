{
 "cells": [
  {
   "cell_type": "code",
   "execution_count": 34,
   "metadata": {
    "collapsed": false
   },
   "outputs": [
    {
     "name": "stdout",
     "output_type": "stream",
     "text": [
      "The autoreload extension is already loaded. To reload it, use:\n",
      "  %reload_ext autoreload\n"
     ]
    }
   ],
   "source": [
    "import matplotlib.pyplot as plt\n",
    "%matplotlib inline\n",
    "import numpy as np\n",
    "from scipy.integrate import ode\n",
    "from numpy.lib import scimath\n",
    "%load_ext autoreload\n",
    "%autoreload 2"
   ]
  },
  {
   "cell_type": "code",
   "execution_count": 144,
   "metadata": {
    "collapsed": false
   },
   "outputs": [],
   "source": [
    "#import function to do single simulation\n",
    "from MeanField.MeanFieldSimulation import single_simulation"
   ]
  },
  {
   "cell_type": "code",
   "execution_count": 226,
   "metadata": {
    "collapsed": false
   },
   "outputs": [],
   "source": [
    "N=5000\n",
    "tf = .05\n",
    "dt = .1e-4\n",
    "\n",
    "pulses = [[.01,1e-5,'MW',200000],[.03,1e-5,'MW',200000]]\n",
    "#pulses = []\n",
    "pulses1 = []"
   ]
  },
  {
   "cell_type": "code",
   "execution_count": 227,
   "metadata": {
    "collapsed": true
   },
   "outputs": [],
   "source": [
    "from FockStateSimulation import main\n",
    "simulation_params = {\n",
    "    'total_time': .05, #simulated time (s),\n",
    "    'mag_time':0.015,\n",
    "    'dt':0.002e-3, #simulation time step,\n",
    "    'tauB' : 1e-3,\n",
    "    'c':36*2*np.pi,\n",
    "    'n_atoms':5000,\n",
    "    'plot':False\n",
    "    }\n"
   ]
  },
  {
   "cell_type": "code",
   "execution_count": 166,
   "metadata": {
    "collapsed": false
   },
   "outputs": [
    {
     "name": "stdout",
     "output_type": "stream",
     "text": [
      "[##################################################]100%\n",
      " simulation complete\n"
     ]
    }
   ],
   "source": [
    "data = main(**simulation_params)"
   ]
  },
  {
   "cell_type": "code",
   "execution_count": 228,
   "metadata": {
    "collapsed": false
   },
   "outputs": [
    {
     "name": "stdout",
     "output_type": "stream",
     "text": [
      "[##################################################]100% Evolve\n",
      "Calculation Finished in time: 39.20\n",
      "[##################################################]100% Evolve\n",
      "Calculation Finished in time: 24.97\n"
     ]
    }
   ],
   "source": [
    "data1 = single_simulation(N,200,tf,dt,pulses,plot = False)\n",
    "data3 = single_simulation(N,200,tf,dt,pulses1,plot = False)"
   ]
  },
  {
   "cell_type": "code",
   "execution_count": 211,
   "metadata": {
    "collapsed": false,
    "scrolled": true
   },
   "outputs": [
    {
     "name": "stdout",
     "output_type": "stream",
     "text": [
      "\r",
      "[                                                  ] 0%"
     ]
    },
    {
     "name": "stderr",
     "output_type": "stream",
     "text": [
      "/home/zachglassman/Downloads/MySpinorSim/CoherentStateChebyshev/spinorf.py:113: DeprecationWarning: using a non-integer number instead of an integer will result in an error in the future\n",
      "  e_min,e_max,d,e,first_n0 = setup_scaled_H(eqz + emw[0],c[0],atom_n,m,n_max)\n",
      "/home/zachglassman/Downloads/MySpinorSim/CoherentStateChebyshev/spinorf.py:115: DeprecationWarning: using a non-integer number instead of an integer will result in an error in the future\n",
      "  state = np.zeros(n_max, dtype = complex)\n",
      "/home/zachglassman/Downloads/MySpinorSim/CoherentStateChebyshev/spinorf.py:153: DeprecationWarning: using a non-integer number instead of an integer will result in an error in the future\n",
      "  e_min,e_max,d,e, first_n0 =setup_scaled_H(q,c[interval], atom_n, m,n_max)\n"
     ]
    },
    {
     "name": "stdout",
     "output_type": "stream",
     "text": [
      "[##################################################]100%\n",
      "Calculation Complete\n",
      "Norm recovered 0.0191252147144\n",
      "Time for Calculation: 40.113863945007324\n",
      "File written to: results.txt\n"
     ]
    }
   ],
   "source": [
    "% run CoherentStateChebyshev/spinorf.py\n",
    "data2 = np.loadtxt('results.txt',skiprows = 18)"
   ]
  },
  {
   "cell_type": "code",
   "execution_count": 229,
   "metadata": {
    "collapsed": false
   },
   "outputs": [
    {
     "data": {
      "text/plain": [
       "[<matplotlib.lines.Line2D at 0x7f5480146470>]"
      ]
     },
     "execution_count": 229,
     "metadata": {},
     "output_type": "execute_result"
    },
    {
     "data": {
      "image/png": "[encoded data removed]",
      "text/plain": [
       "<matplotlib.figure.Figure at 0x7f54807e1cc0>"
      ]
     },
     "metadata": {},
     "output_type": "display_data"
    }
   ],
   "source": [
    "plt.plot(data1[0,:],data1[1,:]*N,label = \"mean field\")\n",
    "plt.plot(data3[0,:],data3[1,:]*N,label = \"mean field no pulse\")"
   ]
  },
  {
   "cell_type": "code",
   "execution_count": 220,
   "metadata": {
    "collapsed": false,
    "scrolled": true
   },
   "outputs": [
    {
     "data": {
      "text/plain": [
       "<matplotlib.legend.Legend at 0x7f547ff9cd30>"
      ]
     },
     "execution_count": 220,
     "metadata": {},
     "output_type": "execute_result"
    },
    {
     "data": {
      "image/png": "[encoded data removed]",
      "text/plain": [
       "<matplotlib.figure.Figure at 0x7f547fb651d0>"
      ]
     },
     "metadata": {},
     "output_type": "display_data"
    }
   ],
   "source": [
    "fig, ax = plt.subplots(2,1)\n",
    "ax[0].plot(data1[0,:],data1[1,:]*N,label = \"mean field\")\n",
    "ax[0].plot(data[0,:],data[1,:],label = 'quantum')\n",
    "#ax[1].plot(data1[0],100*np.abs(data[1][::2]-data1[1]*N)/(data1[1]*N))\n",
    "#ax[0].plot(data2[:,0],data2[:,1],label = 'Coherent')\n",
    "plt.tight_layout()\n",
    "ax[0].legend(loc=4)"
   ]
  },
  {
   "cell_type": "code",
   "execution_count": 213,
   "metadata": {
    "collapsed": false
   },
   "outputs": [
    {
     "name": "stdout",
     "output_type": "stream",
     "text": [
      "4998.99473829 5000.0 4998.602\n"
     ]
    }
   ],
   "source": [
    "print(data1[1][0]*N,data[1][0],data2[:,1][0])"
   ]
  },
  {
   "cell_type": "code",
   "execution_count": null,
   "metadata": {
    "collapsed": true
   },
   "outputs": [],
   "source": []
  }
 ],
 "metadata": {
  "kernelspec": {
   "display_name": "Python 3",
   "language": "python",
   "name": "python3"
  },
  "language_info": {
   "codemirror_mode": {
    "name": "ipython",
    "version": 3
   },
   "file_extension": ".py",
   "mimetype": "text/x-python",
   "name": "python",
   "nbconvert_exporter": "python",
   "pygments_lexer": "ipython3",
   "version": "3.4.3"
  }
 },
 "nbformat": 4,
 "nbformat_minor": 0
}
