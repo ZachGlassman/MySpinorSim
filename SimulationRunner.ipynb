{
 "cells": [
  {
   "cell_type": "code",
   "execution_count": 2,
   "metadata": {
    "collapsed": false
   },
   "outputs": [],
   "source": [
    "import matplotlib.pyplot as plt\n",
    "%matplotlib inline\n",
    "import numpy as np\n",
    "from scipy.integrate import ode\n",
    "from numpy.lib import scimath\n",
    "%load_ext autoreload\n",
    "%autoreload 2"
   ]
  },
  {
   "cell_type": "code",
   "execution_count": 3,
   "metadata": {
    "collapsed": false
   },
   "outputs": [],
   "source": [
    "#import function to do single simulation\n",
    "from MeanField.MeanFieldSimulation import single_simulation"
   ]
  },
  {
   "cell_type": "code",
   "execution_count": 4,
   "metadata": {
    "collapsed": false
   },
   "outputs": [],
   "source": [
    "N=45000\n",
    "tf = .05\n",
    "dt = .1e-4\n",
    "\n",
    "pulses = [[.01,1e-5,'MW',200000],[.03,1e-5,'MW',200000]]\n",
    "#pulses = []\n",
    "pulses1 = []"
   ]
  },
  {
   "cell_type": "code",
   "execution_count": 1,
   "metadata": {
    "collapsed": false
   },
   "outputs": [
    {
     "ename": "NameError",
     "evalue": "name 'np' is not defined",
     "output_type": "error",
     "traceback": [
      "\u001b[1;31m---------------------------------------------------------------------------\u001b[0m",
      "\u001b[1;31mNameError\u001b[0m                                 Traceback (most recent call last)",
      "\u001b[1;32m<ipython-input-1-ba3c31b1aa77>\u001b[0m in \u001b[0;36m<module>\u001b[1;34m()\u001b[0m\n\u001b[0;32m      5\u001b[0m     \u001b[1;34m'dt'\u001b[0m\u001b[1;33m:\u001b[0m\u001b[1;36m0.001e-4\u001b[0m\u001b[1;33m,\u001b[0m \u001b[1;31m#simulation time step,\u001b[0m\u001b[1;33m\u001b[0m\u001b[0m\n\u001b[0;32m      6\u001b[0m     \u001b[1;34m'tauB'\u001b[0m \u001b[1;33m:\u001b[0m \u001b[1;36m1e-3\u001b[0m\u001b[1;33m,\u001b[0m\u001b[1;33m\u001b[0m\u001b[0m\n\u001b[1;32m----> 7\u001b[1;33m     \u001b[1;34m'c'\u001b[0m\u001b[1;33m:\u001b[0m\u001b[1;36m36\u001b[0m\u001b[1;33m*\u001b[0m\u001b[1;36m2\u001b[0m\u001b[1;33m*\u001b[0m\u001b[0mnp\u001b[0m\u001b[1;33m.\u001b[0m\u001b[0mpi\u001b[0m\u001b[1;33m,\u001b[0m\u001b[1;33m\u001b[0m\u001b[0m\n\u001b[0m\u001b[0;32m      8\u001b[0m     \u001b[1;34m'n_atoms'\u001b[0m\u001b[1;33m:\u001b[0m\u001b[1;36m40000\u001b[0m\u001b[1;33m,\u001b[0m\u001b[1;33m\u001b[0m\u001b[0m\n\u001b[0;32m      9\u001b[0m     \u001b[1;34m'plot'\u001b[0m\u001b[1;33m:\u001b[0m\u001b[1;32mFalse\u001b[0m\u001b[1;33m\u001b[0m\u001b[0m\n",
      "\u001b[1;31mNameError\u001b[0m: name 'np' is not defined"
     ]
    }
   ],
   "source": [
    "from FockStateSimulation import main\n",
    "simulation_params = {\n",
    "    'total_time': .03, #simulated time (s),\n",
    "    'mag_time':0.015,\n",
    "    'dt':0.001e-4, #simulation time step,\n",
    "    'tauB' : 1e-3,\n",
    "    'c':36*2*np.pi,\n",
    "    'n_atoms':40000,\n",
    "    'plot':False\n",
    "    }\n"
   ]
  },
  {
   "cell_type": "code",
   "execution_count": 61,
   "metadata": {
    "collapsed": false
   },
   "outputs": [
    {
     "name": "stdout",
     "output_type": "stream",
     "text": [
      "[##################################################]100%\n",
      " simulation complete\n"
     ]
    }
   ],
   "source": [
    "data = main(**simulation_params)"
   ]
  },
  {
   "cell_type": "code",
   "execution_count": 7,
   "metadata": {
    "collapsed": false
   },
   "outputs": [
    {
     "name": "stdout",
     "output_type": "stream",
     "text": [
      "[##################################################]100% Evolve\n",
      "Calculation Finished in time: 15.49\n",
      "[##################################################]100% Evolve\n",
      "Calculation Finished in time: 10.23\n"
     ]
    }
   ],
   "source": [
    "data1 = single_simulation(N,200,tf,dt,pulses,plot = False,qu1=-5)\n",
    "data3 = single_simulation(N,200,tf,dt,pulses1,plot = False,qu1=-5)"
   ]
  },
  {
   "cell_type": "code",
   "execution_count": 10,
   "metadata": {
    "collapsed": false,
    "scrolled": true
   },
   "outputs": [
    {
     "name": "stdout",
     "output_type": "stream",
     "text": [
      "\r",
      "[                                                  ] 0%"
     ]
    },
    {
     "name": "stderr",
     "output_type": "stream",
     "text": [
      "C:\\Users\\Administrator\\Documents\\MySpinorSim\\CoherentStateChebyshev\\spinorf.py:113: DeprecationWarning: using a non-integer number instead of an integer will result in an error in the future\n",
      "  e_min,e_max,d,e,first_n0 = setup_scaled_H(eqz + emw[0],c[0],atom_n,m,n_max)\n",
      "C:\\Users\\Administrator\\Documents\\MySpinorSim\\CoherentStateChebyshev\\spinorf.py:115: DeprecationWarning: using a non-integer number instead of an integer will result in an error in the future\n",
      "  state = np.zeros(n_max, dtype = complex)\n"
     ]
    },
    {
     "name": "stdout",
     "output_type": "stream",
     "text": [
      "[##################################################]100%\n",
      "Calculation Complete\n",
      "Norm recovered 0.0191252147144\n",
      "Time for Calculation: 15.196383953094482\n",
      "File written to: results.txt\n"
     ]
    },
    {
     "name": "stderr",
     "output_type": "stream",
     "text": [
      "C:\\Users\\Administrator\\Documents\\MySpinorSim\\CoherentStateChebyshev\\spinorf.py:153: DeprecationWarning: using a non-integer number instead of an integer will result in an error in the future\n",
      "  e_min,e_max,d,e, first_n0 =setup_scaled_H(q,c[interval], atom_n, m,n_max)\n"
     ]
    }
   ],
   "source": [
    "% run CoherentStateChebyshev/spinorf.py\n",
    "data2 = np.loadtxt('results.txt',skiprows = 18)"
   ]
  },
  {
   "cell_type": "code",
   "execution_count": 8,
   "metadata": {
    "collapsed": false
   },
   "outputs": [
    {
     "data": {
      "text/plain": [
       "[<matplotlib.lines.Line2D at 0x81be4e0>]"
      ]
     },
     "execution_count": 8,
     "metadata": {},
     "output_type": "execute_result"
    },
    {
     "data": {
      "image/png": "[encoded data removed]",
      "text/plain": [
       "<matplotlib.figure.Figure at 0x81be5c0>"
      ]
     },
     "metadata": {},
     "output_type": "display_data"
    }
   ],
   "source": [
    "plt.plot(data1[0,:],data1[1,:]*N,label = \"mean field\")\n",
    "plt.plot(data3[0,:],data3[1,:]*N,label = \"mean field no pulse\")"
   ]
  },
  {
   "cell_type": "code",
   "execution_count": 62,
   "metadata": {
    "collapsed": false,
    "scrolled": true
   },
   "outputs": [
    {
     "data": {
      "text/plain": [
       "<matplotlib.collections.PolyCollection at 0xcc86630>"
      ]
     },
     "execution_count": 62,
     "metadata": {},
     "output_type": "execute_result"
    },
    {
     "data": {
      "image/png": "[encoded data removed]",
      "text/plain": [
       "<matplotlib.figure.Figure at 0xf464e10>"
      ]
     },
     "metadata": {},
     "output_type": "display_data"
    }
   ],
   "source": [
    "ss=1\n",
    "m = data[1][:-100]\n",
    "st = np.sqrt(data[2][:-100])\n",
    "plt.plot(data[0][:-100],m)\n",
    "plt.fill_between(data[0][:-100],m-st,m+st,facecolor='green',alpha=0.5)\n",
    "#plt.plot(data[0][::ss],data[1][::ss])"
   ]
  },
  {
   "cell_type": "code",
   "execution_count": 11,
   "metadata": {
    "collapsed": false
   },
   "outputs": [
    {
     "data": {
      "text/plain": [
       "array([[  0.00000000e+00,   1.00000000e-04,   2.00000000e-04, ...,\n",
       "          4.97000000e-02,   4.98000000e-02,   4.99000000e-02],\n",
       "       [  5.00000000e+03,   4.99999898e+03,   4.99999591e+03, ...,\n",
       "          4.99878495e+03,   4.99872216e+03,   4.99865827e+03],\n",
       "       [  0.00000000e+00,   2.04706192e-03,   8.19927081e-03, ...,\n",
       "          3.84952752e+00,   4.12749457e+00,   4.41834319e+00]])"
      ]
     },
     "execution_count": 11,
     "metadata": {},
     "output_type": "execute_result"
    }
   ],
   "source": [
    "data"
   ]
  },
  {
   "cell_type": "code",
   "execution_count": null,
   "metadata": {
    "collapsed": true
   },
   "outputs": [],
   "source": []
  }
 ],
 "metadata": {
  "kernelspec": {
   "display_name": "Python 3",
   "language": "python",
   "name": "python3"
  },
  "language_info": {
   "codemirror_mode": {
    "name": "ipython",
    "version": 3
   },
   "file_extension": ".py",
   "mimetype": "text/x-python",
   "name": "python",
   "nbconvert_exporter": "python",
   "pygments_lexer": "ipython3",
   "version": "3.4.3"
  }
 },
 "nbformat": 4,
 "nbformat_minor": 0
}
