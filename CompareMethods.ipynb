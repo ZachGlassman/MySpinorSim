{
 "cells": [
  {
   "cell_type": "code",
   "execution_count": 1,
   "metadata": {
    "collapsed": false
   },
   "outputs": [],
   "source": [
    "import matplotlib.pyplot as plt\n",
    "%matplotlib inline\n",
    "import numpy as np\n",
    "%load_ext autoreload\n",
    "%autoreload"
   ]
  },
  {
   "cell_type": "code",
   "execution_count": 2,
   "metadata": {
    "collapsed": true
   },
   "outputs": [],
   "source": [
    "#import function to do single simulation\n",
    "from MeanField.MeanFieldSimulation import single_simulation\n",
    "from FockStateSimulation import main"
   ]
  },
  {
   "cell_type": "code",
   "execution_count": 3,
   "metadata": {
    "collapsed": true
   },
   "outputs": [],
   "source": [
    "N=10000\n",
    "tf = .1\n",
    "dt = .1e-4\n",
    "pulses1 = [[.04,.001,'MW',-426*np.pi]]\n",
    "pulses1 = []"
   ]
  },
  {
   "cell_type": "code",
   "execution_count": null,
   "metadata": {
    "collapsed": false
   },
   "outputs": [
    {
     "name": "stdout",
     "output_type": "stream",
     "text": [
      "[#############                                     ]28%"
     ]
    }
   ],
   "source": [
    "simulation_params = {\n",
    "    'total_time': .1, #simulated time (s),\n",
    "    'mag_time':0.015,\n",
    "    'dt':0.001e-3, #simulation time step,\n",
    "    'tauB' : 1e-3,\n",
    "    'c':24*np.pi*4,\n",
    "    'n_atoms':10000,\n",
    "    'plot':False\n",
    "    }\n",
    "dataf = main(**simulation_params)"
   ]
  },
  {
   "cell_type": "code",
   "execution_count": null,
   "metadata": {
    "collapsed": false
   },
   "outputs": [],
   "source": [
    "% run CoherentStateChebyshev/spinorf.py\n",
    "data2 = np.loadtxt('results.txt',skiprows = 18)"
   ]
  },
  {
   "cell_type": "code",
   "execution_count": null,
   "metadata": {
    "collapsed": false
   },
   "outputs": [],
   "source": [
    "% run CoherentStateChebyshev/spinorf_multicore.py\n",
    "data3 = np.loadtxt('results_multi.txt',skiprows = 18)"
   ]
  },
  {
   "cell_type": "code",
   "execution_count": null,
   "metadata": {
    "collapsed": false
   },
   "outputs": [],
   "source": [
    "data,qq = single_simulation(N,5000,24*np.pi*4,tf,dt/10,pulses1,plot = False,qu1=0)"
   ]
  },
  {
   "cell_type": "code",
   "execution_count": null,
   "metadata": {
    "collapsed": false
   },
   "outputs": [],
   "source": [
    "m = data2[:,1]\n",
    "s = data2[:,2]\n",
    "plt.plot(data2[:,0],data2[:,1],label='coherent')\n",
    "plt.fill_between(data2[:,0],m-s,m+s,facecolor='blue',alpha=0.2)\n",
    "plt.plot(data[0],data[1]*N,label='mean')\n",
    "plt.fill_between(data[0],(data[1]-data[2])*N,(data[1]+data[2])*N,facecolor='green',alpha=0.2)\n",
    "plt.plot(dataf[0],dataf[1],label = 'Fock')\n",
    "plt.fill_between(dataf[0],dataf[1]-np.sqrt(dataf[2]),dataf[1]+np.sqrt(dataf[2]),facecolor='red',alpha=0.2)\n",
    "plt.legend(loc=3)"
   ]
  },
  {
   "cell_type": "code",
   "execution_count": null,
   "metadata": {
    "collapsed": false
   },
   "outputs": [],
   "source": [
    "plt.plot(qq)"
   ]
  },
  {
   "cell_type": "code",
   "execution_count": null,
   "metadata": {
    "collapsed": false
   },
   "outputs": [],
   "source": [
    "print(dataf[1][0],data2[:,1][0],data[1][0]*N)"
   ]
  },
  {
   "cell_type": "code",
   "execution_count": null,
   "metadata": {
    "collapsed": false
   },
   "outputs": [],
   "source": [
    "t = data[0]\n",
    "fock_int=np.interp(t, dataf[0], dataf[1])\n",
    "data2_int = np.interp(t,data2[:,0],data2[:,1])\n",
    "data3_int = np.interp(t,data3[:,0],data3[:,1])\n",
    "plt.plot(t,data[1]*N,label='mean')\n",
    "plt.plot(t,fock_int,label='fock')\n",
    "plt.plot(t,data2_int,label='coherent')\n",
    "plt.plot(t,data3_int,label = 'coherent_multi')\n",
    "plt.legend()\n",
    "plt.figure()\n",
    "plt.plot(t,np.abs(data[1]*N-fock_int),label='fock')\n",
    "plt.plot(t,np.abs(data[1]*N-data2_int),label='coherent')\n",
    "plt.legend()"
   ]
  },
  {
   "cell_type": "code",
   "execution_count": null,
   "metadata": {
    "collapsed": true
   },
   "outputs": [],
   "source": []
  }
 ],
 "metadata": {
  "kernelspec": {
   "display_name": "Python 3",
   "language": "python",
   "name": "python3"
  },
  "language_info": {
   "codemirror_mode": {
    "name": "ipython",
    "version": 3
   },
   "file_extension": ".py",
   "mimetype": "text/x-python",
   "name": "python",
   "nbconvert_exporter": "python",
   "pygments_lexer": "ipython3",
   "version": "3.4.3"
  }
 },
 "nbformat": 4,
 "nbformat_minor": 0
}
