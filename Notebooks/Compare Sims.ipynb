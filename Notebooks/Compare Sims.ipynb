{
 "cells": [
  {
   "cell_type": "code",
   "execution_count": 1,
   "metadata": {
    "collapsed": false
   },
   "outputs": [],
   "source": [
    "import numpy as np\n",
    "import matplotlib.pyplot as plt\n",
    "#%matplotlib inline\n",
    "%load_ext autoreload\n",
    "%autoreload"
   ]
  },
  {
   "cell_type": "code",
   "execution_count": 2,
   "metadata": {
    "collapsed": true
   },
   "outputs": [],
   "source": [
    "from MeanField.MeanFieldSimulation import single_simulation as ss_new"
   ]
  },
  {
   "cell_type": "code",
   "execution_count": 3,
   "metadata": {
    "collapsed": true
   },
   "outputs": [],
   "source": [
    "N=40000\n",
    "tf = 31e-3\n",
    "dt = .1e-3\n",
    "pulses1 = [[15e-3,1e-3,'MW','0',441.75*2*np.pi+2*np.pi*(277/4+2)]]\n",
    "nop = []"
   ]
  },
  {
   "cell_type": "code",
   "execution_count": 4,
   "metadata": {
    "collapsed": false
   },
   "outputs": [
    {
     "name": "stdout",
     "output_type": "stream",
     "text": [
      "[##################################################]100% Evolve\n",
      "Calculation Finished in time: 1.08\n"
     ]
    }
   ],
   "source": [
    "data = ss_new(N,100,38*np.pi*2,tf,0.5,pulses1,qu0=0)"
   ]
  },
  {
   "cell_type": "code",
   "execution_count": 6,
   "metadata": {
    "collapsed": false
   },
   "outputs": [],
   "source": [
    "fig, ax1 = plt.subplots()\n",
    "ax1.plot(data[0],data[1],'b.-')\n",
    "ax1.set_xlabel('time (s)')\n",
    "ax1.set_ylabel(r'$\\rho_0$',color ='b')\n",
    "for t1 in ax1.get_yticklabels():\n",
    "    t1.set_color('b')\n",
    "    \n",
    "ax2 = ax1.twinx()\n",
    "ax2.set_ylabel(r'$\\theta$', color = 'r')\n",
    "plt.plot(data[0],data[3],'r.-')\n",
    "for t1 in ax2.get_yticklabels():\n",
    "    t1.set_color('r')\n"
   ]
  },
  {
   "cell_type": "code",
   "execution_count": null,
   "metadata": {
    "collapsed": true
   },
   "outputs": [],
   "source": []
  }
 ],
 "metadata": {
  "kernelspec": {
   "display_name": "Python 3",
   "language": "python",
   "name": "python3"
  },
  "language_info": {
   "codemirror_mode": {
    "name": "ipython",
    "version": 3
   },
   "file_extension": ".py",
   "mimetype": "text/x-python",
   "name": "python",
   "nbconvert_exporter": "python",
   "pygments_lexer": "ipython3",
   "version": "3.4.3"
  }
 },
 "nbformat": 4,
 "nbformat_minor": 0
}
