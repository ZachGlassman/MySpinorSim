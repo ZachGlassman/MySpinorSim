{
 "cells": [
  {
   "cell_type": "code",
   "execution_count": 9,
   "metadata": {
    "collapsed": false
   },
   "outputs": [],
   "source": [
    "import numpy as np\n",
    "import matplotlib.pyplot as plt\n",
    "import seaborn\n",
    "from numpy.lib import scimath\n",
    "%matplotlib inline"
   ]
  },
  {
   "cell_type": "code",
   "execution_count": 10,
   "metadata": {
    "collapsed": false
   },
   "outputs": [],
   "source": [
    "def generate_states(N,s):\n",
    "    \"\"\"generate quasi probability distribution from Chapman paper\"\"\"\n",
    "    sx = np.random.normal(loc = 0, scale = 1/np.sqrt(N), size = s)\n",
    "    sy = np.random.normal(loc = 0, scale = 1/np.sqrt(N), size =s)\n",
    "    nyz = np.random.normal(loc = 0, scale = 1/np.sqrt(N), size = s)\n",
    "    nxz = np.random.normal(loc = 0, scale = 1/np.sqrt(N), size = s)\n",
    "\n",
    "    txip = np.arctan(-(sy + nyz)/(sx+ nxz))\n",
    "    txim = np.arctan((sy-nyz)/(sx-nxz))\n",
    "    a = (sx+nxz)**2/(np.cos(txip))**2\n",
    "    b = (sx-nxz)**2/(np.cos(txim))**2\n",
    "\n",
    "    rho_0 = 1/2 + scimath.sqrt(1/4-(a+b)/8)\n",
    "    m = 1/rho_0*(a-b)/8\n",
    "\n",
    "    states = np.zeros((len(m),3),dtype = complex)\n",
    "\n",
    "    states[:,0] = scimath.sqrt((1-rho_0+m)/2) * np.exp(txip*1j)\n",
    "    states[:,1] = scimath.sqrt(rho_0)\n",
    "    states[:,2] = scimath.sqrt((1-rho_0-m)/2) * np.exp(txim*1j)\n",
    "\n",
    "    return states"
   ]
  },
  {
   "cell_type": "code",
   "execution_count": 68,
   "metadata": {
    "collapsed": false
   },
   "outputs": [],
   "source": [
    "N = 10000\n",
    "data = generate_states(N,400000)\n",
    "def msqr(x):\n",
    "    return np.conj(x) * x"
   ]
  },
  {
   "cell_type": "code",
   "execution_count": 74,
   "metadata": {
    "collapsed": false
   },
   "outputs": [
    {
     "data": {
      "image/png": "[encoded data removed]",
      "text/plain": [
       "<matplotlib.figure.Figure at 0xab6a9b0>"
      ]
     },
     "metadata": {},
     "output_type": "display_data"
    }
   ],
   "source": [
    "fig, ax = plt.subplots(1,2,figsize=(12,5))\n",
    "rho_0 =N*msqr(data[:,1]).real\n",
    "m = N*(msqr(data[:,2])-msqr(data[:,0])).real\n",
    "ax[0].hist(rho_0,bins=100,normed=True,histtype='stepfilled');\n",
    "ax[1].hist(m,bins=100,normed=True,histtype='stepfilled');\n",
    "ax[0].set_xlim([N-5,N+.1])\n",
    "plt.tight_layout()\n",
    "ax[0].set_xlabel(r'$N\\times \\rho_0$')\n",
    "ax[1].set_xlabel(r'$N\\times m$')\n",
    "plt.savefig('InitialDistribution.pdf')"
   ]
  },
  {
   "cell_type": "code",
   "execution_count": null,
   "metadata": {
    "collapsed": true
   },
   "outputs": [],
   "source": []
  }
 ],
 "metadata": {
  "kernelspec": {
   "display_name": "Python 3",
   "language": "python",
   "name": "python3"
  },
  "language_info": {
   "codemirror_mode": {
    "name": "ipython",
    "version": 3
   },
   "file_extension": ".py",
   "mimetype": "text/x-python",
   "name": "python",
   "nbconvert_exporter": "python",
   "pygments_lexer": "ipython3",
   "version": "3.5.1"
  }
 },
 "nbformat": 4,
 "nbformat_minor": 0
}
