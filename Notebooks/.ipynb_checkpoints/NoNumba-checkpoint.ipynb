{
 "cells": [
  {
   "cell_type": "code",
   "execution_count": 1,
   "metadata": {
    "collapsed": false
   },
   "outputs": [
    {
     "name": "stderr",
     "output_type": "stream",
     "text": [
      "/home/zglass/miniconda3/lib/python3.5/site-packages/matplotlib/__init__.py:872: UserWarning: axes.color_cycle is deprecated and replaced with axes.prop_cycle; please use the latter.\n",
      "  warnings.warn(self.msg_depr % (key, alt_key))\n"
     ]
    }
   ],
   "source": [
    "import numpy as np\n",
    "from numba import autojit\n",
    "import matplotlib.pyplot as plt\n",
    "%matplotlib inline\n",
    "import seaborn"
   ]
  },
  {
   "cell_type": "code",
   "execution_count": 2,
   "metadata": {
    "collapsed": true
   },
   "outputs": [],
   "source": [
    "@autojit\n",
    "def tri_ham(c,bfield,psi,n_atoms):\n",
    "    '''compute the tridiagonal hamiltonian for fock state'''\n",
    "    ans = np.empty(len(psi), dtype = complex)\n",
    "    \n",
    "    #first for diagonal interation\n",
    "    for i in range(len(psi)):\n",
    "        ans[i] = (i*(2*(n_atoms-2*i))-1)* c/n_atoms*psi[i] + 2 * bfield * i*psi[i]\n",
    "    #now for interaction with kp = i-1\n",
    "    \n",
    "    for i in range(1,len(psi)):\n",
    "        ans[i] += i * np.sqrt((n_atoms - 2 * (i-1) - 1)*(n_atoms - 2*(i-1)))*psi[i-1]* c/n_atoms\n",
    "    #now for kp = i +1\n",
    "    \n",
    "    for i in range(len(psi)-1):\n",
    "        ans[i] += (i+1)*np.sqrt((n_atoms-2*(i+1)+1)*(n_atoms-2*(i+1)+2))*psi[i+1]* c/n_atoms\n",
    "\n",
    "    return ans\n",
    "\n",
    "def tri_ham_np(c,bfield,psi,n_atoms):\n",
    "    '''compute the tridiagonal hamiltonian for fock state\n",
    "    so we can only use numpy, create arrays of the indices'''\n",
    "    ans = np.empty(len(psi), dtype = complex)\n",
    "    i = np.mgrid[0:len(psi)]\n",
    "    ans = (i*(2*(n_atoms-2*i))-1)* c/n_atoms*psi + 2 * bfield * i*psi\n",
    "    i = np.mgrid[1:len(psi)]\n",
    "    ans[1:] += i * np.sqrt((n_atoms - 2 * (i-1) - 1)*(n_atoms - 2*(i-1)))*psi[:-1]* c/n_atoms\n",
    "    i = np.mgrid[:(len(psi)-1)]\n",
    "    ans[:-1]+=(i+1)*np.sqrt((n_atoms-2*(i+1)+1)*(n_atoms-2*(i+1)+2))*psi[1:]* c/n_atoms\n",
    "    \n",
    "    return ans"
   ]
  },
  {
   "cell_type": "code",
   "execution_count": 3,
   "metadata": {
    "collapsed": false
   },
   "outputs": [],
   "source": [
    "@autojit\n",
    "def calc_n0_vals(psi,num_atoms):\n",
    "    n0 = 0\n",
    "    n0sqr = 0\n",
    "    for k in range(len(psi)):\n",
    "        n0 += (num_atoms-2*k) * abs(psi[k])**2\n",
    "        n0sqr += (num_atoms-2*k)**2 * abs(psi[k])**2\n",
    "    n0var = n0sqr - n0**2\n",
    "    return n0, n0sqr , n0var\n",
    "\n",
    "def calc_n0_vals_np(psi,num_atoms):\n",
    "    k = np.mgrid[:len(psi)]\n",
    "    n0 = ((num_atoms-2*k) * abs(psi)**2).sum()\n",
    "    n0sqr = ((num_atoms-2*k)**2 * abs(psi)**2).sum()\n",
    "    n0var = n0sqr - n0**2\n",
    "    return n0, n0sqr , n0var"
   ]
  },
  {
   "cell_type": "code",
   "execution_count": 27,
   "metadata": {
    "collapsed": true
   },
   "outputs": [],
   "source": [
    "@autojit\n",
    "def calc_sx_sqr(psi,n):\n",
    "    ans = 0\n",
    "    #where i indexes k\n",
    "    for i in range(len(psi)):\n",
    "        ans += (-4*i*i+2*i*n-i+n)*np.abs(psi[i]*psi[i])\n",
    "    for i in range(len(psi)-1):\n",
    "        ans += i*np.sqrt((n-2*i+1)*(n-2*i+2))*np.abs(psi[i]*psi[i+1])\n",
    "    for i in range(1,len(psi)):\n",
    "        ans += (i+1)*np.sqrt((n-2*i)*(n-2*i-1))*np.abs(psi[i]*psi[i-1])\n",
    "    return ans\n",
    "\n",
    "def calc_sx_sqr_np(psi,n):\n",
    "    #where i indexes k\n",
    "    i = np.mgrid[0:len(psi)]\n",
    "    ans = ((-4*i*i+2*i*n-i+n)*np.abs(psi*psi)).sum()\n",
    "    i = np.mgrid[:(len(psi)-1)]\n",
    "    ans += (i*np.sqrt((n-2*i+1)*(n-2*i+2))*np.abs(psi[:-1]*psi[1:])).sum()\n",
    "    i = np.mgrid[1:len(psi)]\n",
    "    ans += ((i+1)*np.sqrt((n-2*i)*(n-2*i-1))*np.abs(psi[1:len(psi)]*psi[:-1])).sum()\n",
    "    return ans\n",
    "\n",
    "def calc_sx_sqr_np_fast(psi,n):\n",
    "     #where i indexes k\n",
    "    i = np.mgrid[0:len(psi)]\n",
    "    ans = ((-4*i*i+2*i*n-i+n)*np.abs(psi*psi)).sum()\n",
    "    i = np.mgrid[:(len(psi)-1)]\n",
    "    ans += (i*np.sqrt((n-2*i+1)*(n-2*i+2))*np.abs(psi[:-1]*psi[1:])).sum()\n",
    "    i = np.mgrid[1:len(psi)]\n",
    "    ans += ((i+1)*np.sqrt((n-2*i)*(n-2*i-1))*np.abs(psi[1:len(psi)]*psi[:-1])).sum()\n",
    "    return ans"
   ]
  },
  {
   "cell_type": "code",
   "execution_count": 5,
   "metadata": {
    "collapsed": true
   },
   "outputs": [],
   "source": [
    "c = 24\n",
    "bfield=.1\n",
    "n_atoms = 40000\n",
    "psi = np.asarray([np.complex(np.random.rand()*n_atoms,np.random.rand()*n_atoms) for i in range(int(n_atoms/2)+1)])"
   ]
  },
  {
   "cell_type": "code",
   "execution_count": 6,
   "metadata": {
    "collapsed": false
   },
   "outputs": [
    {
     "name": "stdout",
     "output_type": "stream",
     "text": [
      "The slowest run took 610.36 times longer than the fastest. This could mean that an intermediate result is being cached \n",
      "1 loops, best of 3: 569 µs per loop\n"
     ]
    }
   ],
   "source": [
    "%timeit tri_ham(c,bfield,psi,n_atoms)"
   ]
  },
  {
   "cell_type": "code",
   "execution_count": 7,
   "metadata": {
    "collapsed": false
   },
   "outputs": [
    {
     "name": "stdout",
     "output_type": "stream",
     "text": [
      "1000 loops, best of 3: 1.39 ms per loop\n"
     ]
    }
   ],
   "source": [
    "%timeit tri_ham_np(c,bfield,psi,n_atoms)"
   ]
  },
  {
   "cell_type": "code",
   "execution_count": 8,
   "metadata": {
    "collapsed": false
   },
   "outputs": [
    {
     "name": "stdout",
     "output_type": "stream",
     "text": [
      "The slowest run took 1160.80 times longer than the fastest. This could mean that an intermediate result is being cached \n",
      "10000 loops, best of 3: 152 µs per loop\n"
     ]
    }
   ],
   "source": [
    "%timeit calc_n0_vals(psi, n_atoms)"
   ]
  },
  {
   "cell_type": "code",
   "execution_count": 9,
   "metadata": {
    "collapsed": false
   },
   "outputs": [
    {
     "name": "stdout",
     "output_type": "stream",
     "text": [
      "1000 loops, best of 3: 894 µs per loop\n"
     ]
    }
   ],
   "source": [
    "%timeit calc_n0_vals_np(psi, n_atoms)"
   ]
  },
  {
   "cell_type": "code",
   "execution_count": 10,
   "metadata": {
    "collapsed": false
   },
   "outputs": [
    {
     "name": "stdout",
     "output_type": "stream",
     "text": [
      "The slowest run took 322.94 times longer than the fastest. This could mean that an intermediate result is being cached \n",
      "1000 loops, best of 3: 381 µs per loop\n"
     ]
    }
   ],
   "source": [
    "%timeit calc_sx_sqr(psi,n_atoms)"
   ]
  },
  {
   "cell_type": "code",
   "execution_count": 25,
   "metadata": {
    "collapsed": false
   },
   "outputs": [
    {
     "name": "stdout",
     "output_type": "stream",
     "text": [
      "1000 loops, best of 3: 1.6 ms per loop\n"
     ]
    }
   ],
   "source": [
    "%timeit calc_sx_sqr_np(psi,n_atoms)"
   ]
  },
  {
   "cell_type": "code",
   "execution_count": 28,
   "metadata": {
    "collapsed": false
   },
   "outputs": [
    {
     "name": "stdout",
     "output_type": "stream",
     "text": [
      "1000 loops, best of 3: 1.6 ms per loop\n"
     ]
    }
   ],
   "source": [
    "%timeit calc_sx_sqr_np_fast(psi,n_atoms)"
   ]
  },
  {
   "cell_type": "code",
   "execution_count": 12,
   "metadata": {
    "collapsed": false
   },
   "outputs": [
    {
     "name": "stdout",
     "output_type": "stream",
     "text": [
      "1.07068179422e+22\n",
      "1.070681794218455e+22\n"
     ]
    }
   ],
   "source": [
    "print(calc_sx_sqr_np(psi, n_atoms))\n",
    "print(calc_sx_sqr(psi, n_atoms))"
   ]
  },
  {
   "cell_type": "code",
   "execution_count": 13,
   "metadata": {
    "collapsed": false
   },
   "outputs": [
    {
     "name": "stdout",
     "output_type": "stream",
     "text": [
      "7070243641051.547 7.07024364105e+12\n",
      "27.8567765544\n",
      "7083572410541.884 7.08357241054e+12\n",
      "9.79795897113\n",
      "7065976130782.193 7.06597613078e+12\n",
      "18.7616630393\n",
      "7035357157857.709 7.03535715786e+12\n",
      "23.4946802489\n",
      "7018308032095.1045 7.0183080321e+12\n",
      "24.819347292\n",
      "7136453895366.67 7.13645389537e+12\n",
      "18.547236991\n",
      "7080466520685.612 7.08046652069e+12\n",
      "20.3960780544\n",
      "7153176698120.689 7.15317669812e+12\n",
      "28.4253408071\n",
      "7159565814043.031 7.15956581404e+12\n",
      "27.4226184016\n",
      "7066728404513.76 7.06672840451e+12\n",
      "19.1833260933\n"
     ]
    }
   ],
   "source": [
    "data = []\n",
    "data_2 = []\n",
    "for _ in range(10):\n",
    "    psi = np.asarray([np.complex(np.random.rand(),np.random.rand()) for i in range(int(n_atoms/2)+1)])\n",
    "    ans1 = tri_ham(c,bfield,psi,n_atoms)\n",
    "    ans2 = tri_ham_np(c,bfield,psi,n_atoms)\n",
    "    data.append(np.sqrt(np.abs(ans1-ans2)))\n",
    "    ans1 = calc_n0_vals(psi, n_atoms)\n",
    "    ans2 = calc_n0_vals_np(psi, n_atoms)\n",
    "    data_2.append(np.sqrt(np.abs(ans1[2]-ans2[2])))\n",
    "data = np.asarray(data)\n",
    "data_2 = np.asarray(data_2)"
   ]
  },
  {
   "cell_type": "code",
   "execution_count": 14,
   "metadata": {
    "collapsed": false
   },
   "outputs": [
    {
     "data": {
      "image/png": "[encoded data removed]",
      "text/plain": [
       "<matplotlib.figure.Figure at 0x7f6b4fb86da0>"
      ]
     },
     "metadata": {},
     "output_type": "display_data"
    }
   ],
   "source": [
    "plt.hist(data.flatten(),bins = 25);\n",
    "plt.hist(data_2.flatten(),bins = 25);"
   ]
  },
  {
   "cell_type": "code",
   "execution_count": 15,
   "metadata": {
    "collapsed": false
   },
   "outputs": [
    {
     "name": "stdout",
     "output_type": "stream",
     "text": [
      "The slowest run took 4.25 times longer than the fastest. This could mean that an intermediate result is being cached \n",
      "100000 loops, best of 3: 16.8 µs per loop\n",
      "100000 loops, best of 3: 17.5 µs per loop\n"
     ]
    }
   ],
   "source": [
    "%timeit psi.sum()\n",
    "%timeit np.sum(psi)"
   ]
  },
  {
   "cell_type": "code",
   "execution_count": 16,
   "metadata": {
    "collapsed": false
   },
   "outputs": [],
   "source": [
    "import sys\n",
    "sys.path.insert(0, '/home/zglass/Documents/SpinorBECSimulation/FullQuantumFock')\n",
    "from FockStateSimulation import fock_sim\n",
    "from FockStateMinDep import fock_sim as fock_sim_np"
   ]
  },
  {
   "cell_type": "code",
   "execution_count": 17,
   "metadata": {
    "collapsed": true
   },
   "outputs": [],
   "source": [
    "simulation_params = {\n",
    "    'total_time': .13, #simulated time (s),\n",
    "    'mag_time':0.2,\n",
    "    'dt':0.05e-4, #simulation time step,\n",
    "    'tauB' : 1e-3,\n",
    "    'c':30*2*np.pi,\n",
    "    'n_atoms':4000,\n",
    "    'bf':np.complex(0,0.3357712)\n",
    "    }"
   ]
  },
  {
   "cell_type": "code",
   "execution_count": 34,
   "metadata": {
    "collapsed": false
   },
   "outputs": [
    {
     "name": "stderr",
     "output_type": "stream",
     "text": []
    }
   ],
   "source": [
    "ans_2 = fock_sim_np(**simulation_params)"
   ]
  },
  {
   "cell_type": "code",
   "execution_count": 35,
   "metadata": {
    "collapsed": false
   },
   "outputs": [
    {
     "name": "stderr",
     "output_type": "stream",
     "text": []
    }
   ],
   "source": [
    "ans_1 = fock_sim(**simulation_params)"
   ]
  },
  {
   "cell_type": "code",
   "execution_count": 39,
   "metadata": {
    "collapsed": false
   },
   "outputs": [
    {
     "data": {
      "image/png": "[encoded data removed]",
      "text/plain": [
       "<matplotlib.figure.Figure at 0x7f6b4fcc2ef0>"
      ]
     },
     "metadata": {},
     "output_type": "display_data"
    },
    {
     "data": {
      "image/png": "[encoded data removed]",
      "text/plain": [
       "<matplotlib.figure.Figure at 0x7f6b4fccde10>"
      ]
     },
     "metadata": {},
     "output_type": "display_data"
    }
   ],
   "source": [
    "plt.plot(ans_1[0],ans_1[1], label = 'numba')\n",
    "plt.plot(ans_2[0],ans_2[1], label='nonumba')\n",
    "plt.plot(ans_1[0],np.sqrt(ans_1[2]),'.-', label = 'numba-std')\n",
    "plt.plot(ans_2[0],np.sqrt(ans_2[2]),'.-', label='nonumba-std')\n",
    "\n",
    "plt.legend()\n",
    "plt.figure()\n",
    "plt.hist(ans_1[1]- ans_2[1],bins=30);"
   ]
  },
  {
   "cell_type": "code",
   "execution_count": null,
   "metadata": {
    "collapsed": true
   },
   "outputs": [],
   "source": []
  }
 ],
 "metadata": {
  "kernelspec": {
   "display_name": "Python 3",
   "language": "python",
   "name": "python3"
  },
  "language_info": {
   "codemirror_mode": {
    "name": "ipython",
    "version": 3
   },
   "file_extension": ".py",
   "mimetype": "text/x-python",
   "name": "python",
   "nbconvert_exporter": "python",
   "pygments_lexer": "ipython3",
   "version": "3.5.1"
  }
 },
 "nbformat": 4,
 "nbformat_minor": 0
}
