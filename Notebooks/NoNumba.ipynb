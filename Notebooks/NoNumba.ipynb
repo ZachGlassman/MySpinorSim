{
 "cells": [
  {
   "cell_type": "code",
   "execution_count": 1,
   "metadata": {
    "collapsed": false
   },
   "outputs": [
    {
     "name": "stderr",
     "output_type": "stream",
     "text": [
      "/home/zglass/miniconda3/lib/python3.5/site-packages/matplotlib/__init__.py:872: UserWarning: axes.color_cycle is deprecated and replaced with axes.prop_cycle; please use the latter.\n",
      "  warnings.warn(self.msg_depr % (key, alt_key))\n"
     ]
    }
   ],
   "source": [
    "import numpy as np\n",
    "from numba import autojit\n",
    "import matplotlib.pyplot as plt\n",
    "%matplotlib inline\n",
    "import seaborn\n",
    "\n",
    "import sys\n",
    "sys.path.insert(0, '/home/zglass/Documents/SpinorBECSimulation/FullQuantumFock')\n",
    "from FockStateSimulation import fock_sim\n",
    "from FockStateMinDep import fock_sim as fock_sim_np\n",
    "from FockStateMinDep import fock_sim_fast as fock_sim_fast\n",
    "import time"
   ]
  },
  {
   "cell_type": "code",
   "execution_count": 2,
   "metadata": {
    "collapsed": false
   },
   "outputs": [],
   "source": [
    "simulation_params = {\n",
    "    'total_time': .02, #simulated time (s),\n",
    "    'mag_time':0.1,\n",
    "    'dt':0.05e-4, #simulation time step,\n",
    "    'tauB' : 1e-3,\n",
    "    'c':30*2*np.pi,\n",
    "    'n_atoms':4000,\n",
    "    'bf':np.complex(0,0.3357712)\n",
    "    }"
   ]
  },
  {
   "cell_type": "code",
   "execution_count": 3,
   "metadata": {
    "collapsed": false
   },
   "outputs": [
    {
     "name": "stdout",
     "output_type": "stream",
     "text": [
      "0.08044147491455078\n"
     ]
    },
    {
     "name": "stderr",
     "output_type": "stream",
     "text": [
      "/home/zglass/miniconda3/lib/python3.5/site-packages/numpy/core/numeric.py:474: ComplexWarning: Casting complex values to real discards the imaginary part\n",
      "  return array(a, dtype, copy=False, order=order)\n",
      "/home/zglass/miniconda3/lib/python3.5/site-packages/scipy/integrate/_ode.py:1015: ComplexWarning: Casting complex values to real discards the imaginary part\n",
      "  tuple(self.call_args) + (f_params,)))\n"
     ]
    }
   ],
   "source": [
    "ts = time.time()\n",
    "ans_3 = fock_sim_fast(**simulation_params)\n",
    "te= time.time()\n",
    "print(te-ts)"
   ]
  },
  {
   "cell_type": "code",
   "execution_count": 4,
   "metadata": {
    "collapsed": false
   },
   "outputs": [
    {
     "name": "stdout",
     "output_type": "stream",
     "text": [
      "5.327136039733887\n"
     ]
    }
   ],
   "source": [
    "ts = time.time()\n",
    "ans_2 = fock_sim_np(**simulation_params)\n",
    "te= time.time()\n",
    "print(te-ts)"
   ]
  },
  {
   "cell_type": "code",
   "execution_count": 5,
   "metadata": {
    "collapsed": false
   },
   "outputs": [
    {
     "name": "stderr",
     "output_type": "stream",
     "text": [
      "                                                     "
     ]
    },
    {
     "name": "stdout",
     "output_type": "stream",
     "text": [
      "3.348750591278076\n"
     ]
    },
    {
     "name": "stderr",
     "output_type": "stream",
     "text": [
      "\r"
     ]
    }
   ],
   "source": [
    "ts = time.time()\n",
    "ans_1 = fock_sim(**simulation_params)\n",
    "te= time.time()\n",
    "print(te-ts)"
   ]
  },
  {
   "cell_type": "code",
   "execution_count": 6,
   "metadata": {
    "collapsed": false
   },
   "outputs": [
    {
     "data": {
      "text/plain": [
       "(array([  2.,   0.,   0.,   2.,   1.,   1.,   1.,   0.,   5.,   0.,   5.,\n",
       "          3.,   7.,   5.,   5.,  14.,  12.,  32.,  12.,  12.,   8.,   2.,\n",
       "          1.,   1.,   1.,   1.,   0.,   0.,   0.,   1.]),\n",
       " array([ -1.00044417e-11,  -9.44358665e-12,  -8.88273159e-12,\n",
       "         -8.32187652e-12,  -7.76102146e-12,  -7.20016639e-12,\n",
       "         -6.63931132e-12,  -6.07845626e-12,  -5.51760119e-12,\n",
       "         -4.95674612e-12,  -4.39589106e-12,  -3.83503599e-12,\n",
       "         -3.27418093e-12,  -2.71332586e-12,  -2.15247079e-12,\n",
       "         -1.59161573e-12,  -1.03076066e-12,  -4.69905596e-13,\n",
       "          9.09494702e-14,   6.51804536e-13,   1.21265960e-12,\n",
       "          1.77351467e-12,   2.33436973e-12,   2.89522480e-12,\n",
       "          3.45607987e-12,   4.01693493e-12,   4.57779000e-12,\n",
       "          5.13864507e-12,   5.69950013e-12,   6.26035520e-12,\n",
       "          6.82121026e-12]),\n",
       " <a list of 30 Patch objects>)"
      ]
     },
     "execution_count": 6,
     "metadata": {},
     "output_type": "execute_result"
    },
    {
     "data": {
      "image/png": "[encoded data removed]",
      "text/plain": [
       "<matplotlib.figure.Figure at 0x7f6a930cc6d8>"
      ]
     },
     "metadata": {},
     "output_type": "display_data"
    }
   ],
   "source": [
    "fig, ax = plt.subplots(2,1)\n",
    "ax[0].plot(ans_1[0],ans_1[1], label = 'numba')\n",
    "ax[0].plot(ans_2[0],ans_2[1], label='nonumba')\n",
    "ax[0].plot(ans_3[0],ans_3[1], label='nonumba_fast')\n",
    "ax[0].plot(ans_1[0],np.sqrt(ans_1[2]),'.-', label = 'numba-std')\n",
    "ax[0].plot(ans_2[0],np.sqrt(ans_2[2]),'.-', label='nonumba-std')\n",
    "ax[0].plot(ans_3[0],np.sqrt(ans_3[2]),'.-', label='nonumba-std_fast')\n",
    "\n",
    "ax[0].legend()\n",
    "ax[1].hist(ans_1[1]- ans_2[1],bins=30);\n",
    "#plt.savefig('npvsnumbacompare.png')"
   ]
  },
  {
   "cell_type": "code",
   "execution_count": 8,
   "metadata": {
    "collapsed": false
   },
   "outputs": [
    {
     "name": "stdout",
     "output_type": "stream",
     "text": [
      "1\n",
      "134\n"
     ]
    }
   ],
   "source": [
    "print(len(ans_3[0]))\n",
    "print(len(ans_2[0]))"
   ]
  },
  {
   "cell_type": "code",
   "execution_count": 10,
   "metadata": {
    "collapsed": false
   },
   "outputs": [],
   "source": [
    "from numpy.lib import scimath\n",
    "def q_to_b(q):\n",
    "    return scimath.sqrt(q/277)/(2*np.pi)\n",
    "    "
   ]
  },
  {
   "cell_type": "code",
   "execution_count": 11,
   "metadata": {
    "collapsed": false
   },
   "outputs": [
    {
     "name": "stdout",
     "output_type": "stream",
     "text": [
      "0.403056911175j\n"
     ]
    }
   ],
   "source": [
    "print(q_to_b(-5))"
   ]
  },
  {
   "cell_type": "code",
   "execution_count": null,
   "metadata": {
    "collapsed": true
   },
   "outputs": [],
   "source": [
    "0.33"
   ]
  }
 ],
 "metadata": {
  "kernelspec": {
   "display_name": "Python 3",
   "language": "python",
   "name": "python3"
  },
  "language_info": {
   "codemirror_mode": {
    "name": "ipython",
    "version": 3
   },
   "file_extension": ".py",
   "mimetype": "text/x-python",
   "name": "python",
   "nbconvert_exporter": "python",
   "pygments_lexer": "ipython3",
   "version": "3.5.1"
  }
 },
 "nbformat": 4,
 "nbformat_minor": 0
}
