{
 "cells": [
  {
   "cell_type": "code",
   "execution_count": 1,
   "metadata": {
    "collapsed": true
   },
   "outputs": [],
   "source": [
    "import numpy as np\n",
    "import matplotlib.pyplot as plt\n",
    "%matplotlib inline"
   ]
  },
  {
   "cell_type": "code",
   "execution_count": 10,
   "metadata": {
    "collapsed": false,
    "scrolled": true
   },
   "outputs": [
    {
     "data": {
      "image/png": "[encoded data removed]",
      "text/plain": [
       "<matplotlib.figure.Figure at 0x7f896b9cd9b0>"
      ]
     },
     "metadata": {},
     "output_type": "display_data"
    }
   ],
   "source": [
    "fock = np.loadtxt('fockout.txt')\n",
    "fockold = np.loadtxt('fockout8000.txt')\n",
    "mean = np.loadtxt('./MeanField/meanout.txt')\n",
    "meanold = np.loadtxt('./MeanField/meanout (1).txt')\n",
    "\n",
    "N = 8000\n",
    "N2 = 40000\n",
    "plt.plot(fock[0],fock[1],label = 'exact')\n",
    "plt.plot(mean[0],mean[1]*N2, label = 'mean field')\n",
    "plt.xlabel('')\n",
    "plt.legend()\n",
    "plt.savefig('testing.png')"
   ]
  },
  {
   "cell_type": "code",
   "execution_count": 342,
   "metadata": {
    "collapsed": true
   },
   "outputs": [],
   "source": [
    "from numpy.lib import scimath\n",
    "def generate_states(N,s):\n",
    "    \"\"\"generate quasi probability distribution from Chapman paper\"\"\"\n",
    "    scale = 1/np.sqrt(N)\n",
    "    sx = np.random.randn(s)*scale\n",
    "    sy = np.random.randn(s)*scale\n",
    "    nyz = np.random.randn(s)*scale\n",
    "    nxz = np.random.randn(s)*scale\n",
    "    txip = np.zeros(s)\n",
    "    txim = np.zeros(s)\n",
    "    for i in range(s):\n",
    "        if (sx[i]+nxz[i]) > 0:\n",
    "            txip[i] = np.arctan(-(sy[i] + nyz[i])/(sx[i] + nxz[i]))\n",
    "        else:\n",
    "            txip[i] = np.arctan(-(sy[i] + nyz[i])/(sx[i] + nxz[i]) )#+ np.pi)\n",
    "        if (sx[i]-nxz[i]) > 0:\n",
    "            txim[i] = np.arctan((sy[i]-nyz[i])/(sx[i]-nxz[i]))\n",
    "        else:\n",
    "            txim[i] = np.arctan((sy[i] - nyz[i])/(sx[i] - nxz[i]))# + np.pi)\n",
    " \n",
    "    \n",
    "   \n",
    "    a = (sx+nxz)/np.cos(txip)\n",
    "    b = (sx-nxz)/np.cos(txim)\n",
    "   \n",
    "\n",
    "    rho_0 = 1/2 + scimath.sqrt(1/4-(a**2+b**2)/8)\n",
    "    m = 1/rho_0*(a**2-b**2)/8\n",
    "\n",
    "            \n",
    "    states = np.zeros((len(m),3),dtype = complex)\n",
    "    \n",
    "    states[:,0] = scimath.sqrt((1-rho_0+m)/2) * np.exp(txip*1j)\n",
    "    states[:,1] = scimath.sqrt(rho_0)\n",
    "    states[:,2] = scimath.sqrt((1-rho_0-m)/2) * np.exp(txim*1j)\n",
    "    \n",
    "    return states,txip,txim"
   ]
  },
  {
   "cell_type": "code",
   "execution_count": 343,
   "metadata": {
    "collapsed": false
   },
   "outputs": [],
   "source": [
    "N=45000\n",
    "states,tp,tm = generate_states(N,50000)"
   ]
  },
  {
   "cell_type": "code",
   "execution_count": 344,
   "metadata": {
    "collapsed": false,
    "scrolled": true
   },
   "outputs": [
    {
     "data": {
      "text/plain": [
       "(44994, 45000)"
      ]
     },
     "execution_count": 344,
     "metadata": {},
     "output_type": "execute_result"
    },
    {
     "data": {
      "image/png": "[encoded data removed]",
      "text/plain": [
       "<matplotlib.figure.Figure at 0x7f849bd57c50>"
      ]
     },
     "metadata": {},
     "output_type": "display_data"
    }
   ],
   "source": [
    "def msqr(x):\n",
    "    return np.conj(x) * x\n",
    "plt.hist(msqr(states[:,1]).real*N, bins =500,normed = True);\n",
    "plt.xlim([44994,45000])"
   ]
  },
  {
   "cell_type": "code",
   "execution_count": 345,
   "metadata": {
    "collapsed": false
   },
   "outputs": [
    {
     "data": {
      "text/plain": [
       "(-2.5, 2.5)"
      ]
     },
     "execution_count": 345,
     "metadata": {},
     "output_type": "execute_result"
    },
    {
     "data": {
      "image/png": "[encoded data removed]",
      "text/plain": [
       "<matplotlib.figure.Figure at 0x7f849b4f9da0>"
      ]
     },
     "metadata": {},
     "output_type": "display_data"
    }
   ],
   "source": [
    "\n",
    "plt.hist((msqr(states[:,2]).real-msqr(states[:,0]).real)*N, bins =500,normed = True);\n",
    "plt.xlim([-2.5,2.5])"
   ]
  },
  {
   "cell_type": "code",
   "execution_count": 346,
   "metadata": {
    "collapsed": true
   },
   "outputs": [],
   "source": [
    "m=(msqr(states[:,2]).real-msqr(states[:,0]).real)*N\n",
    "mm = (msqr(states[:,2]).real+msqr(states[:,0]).real)*N\n",
    "r = msqr(states[:,1]).real*N"
   ]
  },
  {
   "cell_type": "code",
   "execution_count": 347,
   "metadata": {
    "collapsed": false
   },
   "outputs": [
    {
     "data": {
      "text/plain": [
       "0.0031459399690960191"
      ]
     },
     "execution_count": 347,
     "metadata": {},
     "output_type": "execute_result"
    }
   ],
   "source": [
    "np.mean(m)"
   ]
  },
  {
   "cell_type": "code",
   "execution_count": 348,
   "metadata": {
    "collapsed": false
   },
   "outputs": [
    {
     "data": {
      "text/plain": [
       "0.70657316116127111"
      ]
     },
     "execution_count": 348,
     "metadata": {},
     "output_type": "execute_result"
    }
   ],
   "source": [
    "np.std(m)"
   ]
  },
  {
   "cell_type": "code",
   "execution_count": 349,
   "metadata": {
    "collapsed": false
   },
   "outputs": [
    {
     "data": {
      "text/plain": [
       "0.70710678118654746"
      ]
     },
     "execution_count": 349,
     "metadata": {},
     "output_type": "execute_result"
    }
   ],
   "source": [
    "1/np.sqrt(2)"
   ]
  },
  {
   "cell_type": "code",
   "execution_count": 350,
   "metadata": {
    "collapsed": false
   },
   "outputs": [
    {
     "data": {
      "text/plain": [
       "44999.002345181274"
      ]
     },
     "execution_count": 350,
     "metadata": {},
     "output_type": "execute_result"
    }
   ],
   "source": [
    "np.mean(r)"
   ]
  },
  {
   "cell_type": "code",
   "execution_count": 351,
   "metadata": {
    "collapsed": false
   },
   "outputs": [
    {
     "data": {
      "text/plain": [
       "0.70291652107684166"
      ]
     },
     "execution_count": 351,
     "metadata": {},
     "output_type": "execute_result"
    }
   ],
   "source": [
    "np.std(r)"
   ]
  },
  {
   "cell_type": "code",
   "execution_count": 352,
   "metadata": {
    "collapsed": false
   },
   "outputs": [
    {
     "data": {
      "image/png": "[encoded data removed]",
      "text/plain": [
       "<matplotlib.figure.Figure at 0x7f849c0965f8>"
      ]
     },
     "metadata": {},
     "output_type": "display_data"
    }
   ],
   "source": [
    "plt.hist(tp);"
   ]
  },
  {
   "cell_type": "code",
   "execution_count": 336,
   "metadata": {
    "collapsed": false
   },
   "outputs": [
    {
     "data": {
      "image/png": "[encoded data removed]",
      "text/plain": [
       "<matplotlib.figure.Figure at 0x7f849bd696d8>"
      ]
     },
     "metadata": {},
     "output_type": "display_data"
    }
   ],
   "source": [
    "plt.hist(tm);"
   ]
  },
  {
   "cell_type": "code",
   "execution_count": 339,
   "metadata": {
    "collapsed": true
   },
   "outputs": [],
   "source": [
    "a= np.random.randn(1000)/40\n",
    "b= np.random.randn(1000)/40\n",
    "c= np.random.randn(1000)/40\n",
    "d= np.random.randn(1000)/40"
   ]
  },
  {
   "cell_type": "code",
   "execution_count": 340,
   "metadata": {
    "collapsed": false
   },
   "outputs": [
    {
     "data": {
      "text/plain": [
       "(-50, 50)"
      ]
     },
     "execution_count": 340,
     "metadata": {},
     "output_type": "execute_result"
    },
    {
     "data": {
      "image/png": "[encoded data removed]",
      "text/plain": [
       "<matplotlib.figure.Figure at 0x7f849b3de390>"
      ]
     },
     "metadata": {},
     "output_type": "display_data"
    }
   ],
   "source": [
    "plt.hist(-(a+b)/(c+d),bins = 1000,normed=True);\n",
    "plt.xlim([-50,50])"
   ]
  },
  {
   "cell_type": "code",
   "execution_count": 341,
   "metadata": {
    "collapsed": false
   },
   "outputs": [
    {
     "data": {
      "text/plain": [
       "(-50, 50)"
      ]
     },
     "execution_count": 341,
     "metadata": {},
     "output_type": "execute_result"
    },
    {
     "data": {
      "image/png": "[encoded data removed]",
      "text/plain": [
       "<matplotlib.figure.Figure at 0x7f849b5704e0>"
      ]
     },
     "metadata": {},
     "output_type": "display_data"
    }
   ],
   "source": [
    "plt.hist((a-b)/(c-d),bins = 1000,normed=True);\n",
    "plt.xlim([-50,50])"
   ]
  },
  {
   "cell_type": "code",
   "execution_count": null,
   "metadata": {
    "collapsed": true
   },
   "outputs": [],
   "source": []
  }
 ],
 "metadata": {
  "kernelspec": {
   "display_name": "Python 3",
   "language": "python",
   "name": "python3"
  },
  "language_info": {
   "codemirror_mode": {
    "name": "ipython",
    "version": 3
   },
   "file_extension": ".py",
   "mimetype": "text/x-python",
   "name": "python",
   "nbconvert_exporter": "python",
   "pygments_lexer": "ipython3",
   "version": "3.4.3"
  }
 },
 "nbformat": 4,
 "nbformat_minor": 0
}
